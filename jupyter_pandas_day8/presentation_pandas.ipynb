{
 "cells": [
  {
   "cell_type": "markdown",
   "metadata": {
    "toc": true
   },
   "source": [
    "<h1>Table of Contents<span class=\"tocSkip\"></span></h1>\n",
    "<div class=\"toc\"><ul class=\"toc-item\"><li><span><a href=\"#Importing-datasets\" data-toc-modified-id=\"Importing-datasets-1\"><span class=\"toc-item-num\">1&nbsp;&nbsp;</span>Importing datasets</a></span></li><li><span><a href=\"#Viewing-data\" data-toc-modified-id=\"Viewing-data-2\"><span class=\"toc-item-num\">2&nbsp;&nbsp;</span>Viewing data</a></span></li><li><span><a href=\"#Slicing\" data-toc-modified-id=\"Slicing-3\"><span class=\"toc-item-num\">3&nbsp;&nbsp;</span>Slicing</a></span><ul class=\"toc-item\"><li><span><a href=\"#By-the-number:-iloc\" data-toc-modified-id=\"By-the-number:-iloc-3.1\"><span class=\"toc-item-num\">3.1&nbsp;&nbsp;</span>By the number: iloc</a></span></li><li><span><a href=\"#By-the-name:-loc\" data-toc-modified-id=\"By-the-name:-loc-3.2\"><span class=\"toc-item-num\">3.2&nbsp;&nbsp;</span>By the name: loc</a></span></li><li><span><a href=\"#Slice-a-whole-column\" data-toc-modified-id=\"Slice-a-whole-column-3.3\"><span class=\"toc-item-num\">3.3&nbsp;&nbsp;</span>Slice a whole column</a></span></li><li><span><a href=\"#By-complex-logic\" data-toc-modified-id=\"By-complex-logic-3.4\"><span class=\"toc-item-num\">3.4&nbsp;&nbsp;</span>By complex logic</a></span></li></ul></li><li><span><a href=\"#Common-operations\" data-toc-modified-id=\"Common-operations-4\"><span class=\"toc-item-num\">4&nbsp;&nbsp;</span>Common operations</a></span><ul class=\"toc-item\"><li><span><a href=\"#Assigning-new-columns\" data-toc-modified-id=\"Assigning-new-columns-4.1\"><span class=\"toc-item-num\">4.1&nbsp;&nbsp;</span>Assigning new columns</a></span></li><li><span><a href=\"#Transformations\" data-toc-modified-id=\"Transformations-4.2\"><span class=\"toc-item-num\">4.2&nbsp;&nbsp;</span>Transformations</a></span><ul class=\"toc-item\"><li><span><a href=\"#Simple-arithmetic\" data-toc-modified-id=\"Simple-arithmetic-4.2.1\"><span class=\"toc-item-num\">4.2.1&nbsp;&nbsp;</span>Simple arithmetic</a></span></li><li><span><a href=\"#Lambda-functions\" data-toc-modified-id=\"Lambda-functions-4.2.2\"><span class=\"toc-item-num\">4.2.2&nbsp;&nbsp;</span>Lambda functions</a></span></li></ul></li><li><span><a href=\"#Dropping-columns\" data-toc-modified-id=\"Dropping-columns-4.3\"><span class=\"toc-item-num\">4.3&nbsp;&nbsp;</span>Dropping columns</a></span></li><li><span><a href=\"#Setting-a-different-index\" data-toc-modified-id=\"Setting-a-different-index-4.4\"><span class=\"toc-item-num\">4.4&nbsp;&nbsp;</span>Setting a different index</a></span></li><li><span><a href=\"#Assigning-single-values\" data-toc-modified-id=\"Assigning-single-values-4.5\"><span class=\"toc-item-num\">4.5&nbsp;&nbsp;</span>Assigning single values</a></span></li></ul></li><li><span><a href=\"#Aggregate-functions\" data-toc-modified-id=\"Aggregate-functions-5\"><span class=\"toc-item-num\">5&nbsp;&nbsp;</span>Aggregate functions</a></span><ul class=\"toc-item\"><li><span><a href=\"#Grouping\" data-toc-modified-id=\"Grouping-5.1\"><span class=\"toc-item-num\">5.1&nbsp;&nbsp;</span>Grouping</a></span></li><li><span><a href=\"#Pivoting\" data-toc-modified-id=\"Pivoting-5.2\"><span class=\"toc-item-num\">5.2&nbsp;&nbsp;</span>Pivoting</a></span></li></ul></li><li><span><a href=\"#Pandas-plotting\" data-toc-modified-id=\"Pandas-plotting-6\"><span class=\"toc-item-num\">6&nbsp;&nbsp;</span>Pandas plotting</a></span><ul class=\"toc-item\"><li><span><a href=\"#Simple-plots\" data-toc-modified-id=\"Simple-plots-6.1\"><span class=\"toc-item-num\">6.1&nbsp;&nbsp;</span>Simple plots</a></span></li><li><span><a href=\"#Scatter-matrix\" data-toc-modified-id=\"Scatter-matrix-6.2\"><span class=\"toc-item-num\">6.2&nbsp;&nbsp;</span>Scatter matrix</a></span></li></ul></li><li><span><a href=\"#Pandas-statistics\" data-toc-modified-id=\"Pandas-statistics-7\"><span class=\"toc-item-num\">7&nbsp;&nbsp;</span>Pandas statistics</a></span></li></ul></div>"
   ]
  },
  {
   "cell_type": "code",
   "execution_count": 1,
   "metadata": {
    "ExecuteTime": {
     "end_time": "2020-04-10T08:42:46.149674Z",
     "start_time": "2020-04-10T08:42:45.827375Z"
    },
    "run_control": {
     "marked": false
    }
   },
   "outputs": [],
   "source": [
    "import pandas as pd\n",
    "from pathlib import Path"
   ]
  },
  {
   "cell_type": "code",
   "execution_count": 93,
   "metadata": {},
   "outputs": [],
   "source": [
    "import warnings\n",
    "warnings.filterwarnings('ignore')"
   ]
  },
  {
   "cell_type": "markdown",
   "metadata": {},
   "source": [
    "# Importing datasets"
   ]
  },
  {
   "cell_type": "code",
   "execution_count": 19,
   "metadata": {
    "ExecuteTime": {
     "end_time": "2020-04-10T08:42:46.170731Z",
     "start_time": "2020-04-10T08:42:46.151137Z"
    }
   },
   "outputs": [],
   "source": [
    "iris_data = pd.read_csv(Path(\"iris.csv\"), index_col = 0)\n",
    "tips_data = pd.read_csv(Path(\"tips.csv\"), index_col = 0)\n",
    "gene_mapping = pd.read_csv(Path(\"gene_mapping.tsv\"), sep=\"\\t\", index_col = 0)"
   ]
  },
  {
   "cell_type": "markdown",
   "metadata": {},
   "source": [
    "# Viewing data"
   ]
  },
  {
   "cell_type": "code",
   "execution_count": 24,
   "metadata": {
    "ExecuteTime": {
     "end_time": "2020-04-10T08:42:46.185575Z",
     "start_time": "2020-04-10T08:42:46.172307Z"
    }
   },
   "outputs": [
    {
     "data": {
      "text/html": [
       "<div>\n",
       "<style scoped>\n",
       "    .dataframe tbody tr th:only-of-type {\n",
       "        vertical-align: middle;\n",
       "    }\n",
       "\n",
       "    .dataframe tbody tr th {\n",
       "        vertical-align: top;\n",
       "    }\n",
       "\n",
       "    .dataframe thead th {\n",
       "        text-align: right;\n",
       "    }\n",
       "</style>\n",
       "<table border=\"1\" class=\"dataframe\">\n",
       "  <thead>\n",
       "    <tr style=\"text-align: right;\">\n",
       "      <th></th>\n",
       "      <th>gene_number</th>\n",
       "      <th>ensembl_gene</th>\n",
       "      <th>ensembl_trans</th>\n",
       "      <th>chebl_id</th>\n",
       "      <th>uniprot_gname</th>\n",
       "      <th>entrez_id</th>\n",
       "      <th>wikigene</th>\n",
       "    </tr>\n",
       "    <tr>\n",
       "      <th>symbol</th>\n",
       "      <th></th>\n",
       "      <th></th>\n",
       "      <th></th>\n",
       "      <th></th>\n",
       "      <th></th>\n",
       "      <th></th>\n",
       "      <th></th>\n",
       "    </tr>\n",
       "  </thead>\n",
       "  <tbody>\n",
       "    <tr>\n",
       "      <th>AOC3</th>\n",
       "      <td>8639.1</td>\n",
       "      <td>ENSG00000131471</td>\n",
       "      <td>ENST00000308423</td>\n",
       "      <td>CHEMBL3437</td>\n",
       "      <td>Q16853</td>\n",
       "      <td>8639.0</td>\n",
       "      <td>8639.0</td>\n",
       "    </tr>\n",
       "    <tr>\n",
       "      <th>AOC1</th>\n",
       "      <td>26.1</td>\n",
       "      <td>ENSG00000002726</td>\n",
       "      <td>ENST00000493429</td>\n",
       "      <td>CHEMBL2118</td>\n",
       "      <td>P19801</td>\n",
       "      <td>26.0</td>\n",
       "      <td>26.0</td>\n",
       "    </tr>\n",
       "    <tr>\n",
       "      <th>AOC2</th>\n",
       "      <td>314.2</td>\n",
       "      <td>ENSG00000131480</td>\n",
       "      <td>ENST00000253799</td>\n",
       "      <td>CHEMBL4112</td>\n",
       "      <td>O75106</td>\n",
       "      <td>314.0</td>\n",
       "      <td>314.0</td>\n",
       "    </tr>\n",
       "    <tr>\n",
       "      <th>AOC2</th>\n",
       "      <td>314.1</td>\n",
       "      <td>ENSG00000131480</td>\n",
       "      <td>ENST00000253799</td>\n",
       "      <td>CHEMBL4112</td>\n",
       "      <td>O75106</td>\n",
       "      <td>314.0</td>\n",
       "      <td>314.0</td>\n",
       "    </tr>\n",
       "    <tr>\n",
       "      <th>CYP24A1</th>\n",
       "      <td>1591.1</td>\n",
       "      <td>ENSG00000019186</td>\n",
       "      <td>ENST00000216862</td>\n",
       "      <td>CHEMBL4521</td>\n",
       "      <td>Q07973</td>\n",
       "      <td>1591.0</td>\n",
       "      <td>1591.0</td>\n",
       "    </tr>\n",
       "    <tr>\n",
       "      <th>CYP27B1</th>\n",
       "      <td>1594.1</td>\n",
       "      <td>ENSG00000111012</td>\n",
       "      <td>ENST00000228606</td>\n",
       "      <td>CHEMBL5993</td>\n",
       "      <td>O15528</td>\n",
       "      <td>1594.0</td>\n",
       "      <td>1594.0</td>\n",
       "    </tr>\n",
       "    <tr>\n",
       "      <th>SDS</th>\n",
       "      <td>10993.1</td>\n",
       "      <td>ENSG00000135094</td>\n",
       "      <td>ENST00000257549</td>\n",
       "      <td>NaN</td>\n",
       "      <td>P20132</td>\n",
       "      <td>10993.0</td>\n",
       "      <td>10993.0</td>\n",
       "    </tr>\n",
       "    <tr>\n",
       "      <th>SULT1A3</th>\n",
       "      <td>6818.1</td>\n",
       "      <td>ENSG00000261052</td>\n",
       "      <td>ENST00000338971</td>\n",
       "      <td>CHEMBL1743293</td>\n",
       "      <td>P0DMM9</td>\n",
       "      <td>6818.0</td>\n",
       "      <td>6818.0</td>\n",
       "    </tr>\n",
       "    <tr>\n",
       "      <th>SLC25A21</th>\n",
       "      <td>89874.1</td>\n",
       "      <td>ENSG00000183032</td>\n",
       "      <td>ENST00000555449</td>\n",
       "      <td>NaN</td>\n",
       "      <td>Q9BQT8</td>\n",
       "      <td>89874.0</td>\n",
       "      <td>89874.0</td>\n",
       "    </tr>\n",
       "    <tr>\n",
       "      <th>LDHAL6B</th>\n",
       "      <td>92483.1</td>\n",
       "      <td>ENSG00000171989</td>\n",
       "      <td>ENST00000307144</td>\n",
       "      <td>NaN</td>\n",
       "      <td>Q9BYZ2</td>\n",
       "      <td>92483.0</td>\n",
       "      <td>92483.0</td>\n",
       "    </tr>\n",
       "    <tr>\n",
       "      <th>LDHC</th>\n",
       "      <td>3948.2</td>\n",
       "      <td>ENSG00000166796</td>\n",
       "      <td>ENST00000541669</td>\n",
       "      <td>NaN</td>\n",
       "      <td>P07864</td>\n",
       "      <td>3948.0</td>\n",
       "      <td>3948.0</td>\n",
       "    </tr>\n",
       "    <tr>\n",
       "      <th>UEVLD</th>\n",
       "      <td>55293.1</td>\n",
       "      <td>ENSG00000151116</td>\n",
       "      <td>ENST00000396197</td>\n",
       "      <td>NaN</td>\n",
       "      <td>Q8IX04</td>\n",
       "      <td>55293.0</td>\n",
       "      <td>55293.0</td>\n",
       "    </tr>\n",
       "    <tr>\n",
       "      <th>LDHB</th>\n",
       "      <td>3945.1</td>\n",
       "      <td>ENSG00000111716</td>\n",
       "      <td>ENST00000396076</td>\n",
       "      <td>CHEMBL4940</td>\n",
       "      <td>P07195</td>\n",
       "      <td>3945.0</td>\n",
       "      <td>3945.0</td>\n",
       "    </tr>\n",
       "    <tr>\n",
       "      <th>LDHA</th>\n",
       "      <td>3939.1</td>\n",
       "      <td>ENSG00000134333</td>\n",
       "      <td>ENST00000422447</td>\n",
       "      <td>CHEMBL4835</td>\n",
       "      <td>P00338</td>\n",
       "      <td>3939.0</td>\n",
       "      <td>3939.0</td>\n",
       "    </tr>\n",
       "    <tr>\n",
       "      <th>LDHAL6A</th>\n",
       "      <td>160287.1</td>\n",
       "      <td>ENSG00000166800</td>\n",
       "      <td>ENST00000396213</td>\n",
       "      <td>NaN</td>\n",
       "      <td>Q6ZMR3</td>\n",
       "      <td>160287.0</td>\n",
       "      <td>160287.0</td>\n",
       "    </tr>\n",
       "    <tr>\n",
       "      <th>LDHC</th>\n",
       "      <td>3948.1</td>\n",
       "      <td>ENSG00000166796</td>\n",
       "      <td>ENST00000541669</td>\n",
       "      <td>NaN</td>\n",
       "      <td>P07864</td>\n",
       "      <td>3948.0</td>\n",
       "      <td>3948.0</td>\n",
       "    </tr>\n",
       "    <tr>\n",
       "      <th>SLC16A3</th>\n",
       "      <td>9123.1</td>\n",
       "      <td>ENSG00000141526</td>\n",
       "      <td>ENST00000584689</td>\n",
       "      <td>NaN</td>\n",
       "      <td>P57787</td>\n",
       "      <td>9123.0</td>\n",
       "      <td>9123.0</td>\n",
       "    </tr>\n",
       "    <tr>\n",
       "      <th>SLC16A7</th>\n",
       "      <td>9194.1</td>\n",
       "      <td>ENSG00000118596</td>\n",
       "      <td>ENST00000552432</td>\n",
       "      <td>CHEMBL2073704</td>\n",
       "      <td>O60669</td>\n",
       "      <td>9194.0</td>\n",
       "      <td>9194.0</td>\n",
       "    </tr>\n",
       "    <tr>\n",
       "      <th>SLC16A1</th>\n",
       "      <td>6566.1</td>\n",
       "      <td>ENSG00000155380</td>\n",
       "      <td>ENST00000369626</td>\n",
       "      <td>CHEMBL4360</td>\n",
       "      <td>P53985</td>\n",
       "      <td>6566.0</td>\n",
       "      <td>6566.0</td>\n",
       "    </tr>\n",
       "    <tr>\n",
       "      <th>SLC4A5</th>\n",
       "      <td>57835.3</td>\n",
       "      <td>ENSG00000188687</td>\n",
       "      <td>ENST00000394019</td>\n",
       "      <td>NaN</td>\n",
       "      <td>Q9BY07</td>\n",
       "      <td>57835.0</td>\n",
       "      <td>57835.0</td>\n",
       "    </tr>\n",
       "  </tbody>\n",
       "</table>\n",
       "</div>"
      ],
      "text/plain": [
       "          gene_number     ensembl_gene    ensembl_trans       chebl_id  \\\n",
       "symbol                                                                   \n",
       "AOC3           8639.1  ENSG00000131471  ENST00000308423     CHEMBL3437   \n",
       "AOC1             26.1  ENSG00000002726  ENST00000493429     CHEMBL2118   \n",
       "AOC2            314.2  ENSG00000131480  ENST00000253799     CHEMBL4112   \n",
       "AOC2            314.1  ENSG00000131480  ENST00000253799     CHEMBL4112   \n",
       "CYP24A1        1591.1  ENSG00000019186  ENST00000216862     CHEMBL4521   \n",
       "CYP27B1        1594.1  ENSG00000111012  ENST00000228606     CHEMBL5993   \n",
       "SDS           10993.1  ENSG00000135094  ENST00000257549            NaN   \n",
       "SULT1A3        6818.1  ENSG00000261052  ENST00000338971  CHEMBL1743293   \n",
       "SLC25A21      89874.1  ENSG00000183032  ENST00000555449            NaN   \n",
       "LDHAL6B       92483.1  ENSG00000171989  ENST00000307144            NaN   \n",
       "LDHC           3948.2  ENSG00000166796  ENST00000541669            NaN   \n",
       "UEVLD         55293.1  ENSG00000151116  ENST00000396197            NaN   \n",
       "LDHB           3945.1  ENSG00000111716  ENST00000396076     CHEMBL4940   \n",
       "LDHA           3939.1  ENSG00000134333  ENST00000422447     CHEMBL4835   \n",
       "LDHAL6A      160287.1  ENSG00000166800  ENST00000396213            NaN   \n",
       "LDHC           3948.1  ENSG00000166796  ENST00000541669            NaN   \n",
       "SLC16A3        9123.1  ENSG00000141526  ENST00000584689            NaN   \n",
       "SLC16A7        9194.1  ENSG00000118596  ENST00000552432  CHEMBL2073704   \n",
       "SLC16A1        6566.1  ENSG00000155380  ENST00000369626     CHEMBL4360   \n",
       "SLC4A5        57835.3  ENSG00000188687  ENST00000394019            NaN   \n",
       "\n",
       "         uniprot_gname  entrez_id  wikigene  \n",
       "symbol                                       \n",
       "AOC3            Q16853     8639.0    8639.0  \n",
       "AOC1            P19801       26.0      26.0  \n",
       "AOC2            O75106      314.0     314.0  \n",
       "AOC2            O75106      314.0     314.0  \n",
       "CYP24A1         Q07973     1591.0    1591.0  \n",
       "CYP27B1         O15528     1594.0    1594.0  \n",
       "SDS             P20132    10993.0   10993.0  \n",
       "SULT1A3         P0DMM9     6818.0    6818.0  \n",
       "SLC25A21        Q9BQT8    89874.0   89874.0  \n",
       "LDHAL6B         Q9BYZ2    92483.0   92483.0  \n",
       "LDHC            P07864     3948.0    3948.0  \n",
       "UEVLD           Q8IX04    55293.0   55293.0  \n",
       "LDHB            P07195     3945.0    3945.0  \n",
       "LDHA            P00338     3939.0    3939.0  \n",
       "LDHAL6A         Q6ZMR3   160287.0  160287.0  \n",
       "LDHC            P07864     3948.0    3948.0  \n",
       "SLC16A3         P57787     9123.0    9123.0  \n",
       "SLC16A7         O60669     9194.0    9194.0  \n",
       "SLC16A1         P53985     6566.0    6566.0  \n",
       "SLC4A5          Q9BY07    57835.0   57835.0  "
      ]
     },
     "execution_count": 24,
     "metadata": {},
     "output_type": "execute_result"
    }
   ],
   "source": [
    "gene_mapping.head(20)"
   ]
  },
  {
   "cell_type": "code",
   "execution_count": 21,
   "metadata": {
    "ExecuteTime": {
     "end_time": "2020-04-10T08:42:46.199302Z",
     "start_time": "2020-04-10T08:42:46.187251Z"
    }
   },
   "outputs": [
    {
     "data": {
      "text/html": [
       "<div>\n",
       "<style scoped>\n",
       "    .dataframe tbody tr th:only-of-type {\n",
       "        vertical-align: middle;\n",
       "    }\n",
       "\n",
       "    .dataframe tbody tr th {\n",
       "        vertical-align: top;\n",
       "    }\n",
       "\n",
       "    .dataframe thead th {\n",
       "        text-align: right;\n",
       "    }\n",
       "</style>\n",
       "<table border=\"1\" class=\"dataframe\">\n",
       "  <thead>\n",
       "    <tr style=\"text-align: right;\">\n",
       "      <th></th>\n",
       "      <th>Unnamed: 0.1</th>\n",
       "      <th>total_bill</th>\n",
       "      <th>tip</th>\n",
       "      <th>sex</th>\n",
       "      <th>smoker</th>\n",
       "      <th>day</th>\n",
       "      <th>time</th>\n",
       "      <th>size</th>\n",
       "    </tr>\n",
       "  </thead>\n",
       "  <tbody>\n",
       "    <tr>\n",
       "      <th>0</th>\n",
       "      <td>0</td>\n",
       "      <td>16.99</td>\n",
       "      <td>1.01</td>\n",
       "      <td>Female</td>\n",
       "      <td>No</td>\n",
       "      <td>Sun</td>\n",
       "      <td>Dinner</td>\n",
       "      <td>2</td>\n",
       "    </tr>\n",
       "    <tr>\n",
       "      <th>1</th>\n",
       "      <td>1</td>\n",
       "      <td>10.34</td>\n",
       "      <td>1.66</td>\n",
       "      <td>Male</td>\n",
       "      <td>No</td>\n",
       "      <td>Sun</td>\n",
       "      <td>Dinner</td>\n",
       "      <td>3</td>\n",
       "    </tr>\n",
       "    <tr>\n",
       "      <th>2</th>\n",
       "      <td>2</td>\n",
       "      <td>21.01</td>\n",
       "      <td>3.50</td>\n",
       "      <td>Male</td>\n",
       "      <td>No</td>\n",
       "      <td>Sun</td>\n",
       "      <td>Dinner</td>\n",
       "      <td>3</td>\n",
       "    </tr>\n",
       "    <tr>\n",
       "      <th>3</th>\n",
       "      <td>3</td>\n",
       "      <td>23.68</td>\n",
       "      <td>3.31</td>\n",
       "      <td>Male</td>\n",
       "      <td>No</td>\n",
       "      <td>Sun</td>\n",
       "      <td>Dinner</td>\n",
       "      <td>2</td>\n",
       "    </tr>\n",
       "    <tr>\n",
       "      <th>4</th>\n",
       "      <td>4</td>\n",
       "      <td>24.59</td>\n",
       "      <td>3.61</td>\n",
       "      <td>Female</td>\n",
       "      <td>No</td>\n",
       "      <td>Sun</td>\n",
       "      <td>Dinner</td>\n",
       "      <td>4</td>\n",
       "    </tr>\n",
       "  </tbody>\n",
       "</table>\n",
       "</div>"
      ],
      "text/plain": [
       "   Unnamed: 0.1  total_bill   tip     sex smoker  day    time  size\n",
       "0             0       16.99  1.01  Female     No  Sun  Dinner     2\n",
       "1             1       10.34  1.66    Male     No  Sun  Dinner     3\n",
       "2             2       21.01  3.50    Male     No  Sun  Dinner     3\n",
       "3             3       23.68  3.31    Male     No  Sun  Dinner     2\n",
       "4             4       24.59  3.61  Female     No  Sun  Dinner     4"
      ]
     },
     "execution_count": 21,
     "metadata": {},
     "output_type": "execute_result"
    }
   ],
   "source": [
    "tips_data.head()"
   ]
  },
  {
   "cell_type": "code",
   "execution_count": 22,
   "metadata": {
    "ExecuteTime": {
     "end_time": "2020-04-10T08:42:46.213304Z",
     "start_time": "2020-04-10T08:42:46.200546Z"
    }
   },
   "outputs": [
    {
     "data": {
      "text/html": [
       "<div>\n",
       "<style scoped>\n",
       "    .dataframe tbody tr th:only-of-type {\n",
       "        vertical-align: middle;\n",
       "    }\n",
       "\n",
       "    .dataframe tbody tr th {\n",
       "        vertical-align: top;\n",
       "    }\n",
       "\n",
       "    .dataframe thead th {\n",
       "        text-align: right;\n",
       "    }\n",
       "</style>\n",
       "<table border=\"1\" class=\"dataframe\">\n",
       "  <thead>\n",
       "    <tr style=\"text-align: right;\">\n",
       "      <th></th>\n",
       "      <th>sepal_length</th>\n",
       "      <th>sepal_width</th>\n",
       "      <th>petal_length</th>\n",
       "      <th>petal_width</th>\n",
       "      <th>species</th>\n",
       "    </tr>\n",
       "  </thead>\n",
       "  <tbody>\n",
       "    <tr>\n",
       "      <th>0</th>\n",
       "      <td>5.1</td>\n",
       "      <td>3.5</td>\n",
       "      <td>1.4</td>\n",
       "      <td>0.2</td>\n",
       "      <td>setosa</td>\n",
       "    </tr>\n",
       "    <tr>\n",
       "      <th>1</th>\n",
       "      <td>4.9</td>\n",
       "      <td>3.0</td>\n",
       "      <td>1.4</td>\n",
       "      <td>0.2</td>\n",
       "      <td>setosa</td>\n",
       "    </tr>\n",
       "    <tr>\n",
       "      <th>2</th>\n",
       "      <td>4.7</td>\n",
       "      <td>3.2</td>\n",
       "      <td>1.3</td>\n",
       "      <td>0.2</td>\n",
       "      <td>setosa</td>\n",
       "    </tr>\n",
       "    <tr>\n",
       "      <th>3</th>\n",
       "      <td>4.6</td>\n",
       "      <td>3.1</td>\n",
       "      <td>1.5</td>\n",
       "      <td>0.2</td>\n",
       "      <td>setosa</td>\n",
       "    </tr>\n",
       "    <tr>\n",
       "      <th>4</th>\n",
       "      <td>5.0</td>\n",
       "      <td>3.6</td>\n",
       "      <td>1.4</td>\n",
       "      <td>0.2</td>\n",
       "      <td>setosa</td>\n",
       "    </tr>\n",
       "    <tr>\n",
       "      <th>5</th>\n",
       "      <td>5.4</td>\n",
       "      <td>3.9</td>\n",
       "      <td>1.7</td>\n",
       "      <td>0.4</td>\n",
       "      <td>setosa</td>\n",
       "    </tr>\n",
       "    <tr>\n",
       "      <th>6</th>\n",
       "      <td>4.6</td>\n",
       "      <td>3.4</td>\n",
       "      <td>1.4</td>\n",
       "      <td>0.3</td>\n",
       "      <td>setosa</td>\n",
       "    </tr>\n",
       "    <tr>\n",
       "      <th>7</th>\n",
       "      <td>5.0</td>\n",
       "      <td>3.4</td>\n",
       "      <td>1.5</td>\n",
       "      <td>0.2</td>\n",
       "      <td>setosa</td>\n",
       "    </tr>\n",
       "    <tr>\n",
       "      <th>8</th>\n",
       "      <td>4.4</td>\n",
       "      <td>2.9</td>\n",
       "      <td>1.4</td>\n",
       "      <td>0.2</td>\n",
       "      <td>setosa</td>\n",
       "    </tr>\n",
       "    <tr>\n",
       "      <th>9</th>\n",
       "      <td>4.9</td>\n",
       "      <td>3.1</td>\n",
       "      <td>1.5</td>\n",
       "      <td>0.1</td>\n",
       "      <td>setosa</td>\n",
       "    </tr>\n",
       "    <tr>\n",
       "      <th>10</th>\n",
       "      <td>5.4</td>\n",
       "      <td>3.7</td>\n",
       "      <td>1.5</td>\n",
       "      <td>0.2</td>\n",
       "      <td>setosa</td>\n",
       "    </tr>\n",
       "    <tr>\n",
       "      <th>11</th>\n",
       "      <td>4.8</td>\n",
       "      <td>3.4</td>\n",
       "      <td>1.6</td>\n",
       "      <td>0.2</td>\n",
       "      <td>setosa</td>\n",
       "    </tr>\n",
       "    <tr>\n",
       "      <th>12</th>\n",
       "      <td>4.8</td>\n",
       "      <td>3.0</td>\n",
       "      <td>1.4</td>\n",
       "      <td>0.1</td>\n",
       "      <td>setosa</td>\n",
       "    </tr>\n",
       "    <tr>\n",
       "      <th>13</th>\n",
       "      <td>4.3</td>\n",
       "      <td>3.0</td>\n",
       "      <td>1.1</td>\n",
       "      <td>0.1</td>\n",
       "      <td>setosa</td>\n",
       "    </tr>\n",
       "    <tr>\n",
       "      <th>14</th>\n",
       "      <td>5.8</td>\n",
       "      <td>4.0</td>\n",
       "      <td>1.2</td>\n",
       "      <td>0.2</td>\n",
       "      <td>setosa</td>\n",
       "    </tr>\n",
       "    <tr>\n",
       "      <th>15</th>\n",
       "      <td>5.7</td>\n",
       "      <td>4.4</td>\n",
       "      <td>1.5</td>\n",
       "      <td>0.4</td>\n",
       "      <td>setosa</td>\n",
       "    </tr>\n",
       "    <tr>\n",
       "      <th>16</th>\n",
       "      <td>5.4</td>\n",
       "      <td>3.9</td>\n",
       "      <td>1.3</td>\n",
       "      <td>0.4</td>\n",
       "      <td>setosa</td>\n",
       "    </tr>\n",
       "    <tr>\n",
       "      <th>17</th>\n",
       "      <td>5.1</td>\n",
       "      <td>3.5</td>\n",
       "      <td>1.4</td>\n",
       "      <td>0.3</td>\n",
       "      <td>setosa</td>\n",
       "    </tr>\n",
       "    <tr>\n",
       "      <th>18</th>\n",
       "      <td>5.7</td>\n",
       "      <td>3.8</td>\n",
       "      <td>1.7</td>\n",
       "      <td>0.3</td>\n",
       "      <td>setosa</td>\n",
       "    </tr>\n",
       "    <tr>\n",
       "      <th>19</th>\n",
       "      <td>5.1</td>\n",
       "      <td>3.8</td>\n",
       "      <td>1.5</td>\n",
       "      <td>0.3</td>\n",
       "      <td>setosa</td>\n",
       "    </tr>\n",
       "  </tbody>\n",
       "</table>\n",
       "</div>"
      ],
      "text/plain": [
       "    sepal_length  sepal_width  petal_length  petal_width species\n",
       "0            5.1          3.5           1.4          0.2  setosa\n",
       "1            4.9          3.0           1.4          0.2  setosa\n",
       "2            4.7          3.2           1.3          0.2  setosa\n",
       "3            4.6          3.1           1.5          0.2  setosa\n",
       "4            5.0          3.6           1.4          0.2  setosa\n",
       "5            5.4          3.9           1.7          0.4  setosa\n",
       "6            4.6          3.4           1.4          0.3  setosa\n",
       "7            5.0          3.4           1.5          0.2  setosa\n",
       "8            4.4          2.9           1.4          0.2  setosa\n",
       "9            4.9          3.1           1.5          0.1  setosa\n",
       "10           5.4          3.7           1.5          0.2  setosa\n",
       "11           4.8          3.4           1.6          0.2  setosa\n",
       "12           4.8          3.0           1.4          0.1  setosa\n",
       "13           4.3          3.0           1.1          0.1  setosa\n",
       "14           5.8          4.0           1.2          0.2  setosa\n",
       "15           5.7          4.4           1.5          0.4  setosa\n",
       "16           5.4          3.9           1.3          0.4  setosa\n",
       "17           5.1          3.5           1.4          0.3  setosa\n",
       "18           5.7          3.8           1.7          0.3  setosa\n",
       "19           5.1          3.8           1.5          0.3  setosa"
      ]
     },
     "execution_count": 22,
     "metadata": {},
     "output_type": "execute_result"
    }
   ],
   "source": [
    "iris_data.head(20)"
   ]
  },
  {
   "cell_type": "code",
   "execution_count": 25,
   "metadata": {},
   "outputs": [
    {
     "data": {
      "text/plain": [
       "pandas.core.frame.DataFrame"
      ]
     },
     "execution_count": 25,
     "metadata": {},
     "output_type": "execute_result"
    }
   ],
   "source": [
    "type(iris_data)"
   ]
  },
  {
   "cell_type": "markdown",
   "metadata": {},
   "source": [
    "# Slicing"
   ]
  },
  {
   "cell_type": "markdown",
   "metadata": {},
   "source": [
    "## By the number: iloc"
   ]
  },
  {
   "cell_type": "code",
   "execution_count": 23,
   "metadata": {
    "ExecuteTime": {
     "end_time": "2020-04-10T08:42:46.225868Z",
     "start_time": "2020-04-10T08:42:46.214752Z"
    }
   },
   "outputs": [
    {
     "data": {
      "text/plain": [
       "gene_number               3948.2\n",
       "ensembl_gene     ENSG00000166796\n",
       "ensembl_trans    ENST00000541669\n",
       "chebl_id                     NaN\n",
       "uniprot_gname             P07864\n",
       "entrez_id                   3948\n",
       "wikigene                    3948\n",
       "Name: LDHC, dtype: object"
      ]
     },
     "execution_count": 23,
     "metadata": {},
     "output_type": "execute_result"
    }
   ],
   "source": [
    "gene_mapping.iloc[10, :]  # this is called a Series (basically a 1D-DataFrame)"
   ]
  },
  {
   "cell_type": "code",
   "execution_count": 26,
   "metadata": {},
   "outputs": [
    {
     "data": {
      "text/plain": [
       "pandas.core.series.Series"
      ]
     },
     "execution_count": 26,
     "metadata": {},
     "output_type": "execute_result"
    }
   ],
   "source": [
    "type(gene_mapping.iloc[10, :])"
   ]
  },
  {
   "cell_type": "code",
   "execution_count": 27,
   "metadata": {
    "ExecuteTime": {
     "end_time": "2020-04-10T08:42:46.239302Z",
     "start_time": "2020-04-10T08:42:46.227287Z"
    }
   },
   "outputs": [
    {
     "data": {
      "text/plain": [
       "symbol\n",
       "AOC3       ENST00000308423\n",
       "AOC1       ENST00000493429\n",
       "AOC2       ENST00000253799\n",
       "AOC2       ENST00000253799\n",
       "CYP24A1    ENST00000216862\n",
       "                ...       \n",
       "FITM2                  NaN\n",
       "BMP1                   NaN\n",
       "SLC51A                 NaN\n",
       "SLC51B                 NaN\n",
       "PON3                   NaN\n",
       "Name: ensembl_trans, Length: 3695, dtype: object"
      ]
     },
     "execution_count": 27,
     "metadata": {},
     "output_type": "execute_result"
    }
   ],
   "source": [
    "gene_mapping.iloc[:, 2]"
   ]
  },
  {
   "cell_type": "code",
   "execution_count": 28,
   "metadata": {
    "ExecuteTime": {
     "end_time": "2020-04-10T08:42:46.255556Z",
     "start_time": "2020-04-10T08:42:46.242205Z"
    }
   },
   "outputs": [
    {
     "data": {
      "text/plain": [
       "'ENST00000541669'"
      ]
     },
     "execution_count": 28,
     "metadata": {},
     "output_type": "execute_result"
    }
   ],
   "source": [
    "gene_mapping.iloc[10, 2]"
   ]
  },
  {
   "cell_type": "code",
   "execution_count": 29,
   "metadata": {
    "ExecuteTime": {
     "end_time": "2020-04-10T08:42:46.273592Z",
     "start_time": "2020-04-10T08:42:46.258541Z"
    }
   },
   "outputs": [
    {
     "data": {
      "text/html": [
       "<div>\n",
       "<style scoped>\n",
       "    .dataframe tbody tr th:only-of-type {\n",
       "        vertical-align: middle;\n",
       "    }\n",
       "\n",
       "    .dataframe tbody tr th {\n",
       "        vertical-align: top;\n",
       "    }\n",
       "\n",
       "    .dataframe thead th {\n",
       "        text-align: right;\n",
       "    }\n",
       "</style>\n",
       "<table border=\"1\" class=\"dataframe\">\n",
       "  <thead>\n",
       "    <tr style=\"text-align: right;\">\n",
       "      <th></th>\n",
       "      <th>gene_number</th>\n",
       "      <th>ensembl_gene</th>\n",
       "      <th>ensembl_trans</th>\n",
       "      <th>chebl_id</th>\n",
       "      <th>uniprot_gname</th>\n",
       "      <th>entrez_id</th>\n",
       "      <th>wikigene</th>\n",
       "    </tr>\n",
       "    <tr>\n",
       "      <th>symbol</th>\n",
       "      <th></th>\n",
       "      <th></th>\n",
       "      <th></th>\n",
       "      <th></th>\n",
       "      <th></th>\n",
       "      <th></th>\n",
       "      <th></th>\n",
       "    </tr>\n",
       "  </thead>\n",
       "  <tbody>\n",
       "    <tr>\n",
       "      <th>CYP27B1</th>\n",
       "      <td>1594.1</td>\n",
       "      <td>ENSG00000111012</td>\n",
       "      <td>ENST00000228606</td>\n",
       "      <td>CHEMBL5993</td>\n",
       "      <td>O15528</td>\n",
       "      <td>1594.0</td>\n",
       "      <td>1594.0</td>\n",
       "    </tr>\n",
       "    <tr>\n",
       "      <th>SDS</th>\n",
       "      <td>10993.1</td>\n",
       "      <td>ENSG00000135094</td>\n",
       "      <td>ENST00000257549</td>\n",
       "      <td>NaN</td>\n",
       "      <td>P20132</td>\n",
       "      <td>10993.0</td>\n",
       "      <td>10993.0</td>\n",
       "    </tr>\n",
       "    <tr>\n",
       "      <th>SULT1A3</th>\n",
       "      <td>6818.1</td>\n",
       "      <td>ENSG00000261052</td>\n",
       "      <td>ENST00000338971</td>\n",
       "      <td>CHEMBL1743293</td>\n",
       "      <td>P0DMM9</td>\n",
       "      <td>6818.0</td>\n",
       "      <td>6818.0</td>\n",
       "    </tr>\n",
       "    <tr>\n",
       "      <th>SLC25A21</th>\n",
       "      <td>89874.1</td>\n",
       "      <td>ENSG00000183032</td>\n",
       "      <td>ENST00000555449</td>\n",
       "      <td>NaN</td>\n",
       "      <td>Q9BQT8</td>\n",
       "      <td>89874.0</td>\n",
       "      <td>89874.0</td>\n",
       "    </tr>\n",
       "    <tr>\n",
       "      <th>LDHAL6B</th>\n",
       "      <td>92483.1</td>\n",
       "      <td>ENSG00000171989</td>\n",
       "      <td>ENST00000307144</td>\n",
       "      <td>NaN</td>\n",
       "      <td>Q9BYZ2</td>\n",
       "      <td>92483.0</td>\n",
       "      <td>92483.0</td>\n",
       "    </tr>\n",
       "  </tbody>\n",
       "</table>\n",
       "</div>"
      ],
      "text/plain": [
       "          gene_number     ensembl_gene    ensembl_trans       chebl_id  \\\n",
       "symbol                                                                   \n",
       "CYP27B1        1594.1  ENSG00000111012  ENST00000228606     CHEMBL5993   \n",
       "SDS           10993.1  ENSG00000135094  ENST00000257549            NaN   \n",
       "SULT1A3        6818.1  ENSG00000261052  ENST00000338971  CHEMBL1743293   \n",
       "SLC25A21      89874.1  ENSG00000183032  ENST00000555449            NaN   \n",
       "LDHAL6B       92483.1  ENSG00000171989  ENST00000307144            NaN   \n",
       "\n",
       "         uniprot_gname  entrez_id  wikigene  \n",
       "symbol                                       \n",
       "CYP27B1         O15528     1594.0    1594.0  \n",
       "SDS             P20132    10993.0   10993.0  \n",
       "SULT1A3         P0DMM9     6818.0    6818.0  \n",
       "SLC25A21        Q9BQT8    89874.0   89874.0  \n",
       "LDHAL6B         Q9BYZ2    92483.0   92483.0  "
      ]
     },
     "execution_count": 29,
     "metadata": {},
     "output_type": "execute_result"
    }
   ],
   "source": [
    "gene_mapping.iloc[5:10, :]"
   ]
  },
  {
   "cell_type": "code",
   "execution_count": 30,
   "metadata": {
    "ExecuteTime": {
     "end_time": "2020-04-10T08:42:46.298315Z",
     "start_time": "2020-04-10T08:42:46.275244Z"
    }
   },
   "outputs": [
    {
     "data": {
      "text/html": [
       "<div>\n",
       "<style scoped>\n",
       "    .dataframe tbody tr th:only-of-type {\n",
       "        vertical-align: middle;\n",
       "    }\n",
       "\n",
       "    .dataframe tbody tr th {\n",
       "        vertical-align: top;\n",
       "    }\n",
       "\n",
       "    .dataframe thead th {\n",
       "        text-align: right;\n",
       "    }\n",
       "</style>\n",
       "<table border=\"1\" class=\"dataframe\">\n",
       "  <thead>\n",
       "    <tr style=\"text-align: right;\">\n",
       "      <th></th>\n",
       "      <th>ensembl_trans</th>\n",
       "      <th>chebl_id</th>\n",
       "      <th>uniprot_gname</th>\n",
       "    </tr>\n",
       "    <tr>\n",
       "      <th>symbol</th>\n",
       "      <th></th>\n",
       "      <th></th>\n",
       "      <th></th>\n",
       "    </tr>\n",
       "  </thead>\n",
       "  <tbody>\n",
       "    <tr>\n",
       "      <th>CYP27B1</th>\n",
       "      <td>ENST00000228606</td>\n",
       "      <td>CHEMBL5993</td>\n",
       "      <td>O15528</td>\n",
       "    </tr>\n",
       "    <tr>\n",
       "      <th>SDS</th>\n",
       "      <td>ENST00000257549</td>\n",
       "      <td>NaN</td>\n",
       "      <td>P20132</td>\n",
       "    </tr>\n",
       "    <tr>\n",
       "      <th>SULT1A3</th>\n",
       "      <td>ENST00000338971</td>\n",
       "      <td>CHEMBL1743293</td>\n",
       "      <td>P0DMM9</td>\n",
       "    </tr>\n",
       "    <tr>\n",
       "      <th>SLC25A21</th>\n",
       "      <td>ENST00000555449</td>\n",
       "      <td>NaN</td>\n",
       "      <td>Q9BQT8</td>\n",
       "    </tr>\n",
       "    <tr>\n",
       "      <th>LDHAL6B</th>\n",
       "      <td>ENST00000307144</td>\n",
       "      <td>NaN</td>\n",
       "      <td>Q9BYZ2</td>\n",
       "    </tr>\n",
       "  </tbody>\n",
       "</table>\n",
       "</div>"
      ],
      "text/plain": [
       "            ensembl_trans       chebl_id uniprot_gname\n",
       "symbol                                                \n",
       "CYP27B1   ENST00000228606     CHEMBL5993        O15528\n",
       "SDS       ENST00000257549            NaN        P20132\n",
       "SULT1A3   ENST00000338971  CHEMBL1743293        P0DMM9\n",
       "SLC25A21  ENST00000555449            NaN        Q9BQT8\n",
       "LDHAL6B   ENST00000307144            NaN        Q9BYZ2"
      ]
     },
     "execution_count": 30,
     "metadata": {},
     "output_type": "execute_result"
    }
   ],
   "source": [
    "gene_mapping.iloc[5:10, 2:5]"
   ]
  },
  {
   "cell_type": "code",
   "execution_count": 31,
   "metadata": {
    "ExecuteTime": {
     "end_time": "2020-04-10T08:42:46.313177Z",
     "start_time": "2020-04-10T08:42:46.301328Z"
    }
   },
   "outputs": [
    {
     "data": {
      "text/html": [
       "<div>\n",
       "<style scoped>\n",
       "    .dataframe tbody tr th:only-of-type {\n",
       "        vertical-align: middle;\n",
       "    }\n",
       "\n",
       "    .dataframe tbody tr th {\n",
       "        vertical-align: top;\n",
       "    }\n",
       "\n",
       "    .dataframe thead th {\n",
       "        text-align: right;\n",
       "    }\n",
       "</style>\n",
       "<table border=\"1\" class=\"dataframe\">\n",
       "  <thead>\n",
       "    <tr style=\"text-align: right;\">\n",
       "      <th></th>\n",
       "      <th>ensembl_trans</th>\n",
       "      <th>chebl_id</th>\n",
       "      <th>entrez_id</th>\n",
       "    </tr>\n",
       "    <tr>\n",
       "      <th>symbol</th>\n",
       "      <th></th>\n",
       "      <th></th>\n",
       "      <th></th>\n",
       "    </tr>\n",
       "  </thead>\n",
       "  <tbody>\n",
       "    <tr>\n",
       "      <th>AOC1</th>\n",
       "      <td>ENST00000493429</td>\n",
       "      <td>CHEMBL2118</td>\n",
       "      <td>26.0</td>\n",
       "    </tr>\n",
       "    <tr>\n",
       "      <th>AOC2</th>\n",
       "      <td>ENST00000253799</td>\n",
       "      <td>CHEMBL4112</td>\n",
       "      <td>314.0</td>\n",
       "    </tr>\n",
       "    <tr>\n",
       "      <th>SULT1A3</th>\n",
       "      <td>ENST00000338971</td>\n",
       "      <td>CHEMBL1743293</td>\n",
       "      <td>6818.0</td>\n",
       "    </tr>\n",
       "  </tbody>\n",
       "</table>\n",
       "</div>"
      ],
      "text/plain": [
       "           ensembl_trans       chebl_id  entrez_id\n",
       "symbol                                            \n",
       "AOC1     ENST00000493429     CHEMBL2118       26.0\n",
       "AOC2     ENST00000253799     CHEMBL4112      314.0\n",
       "SULT1A3  ENST00000338971  CHEMBL1743293     6818.0"
      ]
     },
     "execution_count": 31,
     "metadata": {},
     "output_type": "execute_result"
    }
   ],
   "source": [
    "gene_mapping.iloc[[1, 3, 7], [2, 3, 5]]"
   ]
  },
  {
   "cell_type": "markdown",
   "metadata": {},
   "source": [
    "## By the name: loc"
   ]
  },
  {
   "cell_type": "code",
   "execution_count": 32,
   "metadata": {
    "ExecuteTime": {
     "end_time": "2020-04-10T08:42:46.325843Z",
     "start_time": "2020-04-10T08:42:46.314662Z"
    }
   },
   "outputs": [
    {
     "data": {
      "text/plain": [
       "gene_number               6576.1\n",
       "ensembl_gene     ENSG00000100075\n",
       "ensembl_trans    ENST00000215882\n",
       "chebl_id                     NaN\n",
       "uniprot_gname             P53007\n",
       "entrez_id                   6576\n",
       "wikigene                    6576\n",
       "Name: SLC25A1, dtype: object"
      ]
     },
     "execution_count": 32,
     "metadata": {},
     "output_type": "execute_result"
    }
   ],
   "source": [
    "gene_mapping.loc[\"SLC25A1\", :]"
   ]
  },
  {
   "cell_type": "code",
   "execution_count": 33,
   "metadata": {
    "ExecuteTime": {
     "end_time": "2020-04-10T08:42:46.339394Z",
     "start_time": "2020-04-10T08:42:46.327297Z"
    }
   },
   "outputs": [
    {
     "data": {
      "text/plain": [
       "6576.1"
      ]
     },
     "execution_count": 33,
     "metadata": {},
     "output_type": "execute_result"
    }
   ],
   "source": [
    "gene_mapping.loc[\"SLC25A1\", \"gene_number\"]"
   ]
  },
  {
   "cell_type": "code",
   "execution_count": 34,
   "metadata": {
    "ExecuteTime": {
     "end_time": "2020-04-10T08:42:46.361302Z",
     "start_time": "2020-04-10T08:42:46.340922Z"
    }
   },
   "outputs": [
    {
     "data": {
      "text/html": [
       "<div>\n",
       "<style scoped>\n",
       "    .dataframe tbody tr th:only-of-type {\n",
       "        vertical-align: middle;\n",
       "    }\n",
       "\n",
       "    .dataframe tbody tr th {\n",
       "        vertical-align: top;\n",
       "    }\n",
       "\n",
       "    .dataframe thead th {\n",
       "        text-align: right;\n",
       "    }\n",
       "</style>\n",
       "<table border=\"1\" class=\"dataframe\">\n",
       "  <thead>\n",
       "    <tr style=\"text-align: right;\">\n",
       "      <th></th>\n",
       "      <th>gene_number</th>\n",
       "      <th>ensembl_gene</th>\n",
       "      <th>ensembl_trans</th>\n",
       "      <th>chebl_id</th>\n",
       "      <th>uniprot_gname</th>\n",
       "      <th>entrez_id</th>\n",
       "      <th>wikigene</th>\n",
       "    </tr>\n",
       "    <tr>\n",
       "      <th>symbol</th>\n",
       "      <th></th>\n",
       "      <th></th>\n",
       "      <th></th>\n",
       "      <th></th>\n",
       "      <th></th>\n",
       "      <th></th>\n",
       "      <th></th>\n",
       "    </tr>\n",
       "  </thead>\n",
       "  <tbody>\n",
       "    <tr>\n",
       "      <th>AOC1</th>\n",
       "      <td>26.1</td>\n",
       "      <td>ENSG00000002726</td>\n",
       "      <td>ENST00000493429</td>\n",
       "      <td>CHEMBL2118</td>\n",
       "      <td>P19801</td>\n",
       "      <td>26.0</td>\n",
       "      <td>26.0</td>\n",
       "    </tr>\n",
       "    <tr>\n",
       "      <th>AOC2</th>\n",
       "      <td>314.2</td>\n",
       "      <td>ENSG00000131480</td>\n",
       "      <td>ENST00000253799</td>\n",
       "      <td>CHEMBL4112</td>\n",
       "      <td>O75106</td>\n",
       "      <td>314.0</td>\n",
       "      <td>314.0</td>\n",
       "    </tr>\n",
       "    <tr>\n",
       "      <th>AOC2</th>\n",
       "      <td>314.1</td>\n",
       "      <td>ENSG00000131480</td>\n",
       "      <td>ENST00000253799</td>\n",
       "      <td>CHEMBL4112</td>\n",
       "      <td>O75106</td>\n",
       "      <td>314.0</td>\n",
       "      <td>314.0</td>\n",
       "    </tr>\n",
       "    <tr>\n",
       "      <th>AOC3</th>\n",
       "      <td>8639.1</td>\n",
       "      <td>ENSG00000131471</td>\n",
       "      <td>ENST00000308423</td>\n",
       "      <td>CHEMBL3437</td>\n",
       "      <td>Q16853</td>\n",
       "      <td>8639.0</td>\n",
       "      <td>8639.0</td>\n",
       "    </tr>\n",
       "  </tbody>\n",
       "</table>\n",
       "</div>"
      ],
      "text/plain": [
       "        gene_number     ensembl_gene    ensembl_trans    chebl_id  \\\n",
       "symbol                                                              \n",
       "AOC1           26.1  ENSG00000002726  ENST00000493429  CHEMBL2118   \n",
       "AOC2          314.2  ENSG00000131480  ENST00000253799  CHEMBL4112   \n",
       "AOC2          314.1  ENSG00000131480  ENST00000253799  CHEMBL4112   \n",
       "AOC3         8639.1  ENSG00000131471  ENST00000308423  CHEMBL3437   \n",
       "\n",
       "       uniprot_gname  entrez_id  wikigene  \n",
       "symbol                                     \n",
       "AOC1          P19801       26.0      26.0  \n",
       "AOC2          O75106      314.0     314.0  \n",
       "AOC2          O75106      314.0     314.0  \n",
       "AOC3          Q16853     8639.0    8639.0  "
      ]
     },
     "execution_count": 34,
     "metadata": {},
     "output_type": "execute_result"
    }
   ],
   "source": [
    "gene_mapping.loc[[\"AOC1\", \"AOC2\", \"AOC3\"], :]"
   ]
  },
  {
   "cell_type": "markdown",
   "metadata": {},
   "source": [
    "## Slice a whole column"
   ]
  },
  {
   "cell_type": "code",
   "execution_count": 35,
   "metadata": {
    "ExecuteTime": {
     "end_time": "2020-04-10T08:42:46.376278Z",
     "start_time": "2020-04-10T08:42:46.362586Z"
    },
    "scrolled": true
   },
   "outputs": [
    {
     "data": {
      "text/plain": [
       "symbol\n",
       "AOC3         8639.1\n",
       "AOC1           26.1\n",
       "AOC2          314.2\n",
       "AOC2          314.1\n",
       "CYP24A1      1591.1\n",
       "             ...   \n",
       "FITM2      128486.1\n",
       "BMP1          649.1\n",
       "SLC51A     200931.1\n",
       "SLC51B     123264.1\n",
       "PON3         5446.1\n",
       "Name: gene_number, Length: 3695, dtype: float64"
      ]
     },
     "execution_count": 35,
     "metadata": {},
     "output_type": "execute_result"
    }
   ],
   "source": [
    "gene_mapping['gene_number']"
   ]
  },
  {
   "cell_type": "code",
   "execution_count": 36,
   "metadata": {
    "ExecuteTime": {
     "end_time": "2020-04-10T08:42:46.394959Z",
     "start_time": "2020-04-10T08:42:46.377978Z"
    }
   },
   "outputs": [
    {
     "data": {
      "text/html": [
       "<div>\n",
       "<style scoped>\n",
       "    .dataframe tbody tr th:only-of-type {\n",
       "        vertical-align: middle;\n",
       "    }\n",
       "\n",
       "    .dataframe tbody tr th {\n",
       "        vertical-align: top;\n",
       "    }\n",
       "\n",
       "    .dataframe thead th {\n",
       "        text-align: right;\n",
       "    }\n",
       "</style>\n",
       "<table border=\"1\" class=\"dataframe\">\n",
       "  <thead>\n",
       "    <tr style=\"text-align: right;\">\n",
       "      <th></th>\n",
       "      <th>gene_number</th>\n",
       "      <th>entrez_id</th>\n",
       "    </tr>\n",
       "    <tr>\n",
       "      <th>symbol</th>\n",
       "      <th></th>\n",
       "      <th></th>\n",
       "    </tr>\n",
       "  </thead>\n",
       "  <tbody>\n",
       "    <tr>\n",
       "      <th>AOC3</th>\n",
       "      <td>8639.1</td>\n",
       "      <td>8639.0</td>\n",
       "    </tr>\n",
       "    <tr>\n",
       "      <th>AOC1</th>\n",
       "      <td>26.1</td>\n",
       "      <td>26.0</td>\n",
       "    </tr>\n",
       "    <tr>\n",
       "      <th>AOC2</th>\n",
       "      <td>314.2</td>\n",
       "      <td>314.0</td>\n",
       "    </tr>\n",
       "    <tr>\n",
       "      <th>AOC2</th>\n",
       "      <td>314.1</td>\n",
       "      <td>314.0</td>\n",
       "    </tr>\n",
       "    <tr>\n",
       "      <th>CYP24A1</th>\n",
       "      <td>1591.1</td>\n",
       "      <td>1591.0</td>\n",
       "    </tr>\n",
       "    <tr>\n",
       "      <th>...</th>\n",
       "      <td>...</td>\n",
       "      <td>...</td>\n",
       "    </tr>\n",
       "    <tr>\n",
       "      <th>FITM2</th>\n",
       "      <td>128486.1</td>\n",
       "      <td>128486.0</td>\n",
       "    </tr>\n",
       "    <tr>\n",
       "      <th>BMP1</th>\n",
       "      <td>649.1</td>\n",
       "      <td>649.0</td>\n",
       "    </tr>\n",
       "    <tr>\n",
       "      <th>SLC51A</th>\n",
       "      <td>200931.1</td>\n",
       "      <td>200931.0</td>\n",
       "    </tr>\n",
       "    <tr>\n",
       "      <th>SLC51B</th>\n",
       "      <td>123264.1</td>\n",
       "      <td>123264.0</td>\n",
       "    </tr>\n",
       "    <tr>\n",
       "      <th>PON3</th>\n",
       "      <td>5446.1</td>\n",
       "      <td>NaN</td>\n",
       "    </tr>\n",
       "  </tbody>\n",
       "</table>\n",
       "<p>3695 rows × 2 columns</p>\n",
       "</div>"
      ],
      "text/plain": [
       "         gene_number  entrez_id\n",
       "symbol                         \n",
       "AOC3          8639.1     8639.0\n",
       "AOC1            26.1       26.0\n",
       "AOC2           314.2      314.0\n",
       "AOC2           314.1      314.0\n",
       "CYP24A1       1591.1     1591.0\n",
       "...              ...        ...\n",
       "FITM2       128486.1   128486.0\n",
       "BMP1           649.1      649.0\n",
       "SLC51A      200931.1   200931.0\n",
       "SLC51B      123264.1   123264.0\n",
       "PON3          5446.1        NaN\n",
       "\n",
       "[3695 rows x 2 columns]"
      ]
     },
     "execution_count": 36,
     "metadata": {},
     "output_type": "execute_result"
    }
   ],
   "source": [
    "gene_mapping[['gene_number', 'entrez_id']]"
   ]
  },
  {
   "cell_type": "markdown",
   "metadata": {},
   "source": [
    "## By complex logic"
   ]
  },
  {
   "cell_type": "code",
   "execution_count": 37,
   "metadata": {
    "ExecuteTime": {
     "end_time": "2020-04-10T08:42:46.411570Z",
     "start_time": "2020-04-10T08:42:46.396629Z"
    }
   },
   "outputs": [
    {
     "data": {
      "text/html": [
       "<div>\n",
       "<style scoped>\n",
       "    .dataframe tbody tr th:only-of-type {\n",
       "        vertical-align: middle;\n",
       "    }\n",
       "\n",
       "    .dataframe tbody tr th {\n",
       "        vertical-align: top;\n",
       "    }\n",
       "\n",
       "    .dataframe thead th {\n",
       "        text-align: right;\n",
       "    }\n",
       "</style>\n",
       "<table border=\"1\" class=\"dataframe\">\n",
       "  <thead>\n",
       "    <tr style=\"text-align: right;\">\n",
       "      <th></th>\n",
       "      <th>Unnamed: 0.1</th>\n",
       "      <th>total_bill</th>\n",
       "      <th>tip</th>\n",
       "      <th>sex</th>\n",
       "      <th>smoker</th>\n",
       "      <th>day</th>\n",
       "      <th>time</th>\n",
       "      <th>size</th>\n",
       "    </tr>\n",
       "  </thead>\n",
       "  <tbody>\n",
       "    <tr>\n",
       "      <th>0</th>\n",
       "      <td>0</td>\n",
       "      <td>16.99</td>\n",
       "      <td>1.01</td>\n",
       "      <td>Female</td>\n",
       "      <td>No</td>\n",
       "      <td>Sun</td>\n",
       "      <td>Dinner</td>\n",
       "      <td>2</td>\n",
       "    </tr>\n",
       "    <tr>\n",
       "      <th>1</th>\n",
       "      <td>1</td>\n",
       "      <td>10.34</td>\n",
       "      <td>1.66</td>\n",
       "      <td>Male</td>\n",
       "      <td>No</td>\n",
       "      <td>Sun</td>\n",
       "      <td>Dinner</td>\n",
       "      <td>3</td>\n",
       "    </tr>\n",
       "    <tr>\n",
       "      <th>2</th>\n",
       "      <td>2</td>\n",
       "      <td>21.01</td>\n",
       "      <td>3.50</td>\n",
       "      <td>Male</td>\n",
       "      <td>No</td>\n",
       "      <td>Sun</td>\n",
       "      <td>Dinner</td>\n",
       "      <td>3</td>\n",
       "    </tr>\n",
       "    <tr>\n",
       "      <th>3</th>\n",
       "      <td>3</td>\n",
       "      <td>23.68</td>\n",
       "      <td>3.31</td>\n",
       "      <td>Male</td>\n",
       "      <td>No</td>\n",
       "      <td>Sun</td>\n",
       "      <td>Dinner</td>\n",
       "      <td>2</td>\n",
       "    </tr>\n",
       "    <tr>\n",
       "      <th>4</th>\n",
       "      <td>4</td>\n",
       "      <td>24.59</td>\n",
       "      <td>3.61</td>\n",
       "      <td>Female</td>\n",
       "      <td>No</td>\n",
       "      <td>Sun</td>\n",
       "      <td>Dinner</td>\n",
       "      <td>4</td>\n",
       "    </tr>\n",
       "  </tbody>\n",
       "</table>\n",
       "</div>"
      ],
      "text/plain": [
       "   Unnamed: 0.1  total_bill   tip     sex smoker  day    time  size\n",
       "0             0       16.99  1.01  Female     No  Sun  Dinner     2\n",
       "1             1       10.34  1.66    Male     No  Sun  Dinner     3\n",
       "2             2       21.01  3.50    Male     No  Sun  Dinner     3\n",
       "3             3       23.68  3.31    Male     No  Sun  Dinner     2\n",
       "4             4       24.59  3.61  Female     No  Sun  Dinner     4"
      ]
     },
     "execution_count": 37,
     "metadata": {},
     "output_type": "execute_result"
    }
   ],
   "source": [
    "tips_data.head()"
   ]
  },
  {
   "cell_type": "code",
   "execution_count": 38,
   "metadata": {
    "ExecuteTime": {
     "end_time": "2020-04-10T08:42:46.424228Z",
     "start_time": "2020-04-10T08:42:46.413384Z"
    }
   },
   "outputs": [
    {
     "data": {
      "text/plain": [
       "0      16.99\n",
       "1      10.34\n",
       "2      21.01\n",
       "3      23.68\n",
       "4      24.59\n",
       "       ...  \n",
       "239    29.03\n",
       "240    27.18\n",
       "241    22.67\n",
       "242    17.82\n",
       "243    18.78\n",
       "Name: total_bill, Length: 244, dtype: float64"
      ]
     },
     "execution_count": 38,
     "metadata": {},
     "output_type": "execute_result"
    }
   ],
   "source": [
    "tips_data[\"total_bill\"]"
   ]
  },
  {
   "cell_type": "code",
   "execution_count": 39,
   "metadata": {
    "ExecuteTime": {
     "end_time": "2020-04-10T08:42:46.438056Z",
     "start_time": "2020-04-10T08:42:46.425992Z"
    }
   },
   "outputs": [
    {
     "data": {
      "text/plain": [
       "0      False\n",
       "1      False\n",
       "2      False\n",
       "3      False\n",
       "4      False\n",
       "       ...  \n",
       "239     True\n",
       "240     True\n",
       "241    False\n",
       "242    False\n",
       "243    False\n",
       "Name: total_bill, Length: 244, dtype: bool"
      ]
     },
     "execution_count": 39,
     "metadata": {},
     "output_type": "execute_result"
    }
   ],
   "source": [
    "tips_data[\"total_bill\"] > 25"
   ]
  },
  {
   "cell_type": "code",
   "execution_count": 43,
   "metadata": {
    "ExecuteTime": {
     "end_time": "2020-04-10T08:42:46.459657Z",
     "start_time": "2020-04-10T08:42:46.439547Z"
    }
   },
   "outputs": [
    {
     "data": {
      "text/html": [
       "<div>\n",
       "<style scoped>\n",
       "    .dataframe tbody tr th:only-of-type {\n",
       "        vertical-align: middle;\n",
       "    }\n",
       "\n",
       "    .dataframe tbody tr th {\n",
       "        vertical-align: top;\n",
       "    }\n",
       "\n",
       "    .dataframe thead th {\n",
       "        text-align: right;\n",
       "    }\n",
       "</style>\n",
       "<table border=\"1\" class=\"dataframe\">\n",
       "  <thead>\n",
       "    <tr style=\"text-align: right;\">\n",
       "      <th></th>\n",
       "      <th>Unnamed: 0.1</th>\n",
       "      <th>total_bill</th>\n",
       "      <th>tip</th>\n",
       "      <th>sex</th>\n",
       "      <th>smoker</th>\n",
       "      <th>day</th>\n",
       "      <th>time</th>\n",
       "      <th>size</th>\n",
       "    </tr>\n",
       "  </thead>\n",
       "  <tbody>\n",
       "    <tr>\n",
       "      <th>102</th>\n",
       "      <td>102</td>\n",
       "      <td>44.30</td>\n",
       "      <td>2.5</td>\n",
       "      <td>Female</td>\n",
       "      <td>Yes</td>\n",
       "      <td>Sat</td>\n",
       "      <td>Dinner</td>\n",
       "      <td>3</td>\n",
       "    </tr>\n",
       "    <tr>\n",
       "      <th>197</th>\n",
       "      <td>197</td>\n",
       "      <td>43.11</td>\n",
       "      <td>5.0</td>\n",
       "      <td>Female</td>\n",
       "      <td>Yes</td>\n",
       "      <td>Thur</td>\n",
       "      <td>Lunch</td>\n",
       "      <td>4</td>\n",
       "    </tr>\n",
       "  </tbody>\n",
       "</table>\n",
       "</div>"
      ],
      "text/plain": [
       "     Unnamed: 0.1  total_bill  tip     sex smoker   day    time  size\n",
       "102           102       44.30  2.5  Female    Yes   Sat  Dinner     3\n",
       "197           197       43.11  5.0  Female    Yes  Thur   Lunch     4"
      ]
     },
     "execution_count": 43,
     "metadata": {},
     "output_type": "execute_result"
    }
   ],
   "source": [
    "a = tips_data[\"total_bill\"] > 40\n",
    "b = tips_data[\"sex\"] == \"Female\"\n",
    "c = tips_data[\"smoker\"] == \"Yes\"\n",
    "tips_data[a & b]"
   ]
  },
  {
   "cell_type": "code",
   "execution_count": 44,
   "metadata": {
    "ExecuteTime": {
     "end_time": "2020-04-10T08:42:46.484459Z",
     "start_time": "2020-04-10T08:42:46.461930Z"
    }
   },
   "outputs": [
    {
     "data": {
      "text/html": [
       "<div>\n",
       "<style scoped>\n",
       "    .dataframe tbody tr th:only-of-type {\n",
       "        vertical-align: middle;\n",
       "    }\n",
       "\n",
       "    .dataframe tbody tr th {\n",
       "        vertical-align: top;\n",
       "    }\n",
       "\n",
       "    .dataframe thead th {\n",
       "        text-align: right;\n",
       "    }\n",
       "</style>\n",
       "<table border=\"1\" class=\"dataframe\">\n",
       "  <thead>\n",
       "    <tr style=\"text-align: right;\">\n",
       "      <th></th>\n",
       "      <th>Unnamed: 0.1</th>\n",
       "      <th>total_bill</th>\n",
       "      <th>tip</th>\n",
       "      <th>sex</th>\n",
       "      <th>smoker</th>\n",
       "      <th>day</th>\n",
       "      <th>time</th>\n",
       "      <th>size</th>\n",
       "    </tr>\n",
       "  </thead>\n",
       "  <tbody>\n",
       "    <tr>\n",
       "      <th>0</th>\n",
       "      <td>0</td>\n",
       "      <td>16.99</td>\n",
       "      <td>1.01</td>\n",
       "      <td>Female</td>\n",
       "      <td>No</td>\n",
       "      <td>Sun</td>\n",
       "      <td>Dinner</td>\n",
       "      <td>2</td>\n",
       "    </tr>\n",
       "    <tr>\n",
       "      <th>4</th>\n",
       "      <td>4</td>\n",
       "      <td>24.59</td>\n",
       "      <td>3.61</td>\n",
       "      <td>Female</td>\n",
       "      <td>No</td>\n",
       "      <td>Sun</td>\n",
       "      <td>Dinner</td>\n",
       "      <td>4</td>\n",
       "    </tr>\n",
       "    <tr>\n",
       "      <th>11</th>\n",
       "      <td>11</td>\n",
       "      <td>35.26</td>\n",
       "      <td>5.00</td>\n",
       "      <td>Female</td>\n",
       "      <td>No</td>\n",
       "      <td>Sun</td>\n",
       "      <td>Dinner</td>\n",
       "      <td>4</td>\n",
       "    </tr>\n",
       "    <tr>\n",
       "      <th>14</th>\n",
       "      <td>14</td>\n",
       "      <td>14.83</td>\n",
       "      <td>3.02</td>\n",
       "      <td>Female</td>\n",
       "      <td>No</td>\n",
       "      <td>Sun</td>\n",
       "      <td>Dinner</td>\n",
       "      <td>2</td>\n",
       "    </tr>\n",
       "    <tr>\n",
       "      <th>16</th>\n",
       "      <td>16</td>\n",
       "      <td>10.33</td>\n",
       "      <td>1.67</td>\n",
       "      <td>Female</td>\n",
       "      <td>No</td>\n",
       "      <td>Sun</td>\n",
       "      <td>Dinner</td>\n",
       "      <td>3</td>\n",
       "    </tr>\n",
       "    <tr>\n",
       "      <th>...</th>\n",
       "      <td>...</td>\n",
       "      <td>...</td>\n",
       "      <td>...</td>\n",
       "      <td>...</td>\n",
       "      <td>...</td>\n",
       "      <td>...</td>\n",
       "      <td>...</td>\n",
       "      <td>...</td>\n",
       "    </tr>\n",
       "    <tr>\n",
       "      <th>237</th>\n",
       "      <td>237</td>\n",
       "      <td>32.83</td>\n",
       "      <td>1.17</td>\n",
       "      <td>Male</td>\n",
       "      <td>Yes</td>\n",
       "      <td>Sat</td>\n",
       "      <td>Dinner</td>\n",
       "      <td>2</td>\n",
       "    </tr>\n",
       "    <tr>\n",
       "      <th>238</th>\n",
       "      <td>238</td>\n",
       "      <td>35.83</td>\n",
       "      <td>4.67</td>\n",
       "      <td>Female</td>\n",
       "      <td>No</td>\n",
       "      <td>Sat</td>\n",
       "      <td>Dinner</td>\n",
       "      <td>3</td>\n",
       "    </tr>\n",
       "    <tr>\n",
       "      <th>240</th>\n",
       "      <td>240</td>\n",
       "      <td>27.18</td>\n",
       "      <td>2.00</td>\n",
       "      <td>Female</td>\n",
       "      <td>Yes</td>\n",
       "      <td>Sat</td>\n",
       "      <td>Dinner</td>\n",
       "      <td>2</td>\n",
       "    </tr>\n",
       "    <tr>\n",
       "      <th>241</th>\n",
       "      <td>241</td>\n",
       "      <td>22.67</td>\n",
       "      <td>2.00</td>\n",
       "      <td>Male</td>\n",
       "      <td>Yes</td>\n",
       "      <td>Sat</td>\n",
       "      <td>Dinner</td>\n",
       "      <td>2</td>\n",
       "    </tr>\n",
       "    <tr>\n",
       "      <th>243</th>\n",
       "      <td>243</td>\n",
       "      <td>18.78</td>\n",
       "      <td>3.00</td>\n",
       "      <td>Female</td>\n",
       "      <td>No</td>\n",
       "      <td>Thur</td>\n",
       "      <td>Dinner</td>\n",
       "      <td>2</td>\n",
       "    </tr>\n",
       "  </tbody>\n",
       "</table>\n",
       "<p>151 rows × 8 columns</p>\n",
       "</div>"
      ],
      "text/plain": [
       "     Unnamed: 0.1  total_bill   tip     sex smoker   day    time  size\n",
       "0               0       16.99  1.01  Female     No   Sun  Dinner     2\n",
       "4               4       24.59  3.61  Female     No   Sun  Dinner     4\n",
       "11             11       35.26  5.00  Female     No   Sun  Dinner     4\n",
       "14             14       14.83  3.02  Female     No   Sun  Dinner     2\n",
       "16             16       10.33  1.67  Female     No   Sun  Dinner     3\n",
       "..            ...         ...   ...     ...    ...   ...     ...   ...\n",
       "237           237       32.83  1.17    Male    Yes   Sat  Dinner     2\n",
       "238           238       35.83  4.67  Female     No   Sat  Dinner     3\n",
       "240           240       27.18  2.00  Female    Yes   Sat  Dinner     2\n",
       "241           241       22.67  2.00    Male    Yes   Sat  Dinner     2\n",
       "243           243       18.78  3.00  Female     No  Thur  Dinner     2\n",
       "\n",
       "[151 rows x 8 columns]"
      ]
     },
     "execution_count": 44,
     "metadata": {},
     "output_type": "execute_result"
    }
   ],
   "source": [
    "tips_data[a | b | c]"
   ]
  },
  {
   "cell_type": "markdown",
   "metadata": {},
   "source": [
    "and &\n",
    "\n",
    "or |"
   ]
  },
  {
   "cell_type": "markdown",
   "metadata": {},
   "source": [
    "# Common operations"
   ]
  },
  {
   "cell_type": "markdown",
   "metadata": {},
   "source": [
    "## Assigning new columns"
   ]
  },
  {
   "cell_type": "code",
   "execution_count": 45,
   "metadata": {
    "ExecuteTime": {
     "end_time": "2020-04-10T08:42:46.494336Z",
     "start_time": "2020-04-10T08:42:46.485994Z"
    }
   },
   "outputs": [],
   "source": [
    "tips_data[\"log2_bill\"] = None"
   ]
  },
  {
   "cell_type": "code",
   "execution_count": 46,
   "metadata": {
    "ExecuteTime": {
     "end_time": "2020-04-10T08:42:46.517268Z",
     "start_time": "2020-04-10T08:42:46.498352Z"
    }
   },
   "outputs": [
    {
     "data": {
      "text/html": [
       "<div>\n",
       "<style scoped>\n",
       "    .dataframe tbody tr th:only-of-type {\n",
       "        vertical-align: middle;\n",
       "    }\n",
       "\n",
       "    .dataframe tbody tr th {\n",
       "        vertical-align: top;\n",
       "    }\n",
       "\n",
       "    .dataframe thead th {\n",
       "        text-align: right;\n",
       "    }\n",
       "</style>\n",
       "<table border=\"1\" class=\"dataframe\">\n",
       "  <thead>\n",
       "    <tr style=\"text-align: right;\">\n",
       "      <th></th>\n",
       "      <th>Unnamed: 0.1</th>\n",
       "      <th>total_bill</th>\n",
       "      <th>tip</th>\n",
       "      <th>sex</th>\n",
       "      <th>smoker</th>\n",
       "      <th>day</th>\n",
       "      <th>time</th>\n",
       "      <th>size</th>\n",
       "      <th>log2_bill</th>\n",
       "    </tr>\n",
       "  </thead>\n",
       "  <tbody>\n",
       "    <tr>\n",
       "      <th>0</th>\n",
       "      <td>0</td>\n",
       "      <td>16.99</td>\n",
       "      <td>1.01</td>\n",
       "      <td>Female</td>\n",
       "      <td>No</td>\n",
       "      <td>Sun</td>\n",
       "      <td>Dinner</td>\n",
       "      <td>2</td>\n",
       "      <td>None</td>\n",
       "    </tr>\n",
       "    <tr>\n",
       "      <th>1</th>\n",
       "      <td>1</td>\n",
       "      <td>10.34</td>\n",
       "      <td>1.66</td>\n",
       "      <td>Male</td>\n",
       "      <td>No</td>\n",
       "      <td>Sun</td>\n",
       "      <td>Dinner</td>\n",
       "      <td>3</td>\n",
       "      <td>None</td>\n",
       "    </tr>\n",
       "    <tr>\n",
       "      <th>2</th>\n",
       "      <td>2</td>\n",
       "      <td>21.01</td>\n",
       "      <td>3.50</td>\n",
       "      <td>Male</td>\n",
       "      <td>No</td>\n",
       "      <td>Sun</td>\n",
       "      <td>Dinner</td>\n",
       "      <td>3</td>\n",
       "      <td>None</td>\n",
       "    </tr>\n",
       "    <tr>\n",
       "      <th>3</th>\n",
       "      <td>3</td>\n",
       "      <td>23.68</td>\n",
       "      <td>3.31</td>\n",
       "      <td>Male</td>\n",
       "      <td>No</td>\n",
       "      <td>Sun</td>\n",
       "      <td>Dinner</td>\n",
       "      <td>2</td>\n",
       "      <td>None</td>\n",
       "    </tr>\n",
       "    <tr>\n",
       "      <th>4</th>\n",
       "      <td>4</td>\n",
       "      <td>24.59</td>\n",
       "      <td>3.61</td>\n",
       "      <td>Female</td>\n",
       "      <td>No</td>\n",
       "      <td>Sun</td>\n",
       "      <td>Dinner</td>\n",
       "      <td>4</td>\n",
       "      <td>None</td>\n",
       "    </tr>\n",
       "  </tbody>\n",
       "</table>\n",
       "</div>"
      ],
      "text/plain": [
       "   Unnamed: 0.1  total_bill   tip     sex smoker  day    time  size log2_bill\n",
       "0             0       16.99  1.01  Female     No  Sun  Dinner     2      None\n",
       "1             1       10.34  1.66    Male     No  Sun  Dinner     3      None\n",
       "2             2       21.01  3.50    Male     No  Sun  Dinner     3      None\n",
       "3             3       23.68  3.31    Male     No  Sun  Dinner     2      None\n",
       "4             4       24.59  3.61  Female     No  Sun  Dinner     4      None"
      ]
     },
     "execution_count": 46,
     "metadata": {},
     "output_type": "execute_result"
    }
   ],
   "source": [
    "tips_data.head()"
   ]
  },
  {
   "cell_type": "markdown",
   "metadata": {},
   "source": [
    "## Transformations"
   ]
  },
  {
   "cell_type": "markdown",
   "metadata": {},
   "source": [
    "### Simple arithmetic"
   ]
  },
  {
   "cell_type": "code",
   "execution_count": 47,
   "metadata": {
    "ExecuteTime": {
     "end_time": "2020-04-10T08:42:46.529428Z",
     "start_time": "2020-04-10T08:42:46.519642Z"
    }
   },
   "outputs": [],
   "source": [
    "tips_data[\"tip_percentage\"] = (tips_data[\"tip\"] / tips_data[\"total_bill\"]) * 100"
   ]
  },
  {
   "cell_type": "code",
   "execution_count": 49,
   "metadata": {
    "ExecuteTime": {
     "end_time": "2020-04-10T08:42:46.546041Z",
     "start_time": "2020-04-10T08:42:46.531022Z"
    }
   },
   "outputs": [
    {
     "data": {
      "text/html": [
       "<div>\n",
       "<style scoped>\n",
       "    .dataframe tbody tr th:only-of-type {\n",
       "        vertical-align: middle;\n",
       "    }\n",
       "\n",
       "    .dataframe tbody tr th {\n",
       "        vertical-align: top;\n",
       "    }\n",
       "\n",
       "    .dataframe thead th {\n",
       "        text-align: right;\n",
       "    }\n",
       "</style>\n",
       "<table border=\"1\" class=\"dataframe\">\n",
       "  <thead>\n",
       "    <tr style=\"text-align: right;\">\n",
       "      <th></th>\n",
       "      <th>Unnamed: 0.1</th>\n",
       "      <th>total_bill</th>\n",
       "      <th>tip</th>\n",
       "      <th>sex</th>\n",
       "      <th>smoker</th>\n",
       "      <th>day</th>\n",
       "      <th>time</th>\n",
       "      <th>size</th>\n",
       "      <th>log2_bill</th>\n",
       "      <th>tip_percentage</th>\n",
       "    </tr>\n",
       "  </thead>\n",
       "  <tbody>\n",
       "    <tr>\n",
       "      <th>0</th>\n",
       "      <td>0</td>\n",
       "      <td>16.99</td>\n",
       "      <td>1.01</td>\n",
       "      <td>Female</td>\n",
       "      <td>No</td>\n",
       "      <td>Sun</td>\n",
       "      <td>Dinner</td>\n",
       "      <td>2</td>\n",
       "      <td>None</td>\n",
       "      <td>5.944673</td>\n",
       "    </tr>\n",
       "    <tr>\n",
       "      <th>1</th>\n",
       "      <td>1</td>\n",
       "      <td>10.34</td>\n",
       "      <td>1.66</td>\n",
       "      <td>Male</td>\n",
       "      <td>No</td>\n",
       "      <td>Sun</td>\n",
       "      <td>Dinner</td>\n",
       "      <td>3</td>\n",
       "      <td>None</td>\n",
       "      <td>16.054159</td>\n",
       "    </tr>\n",
       "    <tr>\n",
       "      <th>2</th>\n",
       "      <td>2</td>\n",
       "      <td>21.01</td>\n",
       "      <td>3.50</td>\n",
       "      <td>Male</td>\n",
       "      <td>No</td>\n",
       "      <td>Sun</td>\n",
       "      <td>Dinner</td>\n",
       "      <td>3</td>\n",
       "      <td>None</td>\n",
       "      <td>16.658734</td>\n",
       "    </tr>\n",
       "    <tr>\n",
       "      <th>3</th>\n",
       "      <td>3</td>\n",
       "      <td>23.68</td>\n",
       "      <td>3.31</td>\n",
       "      <td>Male</td>\n",
       "      <td>No</td>\n",
       "      <td>Sun</td>\n",
       "      <td>Dinner</td>\n",
       "      <td>2</td>\n",
       "      <td>None</td>\n",
       "      <td>13.978041</td>\n",
       "    </tr>\n",
       "    <tr>\n",
       "      <th>4</th>\n",
       "      <td>4</td>\n",
       "      <td>24.59</td>\n",
       "      <td>3.61</td>\n",
       "      <td>Female</td>\n",
       "      <td>No</td>\n",
       "      <td>Sun</td>\n",
       "      <td>Dinner</td>\n",
       "      <td>4</td>\n",
       "      <td>None</td>\n",
       "      <td>14.680765</td>\n",
       "    </tr>\n",
       "    <tr>\n",
       "      <th>5</th>\n",
       "      <td>5</td>\n",
       "      <td>25.29</td>\n",
       "      <td>4.71</td>\n",
       "      <td>Male</td>\n",
       "      <td>No</td>\n",
       "      <td>Sun</td>\n",
       "      <td>Dinner</td>\n",
       "      <td>4</td>\n",
       "      <td>None</td>\n",
       "      <td>18.623962</td>\n",
       "    </tr>\n",
       "    <tr>\n",
       "      <th>6</th>\n",
       "      <td>6</td>\n",
       "      <td>8.77</td>\n",
       "      <td>2.00</td>\n",
       "      <td>Male</td>\n",
       "      <td>No</td>\n",
       "      <td>Sun</td>\n",
       "      <td>Dinner</td>\n",
       "      <td>2</td>\n",
       "      <td>None</td>\n",
       "      <td>22.805017</td>\n",
       "    </tr>\n",
       "    <tr>\n",
       "      <th>7</th>\n",
       "      <td>7</td>\n",
       "      <td>26.88</td>\n",
       "      <td>3.12</td>\n",
       "      <td>Male</td>\n",
       "      <td>No</td>\n",
       "      <td>Sun</td>\n",
       "      <td>Dinner</td>\n",
       "      <td>4</td>\n",
       "      <td>None</td>\n",
       "      <td>11.607143</td>\n",
       "    </tr>\n",
       "    <tr>\n",
       "      <th>8</th>\n",
       "      <td>8</td>\n",
       "      <td>15.04</td>\n",
       "      <td>1.96</td>\n",
       "      <td>Male</td>\n",
       "      <td>No</td>\n",
       "      <td>Sun</td>\n",
       "      <td>Dinner</td>\n",
       "      <td>2</td>\n",
       "      <td>None</td>\n",
       "      <td>13.031915</td>\n",
       "    </tr>\n",
       "    <tr>\n",
       "      <th>9</th>\n",
       "      <td>9</td>\n",
       "      <td>14.78</td>\n",
       "      <td>3.23</td>\n",
       "      <td>Male</td>\n",
       "      <td>No</td>\n",
       "      <td>Sun</td>\n",
       "      <td>Dinner</td>\n",
       "      <td>2</td>\n",
       "      <td>None</td>\n",
       "      <td>21.853857</td>\n",
       "    </tr>\n",
       "  </tbody>\n",
       "</table>\n",
       "</div>"
      ],
      "text/plain": [
       "   Unnamed: 0.1  total_bill   tip     sex smoker  day    time  size log2_bill  \\\n",
       "0             0       16.99  1.01  Female     No  Sun  Dinner     2      None   \n",
       "1             1       10.34  1.66    Male     No  Sun  Dinner     3      None   \n",
       "2             2       21.01  3.50    Male     No  Sun  Dinner     3      None   \n",
       "3             3       23.68  3.31    Male     No  Sun  Dinner     2      None   \n",
       "4             4       24.59  3.61  Female     No  Sun  Dinner     4      None   \n",
       "5             5       25.29  4.71    Male     No  Sun  Dinner     4      None   \n",
       "6             6        8.77  2.00    Male     No  Sun  Dinner     2      None   \n",
       "7             7       26.88  3.12    Male     No  Sun  Dinner     4      None   \n",
       "8             8       15.04  1.96    Male     No  Sun  Dinner     2      None   \n",
       "9             9       14.78  3.23    Male     No  Sun  Dinner     2      None   \n",
       "\n",
       "   tip_percentage  \n",
       "0        5.944673  \n",
       "1       16.054159  \n",
       "2       16.658734  \n",
       "3       13.978041  \n",
       "4       14.680765  \n",
       "5       18.623962  \n",
       "6       22.805017  \n",
       "7       11.607143  \n",
       "8       13.031915  \n",
       "9       21.853857  "
      ]
     },
     "execution_count": 49,
     "metadata": {},
     "output_type": "execute_result"
    }
   ],
   "source": [
    "tips_data.head(10)"
   ]
  },
  {
   "cell_type": "markdown",
   "metadata": {},
   "source": [
    "### Lambda functions"
   ]
  },
  {
   "cell_type": "code",
   "execution_count": 50,
   "metadata": {
    "ExecuteTime": {
     "end_time": "2020-04-10T08:42:46.558269Z",
     "start_time": "2020-04-10T08:42:46.548057Z"
    },
    "scrolled": true
   },
   "outputs": [
    {
     "data": {
      "text/plain": [
       "0      288.6601\n",
       "1      106.9156\n",
       "2      441.4201\n",
       "3      560.7424\n",
       "4      604.6681\n",
       "         ...   \n",
       "239    842.7409\n",
       "240    738.7524\n",
       "241    513.9289\n",
       "242    317.5524\n",
       "243    352.6884\n",
       "Name: total_bill, Length: 244, dtype: float64"
      ]
     },
     "execution_count": 50,
     "metadata": {},
     "output_type": "execute_result"
    }
   ],
   "source": [
    "tips_data[\"total_bill\"].apply(lambda x: x ** 2)"
   ]
  },
  {
   "cell_type": "code",
   "execution_count": 51,
   "metadata": {},
   "outputs": [
    {
     "data": {
      "text/html": [
       "<div>\n",
       "<style scoped>\n",
       "    .dataframe tbody tr th:only-of-type {\n",
       "        vertical-align: middle;\n",
       "    }\n",
       "\n",
       "    .dataframe tbody tr th {\n",
       "        vertical-align: top;\n",
       "    }\n",
       "\n",
       "    .dataframe thead th {\n",
       "        text-align: right;\n",
       "    }\n",
       "</style>\n",
       "<table border=\"1\" class=\"dataframe\">\n",
       "  <thead>\n",
       "    <tr style=\"text-align: right;\">\n",
       "      <th></th>\n",
       "      <th>Unnamed: 0.1</th>\n",
       "      <th>total_bill</th>\n",
       "      <th>tip</th>\n",
       "      <th>sex</th>\n",
       "      <th>smoker</th>\n",
       "      <th>day</th>\n",
       "      <th>time</th>\n",
       "      <th>size</th>\n",
       "      <th>log2_bill</th>\n",
       "      <th>tip_percentage</th>\n",
       "    </tr>\n",
       "  </thead>\n",
       "  <tbody>\n",
       "    <tr>\n",
       "      <th>0</th>\n",
       "      <td>0</td>\n",
       "      <td>16.99</td>\n",
       "      <td>1.01</td>\n",
       "      <td>Female</td>\n",
       "      <td>No</td>\n",
       "      <td>Sun</td>\n",
       "      <td>Dinner</td>\n",
       "      <td>2</td>\n",
       "      <td>None</td>\n",
       "      <td>5.944673</td>\n",
       "    </tr>\n",
       "    <tr>\n",
       "      <th>1</th>\n",
       "      <td>1</td>\n",
       "      <td>10.34</td>\n",
       "      <td>1.66</td>\n",
       "      <td>Male</td>\n",
       "      <td>No</td>\n",
       "      <td>Sun</td>\n",
       "      <td>Dinner</td>\n",
       "      <td>3</td>\n",
       "      <td>None</td>\n",
       "      <td>16.054159</td>\n",
       "    </tr>\n",
       "    <tr>\n",
       "      <th>2</th>\n",
       "      <td>2</td>\n",
       "      <td>21.01</td>\n",
       "      <td>3.50</td>\n",
       "      <td>Male</td>\n",
       "      <td>No</td>\n",
       "      <td>Sun</td>\n",
       "      <td>Dinner</td>\n",
       "      <td>3</td>\n",
       "      <td>None</td>\n",
       "      <td>16.658734</td>\n",
       "    </tr>\n",
       "    <tr>\n",
       "      <th>3</th>\n",
       "      <td>3</td>\n",
       "      <td>23.68</td>\n",
       "      <td>3.31</td>\n",
       "      <td>Male</td>\n",
       "      <td>No</td>\n",
       "      <td>Sun</td>\n",
       "      <td>Dinner</td>\n",
       "      <td>2</td>\n",
       "      <td>None</td>\n",
       "      <td>13.978041</td>\n",
       "    </tr>\n",
       "    <tr>\n",
       "      <th>4</th>\n",
       "      <td>4</td>\n",
       "      <td>24.59</td>\n",
       "      <td>3.61</td>\n",
       "      <td>Female</td>\n",
       "      <td>No</td>\n",
       "      <td>Sun</td>\n",
       "      <td>Dinner</td>\n",
       "      <td>4</td>\n",
       "      <td>None</td>\n",
       "      <td>14.680765</td>\n",
       "    </tr>\n",
       "    <tr>\n",
       "      <th>5</th>\n",
       "      <td>5</td>\n",
       "      <td>25.29</td>\n",
       "      <td>4.71</td>\n",
       "      <td>Male</td>\n",
       "      <td>No</td>\n",
       "      <td>Sun</td>\n",
       "      <td>Dinner</td>\n",
       "      <td>4</td>\n",
       "      <td>None</td>\n",
       "      <td>18.623962</td>\n",
       "    </tr>\n",
       "    <tr>\n",
       "      <th>6</th>\n",
       "      <td>6</td>\n",
       "      <td>8.77</td>\n",
       "      <td>2.00</td>\n",
       "      <td>Male</td>\n",
       "      <td>No</td>\n",
       "      <td>Sun</td>\n",
       "      <td>Dinner</td>\n",
       "      <td>2</td>\n",
       "      <td>None</td>\n",
       "      <td>22.805017</td>\n",
       "    </tr>\n",
       "    <tr>\n",
       "      <th>7</th>\n",
       "      <td>7</td>\n",
       "      <td>26.88</td>\n",
       "      <td>3.12</td>\n",
       "      <td>Male</td>\n",
       "      <td>No</td>\n",
       "      <td>Sun</td>\n",
       "      <td>Dinner</td>\n",
       "      <td>4</td>\n",
       "      <td>None</td>\n",
       "      <td>11.607143</td>\n",
       "    </tr>\n",
       "    <tr>\n",
       "      <th>8</th>\n",
       "      <td>8</td>\n",
       "      <td>15.04</td>\n",
       "      <td>1.96</td>\n",
       "      <td>Male</td>\n",
       "      <td>No</td>\n",
       "      <td>Sun</td>\n",
       "      <td>Dinner</td>\n",
       "      <td>2</td>\n",
       "      <td>None</td>\n",
       "      <td>13.031915</td>\n",
       "    </tr>\n",
       "    <tr>\n",
       "      <th>9</th>\n",
       "      <td>9</td>\n",
       "      <td>14.78</td>\n",
       "      <td>3.23</td>\n",
       "      <td>Male</td>\n",
       "      <td>No</td>\n",
       "      <td>Sun</td>\n",
       "      <td>Dinner</td>\n",
       "      <td>2</td>\n",
       "      <td>None</td>\n",
       "      <td>21.853857</td>\n",
       "    </tr>\n",
       "  </tbody>\n",
       "</table>\n",
       "</div>"
      ],
      "text/plain": [
       "   Unnamed: 0.1  total_bill   tip     sex smoker  day    time  size log2_bill  \\\n",
       "0             0       16.99  1.01  Female     No  Sun  Dinner     2      None   \n",
       "1             1       10.34  1.66    Male     No  Sun  Dinner     3      None   \n",
       "2             2       21.01  3.50    Male     No  Sun  Dinner     3      None   \n",
       "3             3       23.68  3.31    Male     No  Sun  Dinner     2      None   \n",
       "4             4       24.59  3.61  Female     No  Sun  Dinner     4      None   \n",
       "5             5       25.29  4.71    Male     No  Sun  Dinner     4      None   \n",
       "6             6        8.77  2.00    Male     No  Sun  Dinner     2      None   \n",
       "7             7       26.88  3.12    Male     No  Sun  Dinner     4      None   \n",
       "8             8       15.04  1.96    Male     No  Sun  Dinner     2      None   \n",
       "9             9       14.78  3.23    Male     No  Sun  Dinner     2      None   \n",
       "\n",
       "   tip_percentage  \n",
       "0        5.944673  \n",
       "1       16.054159  \n",
       "2       16.658734  \n",
       "3       13.978041  \n",
       "4       14.680765  \n",
       "5       18.623962  \n",
       "6       22.805017  \n",
       "7       11.607143  \n",
       "8       13.031915  \n",
       "9       21.853857  "
      ]
     },
     "execution_count": 51,
     "metadata": {},
     "output_type": "execute_result"
    }
   ],
   "source": [
    "tips_data.head(10)"
   ]
  },
  {
   "cell_type": "code",
   "execution_count": 52,
   "metadata": {
    "ExecuteTime": {
     "end_time": "2020-04-10T08:42:46.568740Z",
     "start_time": "2020-04-10T08:42:46.559806Z"
    }
   },
   "outputs": [],
   "source": [
    "square = lambda x: x ** 2"
   ]
  },
  {
   "cell_type": "code",
   "execution_count": 53,
   "metadata": {
    "ExecuteTime": {
     "end_time": "2020-04-10T08:42:46.583535Z",
     "start_time": "2020-04-10T08:42:46.570149Z"
    }
   },
   "outputs": [
    {
     "data": {
      "text/plain": [
       "function"
      ]
     },
     "execution_count": 53,
     "metadata": {},
     "output_type": "execute_result"
    }
   ],
   "source": [
    "type(square)"
   ]
  },
  {
   "cell_type": "code",
   "execution_count": 54,
   "metadata": {
    "ExecuteTime": {
     "end_time": "2020-04-10T08:42:46.598588Z",
     "start_time": "2020-04-10T08:42:46.585423Z"
    }
   },
   "outputs": [
    {
     "data": {
      "text/plain": [
       "16"
      ]
     },
     "execution_count": 54,
     "metadata": {},
     "output_type": "execute_result"
    }
   ],
   "source": [
    "square(4)"
   ]
  },
  {
   "cell_type": "code",
   "execution_count": 55,
   "metadata": {
    "ExecuteTime": {
     "end_time": "2020-04-10T08:42:46.621124Z",
     "start_time": "2020-04-10T08:42:46.599665Z"
    }
   },
   "outputs": [
    {
     "data": {
      "text/html": [
       "<div>\n",
       "<style scoped>\n",
       "    .dataframe tbody tr th:only-of-type {\n",
       "        vertical-align: middle;\n",
       "    }\n",
       "\n",
       "    .dataframe tbody tr th {\n",
       "        vertical-align: top;\n",
       "    }\n",
       "\n",
       "    .dataframe thead th {\n",
       "        text-align: right;\n",
       "    }\n",
       "</style>\n",
       "<table border=\"1\" class=\"dataframe\">\n",
       "  <thead>\n",
       "    <tr style=\"text-align: right;\">\n",
       "      <th></th>\n",
       "      <th>Unnamed: 0.1</th>\n",
       "      <th>total_bill</th>\n",
       "      <th>tip</th>\n",
       "      <th>sex</th>\n",
       "      <th>smoker</th>\n",
       "      <th>day</th>\n",
       "      <th>time</th>\n",
       "      <th>size</th>\n",
       "      <th>log2_bill</th>\n",
       "      <th>tip_percentage</th>\n",
       "    </tr>\n",
       "  </thead>\n",
       "  <tbody>\n",
       "    <tr>\n",
       "      <th>0</th>\n",
       "      <td>0</td>\n",
       "      <td>16.99</td>\n",
       "      <td>1.01</td>\n",
       "      <td>Female</td>\n",
       "      <td>No</td>\n",
       "      <td>Sun</td>\n",
       "      <td>Dinner</td>\n",
       "      <td>2</td>\n",
       "      <td>4.086614</td>\n",
       "      <td>5.944673</td>\n",
       "    </tr>\n",
       "    <tr>\n",
       "      <th>1</th>\n",
       "      <td>1</td>\n",
       "      <td>10.34</td>\n",
       "      <td>1.66</td>\n",
       "      <td>Male</td>\n",
       "      <td>No</td>\n",
       "      <td>Sun</td>\n",
       "      <td>Dinner</td>\n",
       "      <td>3</td>\n",
       "      <td>3.370164</td>\n",
       "      <td>16.054159</td>\n",
       "    </tr>\n",
       "  </tbody>\n",
       "</table>\n",
       "</div>"
      ],
      "text/plain": [
       "   Unnamed: 0.1  total_bill   tip     sex smoker  day    time  size  \\\n",
       "0             0       16.99  1.01  Female     No  Sun  Dinner     2   \n",
       "1             1       10.34  1.66    Male     No  Sun  Dinner     3   \n",
       "\n",
       "   log2_bill  tip_percentage  \n",
       "0   4.086614        5.944673  \n",
       "1   3.370164       16.054159  "
      ]
     },
     "execution_count": 55,
     "metadata": {},
     "output_type": "execute_result"
    }
   ],
   "source": [
    "from math import log\n",
    "\n",
    "tips_data[\"log2_bill\"] = tips_data[\"total_bill\"].apply(lambda x: log(x, 2))\n",
    "tips_data.head(2)"
   ]
  },
  {
   "cell_type": "markdown",
   "metadata": {},
   "source": [
    "Check for if the meal was ordered on Sunday:"
   ]
  },
  {
   "cell_type": "code",
   "execution_count": 95,
   "metadata": {},
   "outputs": [
    {
     "data": {
      "text/html": [
       "<div>\n",
       "<style scoped>\n",
       "    .dataframe tbody tr th:only-of-type {\n",
       "        vertical-align: middle;\n",
       "    }\n",
       "\n",
       "    .dataframe tbody tr th {\n",
       "        vertical-align: top;\n",
       "    }\n",
       "\n",
       "    .dataframe thead th {\n",
       "        text-align: right;\n",
       "    }\n",
       "</style>\n",
       "<table border=\"1\" class=\"dataframe\">\n",
       "  <thead>\n",
       "    <tr style=\"text-align: right;\">\n",
       "      <th></th>\n",
       "      <th>total_bill</th>\n",
       "      <th>tip</th>\n",
       "      <th>sex</th>\n",
       "      <th>smoker</th>\n",
       "      <th>day</th>\n",
       "      <th>time</th>\n",
       "      <th>size</th>\n",
       "      <th>log2_bill</th>\n",
       "      <th>tip_percentage</th>\n",
       "      <th>on_sunday?</th>\n",
       "    </tr>\n",
       "  </thead>\n",
       "  <tbody>\n",
       "    <tr>\n",
       "      <th>0</th>\n",
       "      <td>16.99</td>\n",
       "      <td>1.01</td>\n",
       "      <td>Female</td>\n",
       "      <td>No</td>\n",
       "      <td>Sun</td>\n",
       "      <td>Dinner</td>\n",
       "      <td>2</td>\n",
       "      <td>4.086614</td>\n",
       "      <td>5.944673</td>\n",
       "      <td>False</td>\n",
       "    </tr>\n",
       "    <tr>\n",
       "      <th>1</th>\n",
       "      <td>10.34</td>\n",
       "      <td>1.66</td>\n",
       "      <td>Male</td>\n",
       "      <td>No</td>\n",
       "      <td>Sun</td>\n",
       "      <td>Dinner</td>\n",
       "      <td>3</td>\n",
       "      <td>3.370164</td>\n",
       "      <td>16.054159</td>\n",
       "      <td>False</td>\n",
       "    </tr>\n",
       "    <tr>\n",
       "      <th>2</th>\n",
       "      <td>21.01</td>\n",
       "      <td>3.50</td>\n",
       "      <td>Male</td>\n",
       "      <td>No</td>\n",
       "      <td>Sun</td>\n",
       "      <td>Dinner</td>\n",
       "      <td>3</td>\n",
       "      <td>4.393004</td>\n",
       "      <td>16.658734</td>\n",
       "      <td>False</td>\n",
       "    </tr>\n",
       "    <tr>\n",
       "      <th>3</th>\n",
       "      <td>23.68</td>\n",
       "      <td>3.31</td>\n",
       "      <td>Male</td>\n",
       "      <td>No</td>\n",
       "      <td>Sun</td>\n",
       "      <td>Dinner</td>\n",
       "      <td>2</td>\n",
       "      <td>4.565597</td>\n",
       "      <td>13.978041</td>\n",
       "      <td>False</td>\n",
       "    </tr>\n",
       "    <tr>\n",
       "      <th>4</th>\n",
       "      <td>24.59</td>\n",
       "      <td>3.61</td>\n",
       "      <td>Female</td>\n",
       "      <td>No</td>\n",
       "      <td>Sun</td>\n",
       "      <td>Dinner</td>\n",
       "      <td>4</td>\n",
       "      <td>4.620000</td>\n",
       "      <td>14.680765</td>\n",
       "      <td>False</td>\n",
       "    </tr>\n",
       "  </tbody>\n",
       "</table>\n",
       "</div>"
      ],
      "text/plain": [
       "   total_bill   tip     sex smoker  day    time  size  log2_bill  \\\n",
       "0       16.99  1.01  Female     No  Sun  Dinner     2   4.086614   \n",
       "1       10.34  1.66    Male     No  Sun  Dinner     3   3.370164   \n",
       "2       21.01  3.50    Male     No  Sun  Dinner     3   4.393004   \n",
       "3       23.68  3.31    Male     No  Sun  Dinner     2   4.565597   \n",
       "4       24.59  3.61  Female     No  Sun  Dinner     4   4.620000   \n",
       "\n",
       "   tip_percentage  on_sunday?  \n",
       "0        5.944673       False  \n",
       "1       16.054159       False  \n",
       "2       16.658734       False  \n",
       "3       13.978041       False  \n",
       "4       14.680765       False  "
      ]
     },
     "execution_count": 95,
     "metadata": {},
     "output_type": "execute_result"
    }
   ],
   "source": [
    "tips_data['on_sunday?'] = False\n",
    "tips_data.head()"
   ]
  },
  {
   "cell_type": "code",
   "execution_count": 96,
   "metadata": {},
   "outputs": [],
   "source": [
    "check_if_sunday = lambda row: True if row.day == 'Sun' else False\n",
    "tips_data['on_sunday?'] = tips_data.apply(check_if_sunday, axis = 1)"
   ]
  },
  {
   "cell_type": "code",
   "execution_count": 98,
   "metadata": {},
   "outputs": [],
   "source": [
    "tips_data.loc[tips_data['day'] == 'Sun', 'on_sunday'] = True"
   ]
  },
  {
   "cell_type": "code",
   "execution_count": 99,
   "metadata": {},
   "outputs": [
    {
     "data": {
      "text/html": [
       "<div>\n",
       "<style scoped>\n",
       "    .dataframe tbody tr th:only-of-type {\n",
       "        vertical-align: middle;\n",
       "    }\n",
       "\n",
       "    .dataframe tbody tr th {\n",
       "        vertical-align: top;\n",
       "    }\n",
       "\n",
       "    .dataframe thead th {\n",
       "        text-align: right;\n",
       "    }\n",
       "</style>\n",
       "<table border=\"1\" class=\"dataframe\">\n",
       "  <thead>\n",
       "    <tr style=\"text-align: right;\">\n",
       "      <th></th>\n",
       "      <th>total_bill</th>\n",
       "      <th>tip</th>\n",
       "      <th>sex</th>\n",
       "      <th>smoker</th>\n",
       "      <th>day</th>\n",
       "      <th>time</th>\n",
       "      <th>size</th>\n",
       "      <th>log2_bill</th>\n",
       "      <th>tip_percentage</th>\n",
       "      <th>on_sunday?</th>\n",
       "      <th>on_sunday</th>\n",
       "    </tr>\n",
       "  </thead>\n",
       "  <tbody>\n",
       "    <tr>\n",
       "      <th>0</th>\n",
       "      <td>16.99</td>\n",
       "      <td>1.01</td>\n",
       "      <td>Female</td>\n",
       "      <td>No</td>\n",
       "      <td>Sun</td>\n",
       "      <td>Dinner</td>\n",
       "      <td>2</td>\n",
       "      <td>4.086614</td>\n",
       "      <td>5.944673</td>\n",
       "      <td>True</td>\n",
       "      <td>True</td>\n",
       "    </tr>\n",
       "    <tr>\n",
       "      <th>1</th>\n",
       "      <td>10.34</td>\n",
       "      <td>1.66</td>\n",
       "      <td>Male</td>\n",
       "      <td>No</td>\n",
       "      <td>Sun</td>\n",
       "      <td>Dinner</td>\n",
       "      <td>3</td>\n",
       "      <td>3.370164</td>\n",
       "      <td>16.054159</td>\n",
       "      <td>True</td>\n",
       "      <td>True</td>\n",
       "    </tr>\n",
       "    <tr>\n",
       "      <th>2</th>\n",
       "      <td>21.01</td>\n",
       "      <td>3.50</td>\n",
       "      <td>Male</td>\n",
       "      <td>No</td>\n",
       "      <td>Sun</td>\n",
       "      <td>Dinner</td>\n",
       "      <td>3</td>\n",
       "      <td>4.393004</td>\n",
       "      <td>16.658734</td>\n",
       "      <td>True</td>\n",
       "      <td>True</td>\n",
       "    </tr>\n",
       "    <tr>\n",
       "      <th>3</th>\n",
       "      <td>23.68</td>\n",
       "      <td>3.31</td>\n",
       "      <td>Male</td>\n",
       "      <td>No</td>\n",
       "      <td>Sun</td>\n",
       "      <td>Dinner</td>\n",
       "      <td>2</td>\n",
       "      <td>4.565597</td>\n",
       "      <td>13.978041</td>\n",
       "      <td>True</td>\n",
       "      <td>True</td>\n",
       "    </tr>\n",
       "    <tr>\n",
       "      <th>4</th>\n",
       "      <td>24.59</td>\n",
       "      <td>3.61</td>\n",
       "      <td>Female</td>\n",
       "      <td>No</td>\n",
       "      <td>Sun</td>\n",
       "      <td>Dinner</td>\n",
       "      <td>4</td>\n",
       "      <td>4.620000</td>\n",
       "      <td>14.680765</td>\n",
       "      <td>True</td>\n",
       "      <td>True</td>\n",
       "    </tr>\n",
       "  </tbody>\n",
       "</table>\n",
       "</div>"
      ],
      "text/plain": [
       "   total_bill   tip     sex smoker  day    time  size  log2_bill  \\\n",
       "0       16.99  1.01  Female     No  Sun  Dinner     2   4.086614   \n",
       "1       10.34  1.66    Male     No  Sun  Dinner     3   3.370164   \n",
       "2       21.01  3.50    Male     No  Sun  Dinner     3   4.393004   \n",
       "3       23.68  3.31    Male     No  Sun  Dinner     2   4.565597   \n",
       "4       24.59  3.61  Female     No  Sun  Dinner     4   4.620000   \n",
       "\n",
       "   tip_percentage  on_sunday? on_sunday  \n",
       "0        5.944673        True      True  \n",
       "1       16.054159        True      True  \n",
       "2       16.658734        True      True  \n",
       "3       13.978041        True      True  \n",
       "4       14.680765        True      True  "
      ]
     },
     "execution_count": 99,
     "metadata": {},
     "output_type": "execute_result"
    }
   ],
   "source": [
    "tips_data.head()"
   ]
  },
  {
   "cell_type": "markdown",
   "metadata": {},
   "source": [
    "## Dropping columns"
   ]
  },
  {
   "cell_type": "code",
   "execution_count": 56,
   "metadata": {
    "ExecuteTime": {
     "end_time": "2020-04-10T08:42:46.650038Z",
     "start_time": "2020-04-10T08:42:46.622770Z"
    }
   },
   "outputs": [
    {
     "data": {
      "text/html": [
       "<div>\n",
       "<style scoped>\n",
       "    .dataframe tbody tr th:only-of-type {\n",
       "        vertical-align: middle;\n",
       "    }\n",
       "\n",
       "    .dataframe tbody tr th {\n",
       "        vertical-align: top;\n",
       "    }\n",
       "\n",
       "    .dataframe thead th {\n",
       "        text-align: right;\n",
       "    }\n",
       "</style>\n",
       "<table border=\"1\" class=\"dataframe\">\n",
       "  <thead>\n",
       "    <tr style=\"text-align: right;\">\n",
       "      <th></th>\n",
       "      <th>total_bill</th>\n",
       "      <th>tip</th>\n",
       "      <th>sex</th>\n",
       "      <th>smoker</th>\n",
       "      <th>day</th>\n",
       "      <th>time</th>\n",
       "      <th>size</th>\n",
       "      <th>log2_bill</th>\n",
       "      <th>tip_percentage</th>\n",
       "    </tr>\n",
       "  </thead>\n",
       "  <tbody>\n",
       "    <tr>\n",
       "      <th>0</th>\n",
       "      <td>16.99</td>\n",
       "      <td>1.01</td>\n",
       "      <td>Female</td>\n",
       "      <td>No</td>\n",
       "      <td>Sun</td>\n",
       "      <td>Dinner</td>\n",
       "      <td>2</td>\n",
       "      <td>4.086614</td>\n",
       "      <td>5.944673</td>\n",
       "    </tr>\n",
       "    <tr>\n",
       "      <th>1</th>\n",
       "      <td>10.34</td>\n",
       "      <td>1.66</td>\n",
       "      <td>Male</td>\n",
       "      <td>No</td>\n",
       "      <td>Sun</td>\n",
       "      <td>Dinner</td>\n",
       "      <td>3</td>\n",
       "      <td>3.370164</td>\n",
       "      <td>16.054159</td>\n",
       "    </tr>\n",
       "    <tr>\n",
       "      <th>2</th>\n",
       "      <td>21.01</td>\n",
       "      <td>3.50</td>\n",
       "      <td>Male</td>\n",
       "      <td>No</td>\n",
       "      <td>Sun</td>\n",
       "      <td>Dinner</td>\n",
       "      <td>3</td>\n",
       "      <td>4.393004</td>\n",
       "      <td>16.658734</td>\n",
       "    </tr>\n",
       "    <tr>\n",
       "      <th>3</th>\n",
       "      <td>23.68</td>\n",
       "      <td>3.31</td>\n",
       "      <td>Male</td>\n",
       "      <td>No</td>\n",
       "      <td>Sun</td>\n",
       "      <td>Dinner</td>\n",
       "      <td>2</td>\n",
       "      <td>4.565597</td>\n",
       "      <td>13.978041</td>\n",
       "    </tr>\n",
       "    <tr>\n",
       "      <th>4</th>\n",
       "      <td>24.59</td>\n",
       "      <td>3.61</td>\n",
       "      <td>Female</td>\n",
       "      <td>No</td>\n",
       "      <td>Sun</td>\n",
       "      <td>Dinner</td>\n",
       "      <td>4</td>\n",
       "      <td>4.620000</td>\n",
       "      <td>14.680765</td>\n",
       "    </tr>\n",
       "    <tr>\n",
       "      <th>...</th>\n",
       "      <td>...</td>\n",
       "      <td>...</td>\n",
       "      <td>...</td>\n",
       "      <td>...</td>\n",
       "      <td>...</td>\n",
       "      <td>...</td>\n",
       "      <td>...</td>\n",
       "      <td>...</td>\n",
       "      <td>...</td>\n",
       "    </tr>\n",
       "    <tr>\n",
       "      <th>239</th>\n",
       "      <td>29.03</td>\n",
       "      <td>5.92</td>\n",
       "      <td>Male</td>\n",
       "      <td>No</td>\n",
       "      <td>Sat</td>\n",
       "      <td>Dinner</td>\n",
       "      <td>3</td>\n",
       "      <td>4.859473</td>\n",
       "      <td>20.392697</td>\n",
       "    </tr>\n",
       "    <tr>\n",
       "      <th>240</th>\n",
       "      <td>27.18</td>\n",
       "      <td>2.00</td>\n",
       "      <td>Female</td>\n",
       "      <td>Yes</td>\n",
       "      <td>Sat</td>\n",
       "      <td>Dinner</td>\n",
       "      <td>2</td>\n",
       "      <td>4.764474</td>\n",
       "      <td>7.358352</td>\n",
       "    </tr>\n",
       "    <tr>\n",
       "      <th>241</th>\n",
       "      <td>22.67</td>\n",
       "      <td>2.00</td>\n",
       "      <td>Male</td>\n",
       "      <td>Yes</td>\n",
       "      <td>Sat</td>\n",
       "      <td>Dinner</td>\n",
       "      <td>2</td>\n",
       "      <td>4.502712</td>\n",
       "      <td>8.822232</td>\n",
       "    </tr>\n",
       "    <tr>\n",
       "      <th>242</th>\n",
       "      <td>17.82</td>\n",
       "      <td>1.75</td>\n",
       "      <td>Male</td>\n",
       "      <td>No</td>\n",
       "      <td>Sat</td>\n",
       "      <td>Dinner</td>\n",
       "      <td>2</td>\n",
       "      <td>4.155425</td>\n",
       "      <td>9.820426</td>\n",
       "    </tr>\n",
       "    <tr>\n",
       "      <th>243</th>\n",
       "      <td>18.78</td>\n",
       "      <td>3.00</td>\n",
       "      <td>Female</td>\n",
       "      <td>No</td>\n",
       "      <td>Thur</td>\n",
       "      <td>Dinner</td>\n",
       "      <td>2</td>\n",
       "      <td>4.231125</td>\n",
       "      <td>15.974441</td>\n",
       "    </tr>\n",
       "  </tbody>\n",
       "</table>\n",
       "<p>244 rows × 9 columns</p>\n",
       "</div>"
      ],
      "text/plain": [
       "     total_bill   tip     sex smoker   day    time  size  log2_bill  \\\n",
       "0         16.99  1.01  Female     No   Sun  Dinner     2   4.086614   \n",
       "1         10.34  1.66    Male     No   Sun  Dinner     3   3.370164   \n",
       "2         21.01  3.50    Male     No   Sun  Dinner     3   4.393004   \n",
       "3         23.68  3.31    Male     No   Sun  Dinner     2   4.565597   \n",
       "4         24.59  3.61  Female     No   Sun  Dinner     4   4.620000   \n",
       "..          ...   ...     ...    ...   ...     ...   ...        ...   \n",
       "239       29.03  5.92    Male     No   Sat  Dinner     3   4.859473   \n",
       "240       27.18  2.00  Female    Yes   Sat  Dinner     2   4.764474   \n",
       "241       22.67  2.00    Male    Yes   Sat  Dinner     2   4.502712   \n",
       "242       17.82  1.75    Male     No   Sat  Dinner     2   4.155425   \n",
       "243       18.78  3.00  Female     No  Thur  Dinner     2   4.231125   \n",
       "\n",
       "     tip_percentage  \n",
       "0          5.944673  \n",
       "1         16.054159  \n",
       "2         16.658734  \n",
       "3         13.978041  \n",
       "4         14.680765  \n",
       "..              ...  \n",
       "239       20.392697  \n",
       "240        7.358352  \n",
       "241        8.822232  \n",
       "242        9.820426  \n",
       "243       15.974441  \n",
       "\n",
       "[244 rows x 9 columns]"
      ]
     },
     "execution_count": 56,
     "metadata": {},
     "output_type": "execute_result"
    }
   ],
   "source": [
    "tips_data.drop([\"Unnamed: 0.1\"], axis=1)"
   ]
  },
  {
   "cell_type": "code",
   "execution_count": 57,
   "metadata": {
    "ExecuteTime": {
     "end_time": "2020-04-10T08:42:46.665175Z",
     "start_time": "2020-04-10T08:42:46.655356Z"
    }
   },
   "outputs": [
    {
     "data": {
      "text/html": [
       "<div>\n",
       "<style scoped>\n",
       "    .dataframe tbody tr th:only-of-type {\n",
       "        vertical-align: middle;\n",
       "    }\n",
       "\n",
       "    .dataframe tbody tr th {\n",
       "        vertical-align: top;\n",
       "    }\n",
       "\n",
       "    .dataframe thead th {\n",
       "        text-align: right;\n",
       "    }\n",
       "</style>\n",
       "<table border=\"1\" class=\"dataframe\">\n",
       "  <thead>\n",
       "    <tr style=\"text-align: right;\">\n",
       "      <th></th>\n",
       "      <th>Unnamed: 0.1</th>\n",
       "      <th>total_bill</th>\n",
       "      <th>tip</th>\n",
       "      <th>sex</th>\n",
       "      <th>smoker</th>\n",
       "      <th>day</th>\n",
       "      <th>time</th>\n",
       "      <th>size</th>\n",
       "      <th>log2_bill</th>\n",
       "      <th>tip_percentage</th>\n",
       "    </tr>\n",
       "  </thead>\n",
       "  <tbody>\n",
       "    <tr>\n",
       "      <th>0</th>\n",
       "      <td>0</td>\n",
       "      <td>16.99</td>\n",
       "      <td>1.01</td>\n",
       "      <td>Female</td>\n",
       "      <td>No</td>\n",
       "      <td>Sun</td>\n",
       "      <td>Dinner</td>\n",
       "      <td>2</td>\n",
       "      <td>4.086614</td>\n",
       "      <td>5.944673</td>\n",
       "    </tr>\n",
       "    <tr>\n",
       "      <th>1</th>\n",
       "      <td>1</td>\n",
       "      <td>10.34</td>\n",
       "      <td>1.66</td>\n",
       "      <td>Male</td>\n",
       "      <td>No</td>\n",
       "      <td>Sun</td>\n",
       "      <td>Dinner</td>\n",
       "      <td>3</td>\n",
       "      <td>3.370164</td>\n",
       "      <td>16.054159</td>\n",
       "    </tr>\n",
       "  </tbody>\n",
       "</table>\n",
       "</div>"
      ],
      "text/plain": [
       "   Unnamed: 0.1  total_bill   tip     sex smoker  day    time  size  \\\n",
       "0             0       16.99  1.01  Female     No  Sun  Dinner     2   \n",
       "1             1       10.34  1.66    Male     No  Sun  Dinner     3   \n",
       "\n",
       "   log2_bill  tip_percentage  \n",
       "0   4.086614        5.944673  \n",
       "1   3.370164       16.054159  "
      ]
     },
     "execution_count": 57,
     "metadata": {},
     "output_type": "execute_result"
    }
   ],
   "source": [
    "tips_data.head(2)"
   ]
  },
  {
   "cell_type": "code",
   "execution_count": 58,
   "metadata": {
    "ExecuteTime": {
     "end_time": "2020-04-10T08:42:46.677973Z",
     "start_time": "2020-04-10T08:42:46.666289Z"
    }
   },
   "outputs": [],
   "source": [
    "tips_data.drop([\"Unnamed: 0.1\"], axis=1, inplace=True)"
   ]
  },
  {
   "cell_type": "code",
   "execution_count": 59,
   "metadata": {
    "ExecuteTime": {
     "end_time": "2020-04-10T08:42:46.695030Z",
     "start_time": "2020-04-10T08:42:46.679248Z"
    }
   },
   "outputs": [
    {
     "data": {
      "text/html": [
       "<div>\n",
       "<style scoped>\n",
       "    .dataframe tbody tr th:only-of-type {\n",
       "        vertical-align: middle;\n",
       "    }\n",
       "\n",
       "    .dataframe tbody tr th {\n",
       "        vertical-align: top;\n",
       "    }\n",
       "\n",
       "    .dataframe thead th {\n",
       "        text-align: right;\n",
       "    }\n",
       "</style>\n",
       "<table border=\"1\" class=\"dataframe\">\n",
       "  <thead>\n",
       "    <tr style=\"text-align: right;\">\n",
       "      <th></th>\n",
       "      <th>total_bill</th>\n",
       "      <th>tip</th>\n",
       "      <th>sex</th>\n",
       "      <th>smoker</th>\n",
       "      <th>day</th>\n",
       "      <th>time</th>\n",
       "      <th>size</th>\n",
       "      <th>log2_bill</th>\n",
       "      <th>tip_percentage</th>\n",
       "    </tr>\n",
       "  </thead>\n",
       "  <tbody>\n",
       "    <tr>\n",
       "      <th>0</th>\n",
       "      <td>16.99</td>\n",
       "      <td>1.01</td>\n",
       "      <td>Female</td>\n",
       "      <td>No</td>\n",
       "      <td>Sun</td>\n",
       "      <td>Dinner</td>\n",
       "      <td>2</td>\n",
       "      <td>4.086614</td>\n",
       "      <td>5.944673</td>\n",
       "    </tr>\n",
       "    <tr>\n",
       "      <th>1</th>\n",
       "      <td>10.34</td>\n",
       "      <td>1.66</td>\n",
       "      <td>Male</td>\n",
       "      <td>No</td>\n",
       "      <td>Sun</td>\n",
       "      <td>Dinner</td>\n",
       "      <td>3</td>\n",
       "      <td>3.370164</td>\n",
       "      <td>16.054159</td>\n",
       "    </tr>\n",
       "  </tbody>\n",
       "</table>\n",
       "</div>"
      ],
      "text/plain": [
       "   total_bill   tip     sex smoker  day    time  size  log2_bill  \\\n",
       "0       16.99  1.01  Female     No  Sun  Dinner     2   4.086614   \n",
       "1       10.34  1.66    Male     No  Sun  Dinner     3   3.370164   \n",
       "\n",
       "   tip_percentage  \n",
       "0        5.944673  \n",
       "1       16.054159  "
      ]
     },
     "execution_count": 59,
     "metadata": {},
     "output_type": "execute_result"
    }
   ],
   "source": [
    "tips_data.head(2)"
   ]
  },
  {
   "cell_type": "markdown",
   "metadata": {},
   "source": [
    " ## Setting a different index"
   ]
  },
  {
   "cell_type": "code",
   "execution_count": 60,
   "metadata": {
    "ExecuteTime": {
     "end_time": "2020-04-10T08:42:46.711253Z",
     "start_time": "2020-04-10T08:42:46.696501Z"
    }
   },
   "outputs": [
    {
     "data": {
      "text/html": [
       "<div>\n",
       "<style scoped>\n",
       "    .dataframe tbody tr th:only-of-type {\n",
       "        vertical-align: middle;\n",
       "    }\n",
       "\n",
       "    .dataframe tbody tr th {\n",
       "        vertical-align: top;\n",
       "    }\n",
       "\n",
       "    .dataframe thead th {\n",
       "        text-align: right;\n",
       "    }\n",
       "</style>\n",
       "<table border=\"1\" class=\"dataframe\">\n",
       "  <thead>\n",
       "    <tr style=\"text-align: right;\">\n",
       "      <th></th>\n",
       "      <th>gene_number</th>\n",
       "      <th>ensembl_gene</th>\n",
       "      <th>ensembl_trans</th>\n",
       "      <th>chebl_id</th>\n",
       "      <th>uniprot_gname</th>\n",
       "      <th>entrez_id</th>\n",
       "      <th>wikigene</th>\n",
       "    </tr>\n",
       "    <tr>\n",
       "      <th>symbol</th>\n",
       "      <th></th>\n",
       "      <th></th>\n",
       "      <th></th>\n",
       "      <th></th>\n",
       "      <th></th>\n",
       "      <th></th>\n",
       "      <th></th>\n",
       "    </tr>\n",
       "  </thead>\n",
       "  <tbody>\n",
       "    <tr>\n",
       "      <th>AOC3</th>\n",
       "      <td>8639.1</td>\n",
       "      <td>ENSG00000131471</td>\n",
       "      <td>ENST00000308423</td>\n",
       "      <td>CHEMBL3437</td>\n",
       "      <td>Q16853</td>\n",
       "      <td>8639.0</td>\n",
       "      <td>8639.0</td>\n",
       "    </tr>\n",
       "    <tr>\n",
       "      <th>AOC1</th>\n",
       "      <td>26.1</td>\n",
       "      <td>ENSG00000002726</td>\n",
       "      <td>ENST00000493429</td>\n",
       "      <td>CHEMBL2118</td>\n",
       "      <td>P19801</td>\n",
       "      <td>26.0</td>\n",
       "      <td>26.0</td>\n",
       "    </tr>\n",
       "  </tbody>\n",
       "</table>\n",
       "</div>"
      ],
      "text/plain": [
       "        gene_number     ensembl_gene    ensembl_trans    chebl_id  \\\n",
       "symbol                                                              \n",
       "AOC3         8639.1  ENSG00000131471  ENST00000308423  CHEMBL3437   \n",
       "AOC1           26.1  ENSG00000002726  ENST00000493429  CHEMBL2118   \n",
       "\n",
       "       uniprot_gname  entrez_id  wikigene  \n",
       "symbol                                     \n",
       "AOC3          Q16853     8639.0    8639.0  \n",
       "AOC1          P19801       26.0      26.0  "
      ]
     },
     "execution_count": 60,
     "metadata": {},
     "output_type": "execute_result"
    }
   ],
   "source": [
    "gene_mapping.head(2)"
   ]
  },
  {
   "cell_type": "code",
   "execution_count": 61,
   "metadata": {
    "ExecuteTime": {
     "end_time": "2020-04-10T08:42:46.729159Z",
     "start_time": "2020-04-10T08:42:46.712724Z"
    }
   },
   "outputs": [
    {
     "data": {
      "text/html": [
       "<div>\n",
       "<style scoped>\n",
       "    .dataframe tbody tr th:only-of-type {\n",
       "        vertical-align: middle;\n",
       "    }\n",
       "\n",
       "    .dataframe tbody tr th {\n",
       "        vertical-align: top;\n",
       "    }\n",
       "\n",
       "    .dataframe thead th {\n",
       "        text-align: right;\n",
       "    }\n",
       "</style>\n",
       "<table border=\"1\" class=\"dataframe\">\n",
       "  <thead>\n",
       "    <tr style=\"text-align: right;\">\n",
       "      <th></th>\n",
       "      <th>ensembl_gene</th>\n",
       "      <th>ensembl_trans</th>\n",
       "      <th>chebl_id</th>\n",
       "      <th>uniprot_gname</th>\n",
       "      <th>entrez_id</th>\n",
       "      <th>wikigene</th>\n",
       "    </tr>\n",
       "    <tr>\n",
       "      <th>gene_number</th>\n",
       "      <th></th>\n",
       "      <th></th>\n",
       "      <th></th>\n",
       "      <th></th>\n",
       "      <th></th>\n",
       "      <th></th>\n",
       "    </tr>\n",
       "  </thead>\n",
       "  <tbody>\n",
       "    <tr>\n",
       "      <th>8639.1</th>\n",
       "      <td>ENSG00000131471</td>\n",
       "      <td>ENST00000308423</td>\n",
       "      <td>CHEMBL3437</td>\n",
       "      <td>Q16853</td>\n",
       "      <td>8639.0</td>\n",
       "      <td>8639.0</td>\n",
       "    </tr>\n",
       "    <tr>\n",
       "      <th>26.1</th>\n",
       "      <td>ENSG00000002726</td>\n",
       "      <td>ENST00000493429</td>\n",
       "      <td>CHEMBL2118</td>\n",
       "      <td>P19801</td>\n",
       "      <td>26.0</td>\n",
       "      <td>26.0</td>\n",
       "    </tr>\n",
       "  </tbody>\n",
       "</table>\n",
       "</div>"
      ],
      "text/plain": [
       "                ensembl_gene    ensembl_trans    chebl_id uniprot_gname  \\\n",
       "gene_number                                                               \n",
       "8639.1       ENSG00000131471  ENST00000308423  CHEMBL3437        Q16853   \n",
       "26.1         ENSG00000002726  ENST00000493429  CHEMBL2118        P19801   \n",
       "\n",
       "             entrez_id  wikigene  \n",
       "gene_number                       \n",
       "8639.1          8639.0    8639.0  \n",
       "26.1              26.0      26.0  "
      ]
     },
     "execution_count": 61,
     "metadata": {},
     "output_type": "execute_result"
    }
   ],
   "source": [
    "gene_mapping.set_index('gene_number').head(2) \n",
    "# careful, the old index is lost"
   ]
  },
  {
   "cell_type": "code",
   "execution_count": 62,
   "metadata": {},
   "outputs": [
    {
     "data": {
      "text/html": [
       "<div>\n",
       "<style scoped>\n",
       "    .dataframe tbody tr th:only-of-type {\n",
       "        vertical-align: middle;\n",
       "    }\n",
       "\n",
       "    .dataframe tbody tr th {\n",
       "        vertical-align: top;\n",
       "    }\n",
       "\n",
       "    .dataframe thead th {\n",
       "        text-align: right;\n",
       "    }\n",
       "</style>\n",
       "<table border=\"1\" class=\"dataframe\">\n",
       "  <thead>\n",
       "    <tr style=\"text-align: right;\">\n",
       "      <th></th>\n",
       "      <th>gene_number</th>\n",
       "      <th>ensembl_gene</th>\n",
       "      <th>ensembl_trans</th>\n",
       "      <th>chebl_id</th>\n",
       "      <th>uniprot_gname</th>\n",
       "      <th>entrez_id</th>\n",
       "      <th>wikigene</th>\n",
       "    </tr>\n",
       "    <tr>\n",
       "      <th>symbol</th>\n",
       "      <th></th>\n",
       "      <th></th>\n",
       "      <th></th>\n",
       "      <th></th>\n",
       "      <th></th>\n",
       "      <th></th>\n",
       "      <th></th>\n",
       "    </tr>\n",
       "  </thead>\n",
       "  <tbody>\n",
       "    <tr>\n",
       "      <th>AOC3</th>\n",
       "      <td>8639.1</td>\n",
       "      <td>ENSG00000131471</td>\n",
       "      <td>ENST00000308423</td>\n",
       "      <td>CHEMBL3437</td>\n",
       "      <td>Q16853</td>\n",
       "      <td>8639.0</td>\n",
       "      <td>8639.0</td>\n",
       "    </tr>\n",
       "    <tr>\n",
       "      <th>AOC1</th>\n",
       "      <td>26.1</td>\n",
       "      <td>ENSG00000002726</td>\n",
       "      <td>ENST00000493429</td>\n",
       "      <td>CHEMBL2118</td>\n",
       "      <td>P19801</td>\n",
       "      <td>26.0</td>\n",
       "      <td>26.0</td>\n",
       "    </tr>\n",
       "    <tr>\n",
       "      <th>AOC2</th>\n",
       "      <td>314.2</td>\n",
       "      <td>ENSG00000131480</td>\n",
       "      <td>ENST00000253799</td>\n",
       "      <td>CHEMBL4112</td>\n",
       "      <td>O75106</td>\n",
       "      <td>314.0</td>\n",
       "      <td>314.0</td>\n",
       "    </tr>\n",
       "    <tr>\n",
       "      <th>AOC2</th>\n",
       "      <td>314.1</td>\n",
       "      <td>ENSG00000131480</td>\n",
       "      <td>ENST00000253799</td>\n",
       "      <td>CHEMBL4112</td>\n",
       "      <td>O75106</td>\n",
       "      <td>314.0</td>\n",
       "      <td>314.0</td>\n",
       "    </tr>\n",
       "    <tr>\n",
       "      <th>CYP24A1</th>\n",
       "      <td>1591.1</td>\n",
       "      <td>ENSG00000019186</td>\n",
       "      <td>ENST00000216862</td>\n",
       "      <td>CHEMBL4521</td>\n",
       "      <td>Q07973</td>\n",
       "      <td>1591.0</td>\n",
       "      <td>1591.0</td>\n",
       "    </tr>\n",
       "  </tbody>\n",
       "</table>\n",
       "</div>"
      ],
      "text/plain": [
       "         gene_number     ensembl_gene    ensembl_trans    chebl_id  \\\n",
       "symbol                                                               \n",
       "AOC3          8639.1  ENSG00000131471  ENST00000308423  CHEMBL3437   \n",
       "AOC1            26.1  ENSG00000002726  ENST00000493429  CHEMBL2118   \n",
       "AOC2           314.2  ENSG00000131480  ENST00000253799  CHEMBL4112   \n",
       "AOC2           314.1  ENSG00000131480  ENST00000253799  CHEMBL4112   \n",
       "CYP24A1       1591.1  ENSG00000019186  ENST00000216862  CHEMBL4521   \n",
       "\n",
       "        uniprot_gname  entrez_id  wikigene  \n",
       "symbol                                      \n",
       "AOC3           Q16853     8639.0    8639.0  \n",
       "AOC1           P19801       26.0      26.0  \n",
       "AOC2           O75106      314.0     314.0  \n",
       "AOC2           O75106      314.0     314.0  \n",
       "CYP24A1        Q07973     1591.0    1591.0  "
      ]
     },
     "execution_count": 62,
     "metadata": {},
     "output_type": "execute_result"
    }
   ],
   "source": [
    "gene_mapping.head()"
   ]
  },
  {
   "cell_type": "code",
   "execution_count": 63,
   "metadata": {
    "ExecuteTime": {
     "end_time": "2020-04-10T08:42:46.740323Z",
     "start_time": "2020-04-10T08:42:46.730399Z"
    }
   },
   "outputs": [
    {
     "data": {
      "text/html": [
       "<div>\n",
       "<style scoped>\n",
       "    .dataframe tbody tr th:only-of-type {\n",
       "        vertical-align: middle;\n",
       "    }\n",
       "\n",
       "    .dataframe tbody tr th {\n",
       "        vertical-align: top;\n",
       "    }\n",
       "\n",
       "    .dataframe thead th {\n",
       "        text-align: right;\n",
       "    }\n",
       "</style>\n",
       "<table border=\"1\" class=\"dataframe\">\n",
       "  <thead>\n",
       "    <tr style=\"text-align: right;\">\n",
       "      <th></th>\n",
       "      <th>symbol</th>\n",
       "      <th>gene_number</th>\n",
       "      <th>ensembl_gene</th>\n",
       "      <th>ensembl_trans</th>\n",
       "      <th>chebl_id</th>\n",
       "      <th>uniprot_gname</th>\n",
       "      <th>entrez_id</th>\n",
       "      <th>wikigene</th>\n",
       "    </tr>\n",
       "  </thead>\n",
       "  <tbody>\n",
       "    <tr>\n",
       "      <th>0</th>\n",
       "      <td>AOC3</td>\n",
       "      <td>8639.1</td>\n",
       "      <td>ENSG00000131471</td>\n",
       "      <td>ENST00000308423</td>\n",
       "      <td>CHEMBL3437</td>\n",
       "      <td>Q16853</td>\n",
       "      <td>8639.0</td>\n",
       "      <td>8639.0</td>\n",
       "    </tr>\n",
       "    <tr>\n",
       "      <th>1</th>\n",
       "      <td>AOC1</td>\n",
       "      <td>26.1</td>\n",
       "      <td>ENSG00000002726</td>\n",
       "      <td>ENST00000493429</td>\n",
       "      <td>CHEMBL2118</td>\n",
       "      <td>P19801</td>\n",
       "      <td>26.0</td>\n",
       "      <td>26.0</td>\n",
       "    </tr>\n",
       "  </tbody>\n",
       "</table>\n",
       "</div>"
      ],
      "text/plain": [
       "  symbol  gene_number     ensembl_gene    ensembl_trans    chebl_id  \\\n",
       "0   AOC3       8639.1  ENSG00000131471  ENST00000308423  CHEMBL3437   \n",
       "1   AOC1         26.1  ENSG00000002726  ENST00000493429  CHEMBL2118   \n",
       "\n",
       "  uniprot_gname  entrez_id  wikigene  \n",
       "0        Q16853     8639.0    8639.0  \n",
       "1        P19801       26.0      26.0  "
      ]
     },
     "execution_count": 63,
     "metadata": {},
     "output_type": "execute_result"
    }
   ],
   "source": [
    "gene_mapping.reset_index(inplace=True)\n",
    "gene_mapping.head(2)"
   ]
  },
  {
   "cell_type": "code",
   "execution_count": 64,
   "metadata": {
    "ExecuteTime": {
     "end_time": "2020-04-10T08:42:46.760699Z",
     "start_time": "2020-04-10T08:42:46.741430Z"
    }
   },
   "outputs": [
    {
     "data": {
      "text/html": [
       "<div>\n",
       "<style scoped>\n",
       "    .dataframe tbody tr th:only-of-type {\n",
       "        vertical-align: middle;\n",
       "    }\n",
       "\n",
       "    .dataframe tbody tr th {\n",
       "        vertical-align: top;\n",
       "    }\n",
       "\n",
       "    .dataframe thead th {\n",
       "        text-align: right;\n",
       "    }\n",
       "</style>\n",
       "<table border=\"1\" class=\"dataframe\">\n",
       "  <thead>\n",
       "    <tr style=\"text-align: right;\">\n",
       "      <th></th>\n",
       "      <th>symbol</th>\n",
       "      <th>ensembl_gene</th>\n",
       "      <th>ensembl_trans</th>\n",
       "      <th>chebl_id</th>\n",
       "      <th>uniprot_gname</th>\n",
       "      <th>entrez_id</th>\n",
       "      <th>wikigene</th>\n",
       "    </tr>\n",
       "    <tr>\n",
       "      <th>gene_number</th>\n",
       "      <th></th>\n",
       "      <th></th>\n",
       "      <th></th>\n",
       "      <th></th>\n",
       "      <th></th>\n",
       "      <th></th>\n",
       "      <th></th>\n",
       "    </tr>\n",
       "  </thead>\n",
       "  <tbody>\n",
       "    <tr>\n",
       "      <th>8639.1</th>\n",
       "      <td>AOC3</td>\n",
       "      <td>ENSG00000131471</td>\n",
       "      <td>ENST00000308423</td>\n",
       "      <td>CHEMBL3437</td>\n",
       "      <td>Q16853</td>\n",
       "      <td>8639.0</td>\n",
       "      <td>8639.0</td>\n",
       "    </tr>\n",
       "    <tr>\n",
       "      <th>26.1</th>\n",
       "      <td>AOC1</td>\n",
       "      <td>ENSG00000002726</td>\n",
       "      <td>ENST00000493429</td>\n",
       "      <td>CHEMBL2118</td>\n",
       "      <td>P19801</td>\n",
       "      <td>26.0</td>\n",
       "      <td>26.0</td>\n",
       "    </tr>\n",
       "  </tbody>\n",
       "</table>\n",
       "</div>"
      ],
      "text/plain": [
       "            symbol     ensembl_gene    ensembl_trans    chebl_id  \\\n",
       "gene_number                                                        \n",
       "8639.1        AOC3  ENSG00000131471  ENST00000308423  CHEMBL3437   \n",
       "26.1          AOC1  ENSG00000002726  ENST00000493429  CHEMBL2118   \n",
       "\n",
       "            uniprot_gname  entrez_id  wikigene  \n",
       "gene_number                                     \n",
       "8639.1             Q16853     8639.0    8639.0  \n",
       "26.1               P19801       26.0      26.0  "
      ]
     },
     "execution_count": 64,
     "metadata": {},
     "output_type": "execute_result"
    }
   ],
   "source": [
    "gene_mapping.set_index('gene_number', inplace=True)\n",
    "gene_mapping.head(2)"
   ]
  },
  {
   "cell_type": "markdown",
   "metadata": {},
   "source": [
    "## Assigning single values"
   ]
  },
  {
   "cell_type": "code",
   "execution_count": 65,
   "metadata": {
    "ExecuteTime": {
     "end_time": "2020-04-10T08:42:46.773825Z",
     "start_time": "2020-04-10T08:42:46.761866Z"
    }
   },
   "outputs": [],
   "source": [
    "gene_mapping.loc[8639.1, 'symbol'] = 'AOC3'"
   ]
  },
  {
   "cell_type": "markdown",
   "metadata": {},
   "source": [
    "# Aggregate functions"
   ]
  },
  {
   "cell_type": "code",
   "execution_count": 66,
   "metadata": {
    "ExecuteTime": {
     "end_time": "2020-04-10T08:42:46.788872Z",
     "start_time": "2020-04-10T08:42:46.775293Z"
    }
   },
   "outputs": [
    {
     "data": {
      "text/plain": [
       "total_bill          50.81\n",
       "tip                    10\n",
       "sex                  Male\n",
       "smoker                Yes\n",
       "day                  Thur\n",
       "time                Lunch\n",
       "size                    6\n",
       "log2_bill         5.66704\n",
       "tip_percentage    71.0345\n",
       "dtype: object"
      ]
     },
     "execution_count": 66,
     "metadata": {},
     "output_type": "execute_result"
    }
   ],
   "source": [
    "tips_data.max(axis=0)"
   ]
  },
  {
   "cell_type": "code",
   "execution_count": 67,
   "metadata": {
    "ExecuteTime": {
     "end_time": "2020-04-10T08:42:46.811101Z",
     "start_time": "2020-04-10T08:42:46.790310Z"
    }
   },
   "outputs": [
    {
     "data": {
      "text/plain": [
       "total_bill        17.795000\n",
       "tip                2.900000\n",
       "size               2.000000\n",
       "log2_bill          4.153400\n",
       "tip_percentage    15.476977\n",
       "dtype: float64"
      ]
     },
     "execution_count": 67,
     "metadata": {},
     "output_type": "execute_result"
    }
   ],
   "source": [
    "tips_data.median(axis=0)"
   ]
  },
  {
   "cell_type": "code",
   "execution_count": 68,
   "metadata": {
    "ExecuteTime": {
     "end_time": "2020-04-10T08:42:46.823546Z",
     "start_time": "2020-04-10T08:42:46.814078Z"
    }
   },
   "outputs": [
    {
     "data": {
      "text/plain": [
       "array([2, 3, 4, 1, 6, 5])"
      ]
     },
     "execution_count": 68,
     "metadata": {},
     "output_type": "execute_result"
    }
   ],
   "source": [
    "tips_data[\"size\"].unique()"
   ]
  },
  {
   "cell_type": "code",
   "execution_count": 69,
   "metadata": {
    "ExecuteTime": {
     "end_time": "2020-04-10T08:42:46.834165Z",
     "start_time": "2020-04-10T08:42:46.825421Z"
    }
   },
   "outputs": [
    {
     "data": {
      "text/plain": [
       "2"
      ]
     },
     "execution_count": 69,
     "metadata": {},
     "output_type": "execute_result"
    }
   ],
   "source": [
    "tips_data.sex.nunique()"
   ]
  },
  {
   "cell_type": "markdown",
   "metadata": {},
   "source": [
    "## Grouping"
   ]
  },
  {
   "cell_type": "code",
   "execution_count": 70,
   "metadata": {
    "ExecuteTime": {
     "end_time": "2020-04-10T08:42:46.850017Z",
     "start_time": "2020-04-10T08:42:46.836218Z"
    }
   },
   "outputs": [
    {
     "name": "stdout",
     "output_type": "stream",
     "text": [
      "<pandas.core.groupby.generic.DataFrameGroupBy object at 0x7f61e9ca8110>\n"
     ]
    }
   ],
   "source": [
    "tips_grouped = tips_data.groupby('sex')\n",
    "print(tips_grouped)"
   ]
  },
  {
   "cell_type": "code",
   "execution_count": 71,
   "metadata": {
    "ExecuteTime": {
     "end_time": "2020-04-10T08:42:46.880298Z",
     "start_time": "2020-04-10T08:42:46.851269Z"
    },
    "scrolled": true
   },
   "outputs": [
    {
     "name": "stdout",
     "output_type": "stream",
     "text": [
      "('Female',      total_bill   tip     sex smoker   day    time  size  log2_bill  \\\n",
      "0         16.99  1.01  Female     No   Sun  Dinner     2   4.086614   \n",
      "4         24.59  3.61  Female     No   Sun  Dinner     4   4.620000   \n",
      "11        35.26  5.00  Female     No   Sun  Dinner     4   5.139961   \n",
      "14        14.83  3.02  Female     No   Sun  Dinner     2   3.890447   \n",
      "16        10.33  1.67  Female     No   Sun  Dinner     3   3.368768   \n",
      "..          ...   ...     ...    ...   ...     ...   ...        ...   \n",
      "226       10.09  2.00  Female    Yes   Fri   Lunch     2   3.334854   \n",
      "229       22.12  2.88  Female    Yes   Sat  Dinner     2   4.467279   \n",
      "238       35.83  4.67  Female     No   Sat  Dinner     3   5.163096   \n",
      "240       27.18  2.00  Female    Yes   Sat  Dinner     2   4.764474   \n",
      "243       18.78  3.00  Female     No  Thur  Dinner     2   4.231125   \n",
      "\n",
      "     tip_percentage  \n",
      "0          5.944673  \n",
      "4         14.680765  \n",
      "11        14.180374  \n",
      "14        20.364127  \n",
      "16        16.166505  \n",
      "..              ...  \n",
      "226       19.821606  \n",
      "229       13.019892  \n",
      "238       13.033771  \n",
      "240        7.358352  \n",
      "243       15.974441  \n",
      "\n",
      "[87 rows x 9 columns])\n",
      "('Male',      total_bill   tip   sex smoker  day    time  size  log2_bill  \\\n",
      "1         10.34  1.66  Male     No  Sun  Dinner     3   3.370164   \n",
      "2         21.01  3.50  Male     No  Sun  Dinner     3   4.393004   \n",
      "3         23.68  3.31  Male     No  Sun  Dinner     2   4.565597   \n",
      "5         25.29  4.71  Male     No  Sun  Dinner     4   4.660495   \n",
      "6          8.77  2.00  Male     No  Sun  Dinner     2   3.132577   \n",
      "..          ...   ...   ...    ...  ...     ...   ...        ...   \n",
      "236       12.60  1.00  Male    Yes  Sat  Dinner     2   3.655352   \n",
      "237       32.83  1.17  Male    Yes  Sat  Dinner     2   5.036943   \n",
      "239       29.03  5.92  Male     No  Sat  Dinner     3   4.859473   \n",
      "241       22.67  2.00  Male    Yes  Sat  Dinner     2   4.502712   \n",
      "242       17.82  1.75  Male     No  Sat  Dinner     2   4.155425   \n",
      "\n",
      "     tip_percentage  \n",
      "1         16.054159  \n",
      "2         16.658734  \n",
      "3         13.978041  \n",
      "5         18.623962  \n",
      "6         22.805017  \n",
      "..              ...  \n",
      "236        7.936508  \n",
      "237        3.563814  \n",
      "239       20.392697  \n",
      "241        8.822232  \n",
      "242        9.820426  \n",
      "\n",
      "[157 rows x 9 columns])\n"
     ]
    }
   ],
   "source": [
    "for group in tips_grouped:\n",
    "    print(group)"
   ]
  },
  {
   "cell_type": "code",
   "execution_count": 72,
   "metadata": {
    "ExecuteTime": {
     "end_time": "2020-04-10T08:42:46.891535Z",
     "start_time": "2020-04-10T08:42:46.881706Z"
    }
   },
   "outputs": [
    {
     "data": {
      "text/plain": [
       "sex\n",
       "Female    15.558149\n",
       "Male      15.349194\n",
       "Name: tip_percentage, dtype: float64"
      ]
     },
     "execution_count": 72,
     "metadata": {},
     "output_type": "execute_result"
    }
   ],
   "source": [
    "tips_grouped.tip_percentage.median()"
   ]
  },
  {
   "cell_type": "code",
   "execution_count": 73,
   "metadata": {
    "ExecuteTime": {
     "end_time": "2020-04-10T08:42:46.903829Z",
     "start_time": "2020-04-10T08:42:46.892706Z"
    }
   },
   "outputs": [
    {
     "data": {
      "text/plain": [
       "sex\n",
       "Female    16.40\n",
       "Male      18.35\n",
       "Name: total_bill, dtype: float64"
      ]
     },
     "execution_count": 73,
     "metadata": {},
     "output_type": "execute_result"
    }
   ],
   "source": [
    "tips_grouped.total_bill.median()"
   ]
  },
  {
   "cell_type": "code",
   "execution_count": 74,
   "metadata": {
    "ExecuteTime": {
     "end_time": "2020-04-10T08:42:46.917113Z",
     "start_time": "2020-04-10T08:42:46.905142Z"
    }
   },
   "outputs": [
    {
     "data": {
      "text/plain": [
       "sex\n",
       "Female    8.009209\n",
       "Male      9.246469\n",
       "Name: total_bill, dtype: float64"
      ]
     },
     "execution_count": 74,
     "metadata": {},
     "output_type": "execute_result"
    }
   ],
   "source": [
    "tips_grouped.total_bill.std()"
   ]
  },
  {
   "cell_type": "code",
   "execution_count": 75,
   "metadata": {
    "ExecuteTime": {
     "end_time": "2020-04-10T08:42:46.933979Z",
     "start_time": "2020-04-10T08:42:46.918379Z"
    }
   },
   "outputs": [
    {
     "data": {
      "text/html": [
       "<div>\n",
       "<style scoped>\n",
       "    .dataframe tbody tr th:only-of-type {\n",
       "        vertical-align: middle;\n",
       "    }\n",
       "\n",
       "    .dataframe tbody tr th {\n",
       "        vertical-align: top;\n",
       "    }\n",
       "\n",
       "    .dataframe thead th {\n",
       "        text-align: right;\n",
       "    }\n",
       "</style>\n",
       "<table border=\"1\" class=\"dataframe\">\n",
       "  <thead>\n",
       "    <tr style=\"text-align: right;\">\n",
       "      <th></th>\n",
       "      <th>total_bill</th>\n",
       "      <th>tip</th>\n",
       "      <th>size</th>\n",
       "      <th>log2_bill</th>\n",
       "      <th>tip_percentage</th>\n",
       "    </tr>\n",
       "    <tr>\n",
       "      <th>sex</th>\n",
       "      <th></th>\n",
       "      <th></th>\n",
       "      <th></th>\n",
       "      <th></th>\n",
       "      <th></th>\n",
       "    </tr>\n",
       "  </thead>\n",
       "  <tbody>\n",
       "    <tr>\n",
       "      <th>Female</th>\n",
       "      <td>18.056897</td>\n",
       "      <td>2.833448</td>\n",
       "      <td>2.459770</td>\n",
       "      <td>4.039480</td>\n",
       "      <td>16.649074</td>\n",
       "    </tr>\n",
       "    <tr>\n",
       "      <th>Male</th>\n",
       "      <td>20.744076</td>\n",
       "      <td>3.089618</td>\n",
       "      <td>2.630573</td>\n",
       "      <td>4.242072</td>\n",
       "      <td>15.765055</td>\n",
       "    </tr>\n",
       "  </tbody>\n",
       "</table>\n",
       "</div>"
      ],
      "text/plain": [
       "        total_bill       tip      size  log2_bill  tip_percentage\n",
       "sex                                                              \n",
       "Female   18.056897  2.833448  2.459770   4.039480       16.649074\n",
       "Male     20.744076  3.089618  2.630573   4.242072       15.765055"
      ]
     },
     "execution_count": 75,
     "metadata": {},
     "output_type": "execute_result"
    }
   ],
   "source": [
    "tips_grouped.mean()"
   ]
  },
  {
   "cell_type": "code",
   "execution_count": 76,
   "metadata": {
    "ExecuteTime": {
     "end_time": "2020-04-10T08:42:46.956971Z",
     "start_time": "2020-04-10T08:42:46.935407Z"
    }
   },
   "outputs": [
    {
     "data": {
      "text/html": [
       "<div>\n",
       "<style scoped>\n",
       "    .dataframe tbody tr th:only-of-type {\n",
       "        vertical-align: middle;\n",
       "    }\n",
       "\n",
       "    .dataframe tbody tr th {\n",
       "        vertical-align: top;\n",
       "    }\n",
       "\n",
       "    .dataframe thead th {\n",
       "        text-align: right;\n",
       "    }\n",
       "</style>\n",
       "<table border=\"1\" class=\"dataframe\">\n",
       "  <thead>\n",
       "    <tr style=\"text-align: right;\">\n",
       "      <th></th>\n",
       "      <th></th>\n",
       "      <th>total_bill</th>\n",
       "      <th>tip</th>\n",
       "      <th>size</th>\n",
       "      <th>log2_bill</th>\n",
       "      <th>tip_percentage</th>\n",
       "    </tr>\n",
       "    <tr>\n",
       "      <th>sex</th>\n",
       "      <th>smoker</th>\n",
       "      <th></th>\n",
       "      <th></th>\n",
       "      <th></th>\n",
       "      <th></th>\n",
       "      <th></th>\n",
       "    </tr>\n",
       "  </thead>\n",
       "  <tbody>\n",
       "    <tr>\n",
       "      <th rowspan=\"2\" valign=\"top\">Female</th>\n",
       "      <th>No</th>\n",
       "      <td>16.69</td>\n",
       "      <td>2.68</td>\n",
       "      <td>2</td>\n",
       "      <td>4.060763</td>\n",
       "      <td>14.969118</td>\n",
       "    </tr>\n",
       "    <tr>\n",
       "      <th>Yes</th>\n",
       "      <td>16.27</td>\n",
       "      <td>2.88</td>\n",
       "      <td>2</td>\n",
       "      <td>4.024142</td>\n",
       "      <td>17.391304</td>\n",
       "    </tr>\n",
       "    <tr>\n",
       "      <th rowspan=\"2\" valign=\"top\">Male</th>\n",
       "      <th>No</th>\n",
       "      <td>18.24</td>\n",
       "      <td>2.74</td>\n",
       "      <td>2</td>\n",
       "      <td>4.189034</td>\n",
       "      <td>15.760441</td>\n",
       "    </tr>\n",
       "    <tr>\n",
       "      <th>Yes</th>\n",
       "      <td>20.39</td>\n",
       "      <td>3.00</td>\n",
       "      <td>2</td>\n",
       "      <td>4.349773</td>\n",
       "      <td>14.101483</td>\n",
       "    </tr>\n",
       "  </tbody>\n",
       "</table>\n",
       "</div>"
      ],
      "text/plain": [
       "               total_bill   tip  size  log2_bill  tip_percentage\n",
       "sex    smoker                                                   \n",
       "Female No           16.69  2.68     2   4.060763       14.969118\n",
       "       Yes          16.27  2.88     2   4.024142       17.391304\n",
       "Male   No           18.24  2.74     2   4.189034       15.760441\n",
       "       Yes          20.39  3.00     2   4.349773       14.101483"
      ]
     },
     "execution_count": 76,
     "metadata": {},
     "output_type": "execute_result"
    }
   ],
   "source": [
    "tips_data.groupby(['sex', 'smoker']).median()"
   ]
  },
  {
   "cell_type": "code",
   "execution_count": 77,
   "metadata": {
    "ExecuteTime": {
     "end_time": "2020-04-10T08:42:46.965739Z",
     "start_time": "2020-04-10T08:42:46.958087Z"
    }
   },
   "outputs": [
    {
     "name": "stdout",
     "output_type": "stream",
     "text": [
      "sex     smoker\n",
      "Female  No        54\n",
      "        Yes       33\n",
      "Male    No        97\n",
      "        Yes       60\n",
      "Name: tip, dtype: int64\n"
     ]
    }
   ],
   "source": [
    "tips_groups = tips_data.groupby(['sex', 'smoker']).tip.count()\n",
    "print(tips_groups)"
   ]
  },
  {
   "cell_type": "markdown",
   "metadata": {},
   "source": [
    "## Pivoting"
   ]
  },
  {
   "cell_type": "code",
   "execution_count": 78,
   "metadata": {
    "ExecuteTime": {
     "end_time": "2020-04-10T08:42:46.986571Z",
     "start_time": "2020-04-10T08:42:46.966900Z"
    }
   },
   "outputs": [
    {
     "data": {
      "text/plain": [
       "sex     smoker\n",
       "Female  No        54\n",
       "        Yes       33\n",
       "Male    No        97\n",
       "        Yes       60\n",
       "Name: tip, dtype: int64"
      ]
     },
     "metadata": {},
     "output_type": "display_data"
    },
    {
     "data": {
      "text/html": [
       "<div>\n",
       "<style scoped>\n",
       "    .dataframe tbody tr th:only-of-type {\n",
       "        vertical-align: middle;\n",
       "    }\n",
       "\n",
       "    .dataframe tbody tr th {\n",
       "        vertical-align: top;\n",
       "    }\n",
       "\n",
       "    .dataframe thead th {\n",
       "        text-align: right;\n",
       "    }\n",
       "</style>\n",
       "<table border=\"1\" class=\"dataframe\">\n",
       "  <thead>\n",
       "    <tr style=\"text-align: right;\">\n",
       "      <th></th>\n",
       "      <th>sex</th>\n",
       "      <th>smoker</th>\n",
       "      <th>tip</th>\n",
       "    </tr>\n",
       "  </thead>\n",
       "  <tbody>\n",
       "    <tr>\n",
       "      <th>0</th>\n",
       "      <td>Female</td>\n",
       "      <td>No</td>\n",
       "      <td>54</td>\n",
       "    </tr>\n",
       "    <tr>\n",
       "      <th>1</th>\n",
       "      <td>Female</td>\n",
       "      <td>Yes</td>\n",
       "      <td>33</td>\n",
       "    </tr>\n",
       "    <tr>\n",
       "      <th>2</th>\n",
       "      <td>Male</td>\n",
       "      <td>No</td>\n",
       "      <td>97</td>\n",
       "    </tr>\n",
       "    <tr>\n",
       "      <th>3</th>\n",
       "      <td>Male</td>\n",
       "      <td>Yes</td>\n",
       "      <td>60</td>\n",
       "    </tr>\n",
       "  </tbody>\n",
       "</table>\n",
       "</div>"
      ],
      "text/plain": [
       "      sex smoker  tip\n",
       "0  Female     No   54\n",
       "1  Female    Yes   33\n",
       "2    Male     No   97\n",
       "3    Male    Yes   60"
      ]
     },
     "metadata": {},
     "output_type": "display_data"
    }
   ],
   "source": [
    "display(tips_groups)\n",
    "tips_groups = tips_groups.reset_index()\n",
    "display(tips_groups)"
   ]
  },
  {
   "cell_type": "code",
   "execution_count": 79,
   "metadata": {
    "ExecuteTime": {
     "end_time": "2020-04-10T08:42:47.000570Z",
     "start_time": "2020-04-10T08:42:46.987747Z"
    }
   },
   "outputs": [
    {
     "data": {
      "text/html": [
       "<div>\n",
       "<style scoped>\n",
       "    .dataframe tbody tr th:only-of-type {\n",
       "        vertical-align: middle;\n",
       "    }\n",
       "\n",
       "    .dataframe tbody tr th {\n",
       "        vertical-align: top;\n",
       "    }\n",
       "\n",
       "    .dataframe thead th {\n",
       "        text-align: right;\n",
       "    }\n",
       "</style>\n",
       "<table border=\"1\" class=\"dataframe\">\n",
       "  <thead>\n",
       "    <tr style=\"text-align: right;\">\n",
       "      <th>smoker</th>\n",
       "      <th>No</th>\n",
       "      <th>Yes</th>\n",
       "    </tr>\n",
       "    <tr>\n",
       "      <th>sex</th>\n",
       "      <th></th>\n",
       "      <th></th>\n",
       "    </tr>\n",
       "  </thead>\n",
       "  <tbody>\n",
       "    <tr>\n",
       "      <th>Female</th>\n",
       "      <td>54</td>\n",
       "      <td>33</td>\n",
       "    </tr>\n",
       "    <tr>\n",
       "      <th>Male</th>\n",
       "      <td>97</td>\n",
       "      <td>60</td>\n",
       "    </tr>\n",
       "  </tbody>\n",
       "</table>\n",
       "</div>"
      ],
      "text/plain": [
       "smoker  No  Yes\n",
       "sex            \n",
       "Female  54   33\n",
       "Male    97   60"
      ]
     },
     "execution_count": 79,
     "metadata": {},
     "output_type": "execute_result"
    }
   ],
   "source": [
    "tips_groups.pivot(\n",
    "    columns=\"smoker\",\n",
    "    index=\"sex\",\n",
    "    values=\"tip\"\n",
    ")"
   ]
  },
  {
   "cell_type": "markdown",
   "metadata": {},
   "source": [
    "# Pandas plotting"
   ]
  },
  {
   "cell_type": "code",
   "execution_count": 80,
   "metadata": {
    "ExecuteTime": {
     "end_time": "2020-04-10T08:42:47.018072Z",
     "start_time": "2020-04-10T08:42:47.001859Z"
    }
   },
   "outputs": [
    {
     "data": {
      "text/html": [
       "<div>\n",
       "<style scoped>\n",
       "    .dataframe tbody tr th:only-of-type {\n",
       "        vertical-align: middle;\n",
       "    }\n",
       "\n",
       "    .dataframe tbody tr th {\n",
       "        vertical-align: top;\n",
       "    }\n",
       "\n",
       "    .dataframe thead th {\n",
       "        text-align: right;\n",
       "    }\n",
       "</style>\n",
       "<table border=\"1\" class=\"dataframe\">\n",
       "  <thead>\n",
       "    <tr style=\"text-align: right;\">\n",
       "      <th></th>\n",
       "      <th>total_bill</th>\n",
       "      <th>tip</th>\n",
       "      <th>sex</th>\n",
       "      <th>smoker</th>\n",
       "      <th>day</th>\n",
       "      <th>time</th>\n",
       "      <th>size</th>\n",
       "      <th>log2_bill</th>\n",
       "      <th>tip_percentage</th>\n",
       "    </tr>\n",
       "  </thead>\n",
       "  <tbody>\n",
       "    <tr>\n",
       "      <th>0</th>\n",
       "      <td>16.99</td>\n",
       "      <td>1.01</td>\n",
       "      <td>Female</td>\n",
       "      <td>No</td>\n",
       "      <td>Sun</td>\n",
       "      <td>Dinner</td>\n",
       "      <td>2</td>\n",
       "      <td>4.086614</td>\n",
       "      <td>5.944673</td>\n",
       "    </tr>\n",
       "    <tr>\n",
       "      <th>1</th>\n",
       "      <td>10.34</td>\n",
       "      <td>1.66</td>\n",
       "      <td>Male</td>\n",
       "      <td>No</td>\n",
       "      <td>Sun</td>\n",
       "      <td>Dinner</td>\n",
       "      <td>3</td>\n",
       "      <td>3.370164</td>\n",
       "      <td>16.054159</td>\n",
       "    </tr>\n",
       "    <tr>\n",
       "      <th>2</th>\n",
       "      <td>21.01</td>\n",
       "      <td>3.50</td>\n",
       "      <td>Male</td>\n",
       "      <td>No</td>\n",
       "      <td>Sun</td>\n",
       "      <td>Dinner</td>\n",
       "      <td>3</td>\n",
       "      <td>4.393004</td>\n",
       "      <td>16.658734</td>\n",
       "    </tr>\n",
       "    <tr>\n",
       "      <th>3</th>\n",
       "      <td>23.68</td>\n",
       "      <td>3.31</td>\n",
       "      <td>Male</td>\n",
       "      <td>No</td>\n",
       "      <td>Sun</td>\n",
       "      <td>Dinner</td>\n",
       "      <td>2</td>\n",
       "      <td>4.565597</td>\n",
       "      <td>13.978041</td>\n",
       "    </tr>\n",
       "    <tr>\n",
       "      <th>4</th>\n",
       "      <td>24.59</td>\n",
       "      <td>3.61</td>\n",
       "      <td>Female</td>\n",
       "      <td>No</td>\n",
       "      <td>Sun</td>\n",
       "      <td>Dinner</td>\n",
       "      <td>4</td>\n",
       "      <td>4.620000</td>\n",
       "      <td>14.680765</td>\n",
       "    </tr>\n",
       "  </tbody>\n",
       "</table>\n",
       "</div>"
      ],
      "text/plain": [
       "   total_bill   tip     sex smoker  day    time  size  log2_bill  \\\n",
       "0       16.99  1.01  Female     No  Sun  Dinner     2   4.086614   \n",
       "1       10.34  1.66    Male     No  Sun  Dinner     3   3.370164   \n",
       "2       21.01  3.50    Male     No  Sun  Dinner     3   4.393004   \n",
       "3       23.68  3.31    Male     No  Sun  Dinner     2   4.565597   \n",
       "4       24.59  3.61  Female     No  Sun  Dinner     4   4.620000   \n",
       "\n",
       "   tip_percentage  \n",
       "0        5.944673  \n",
       "1       16.054159  \n",
       "2       16.658734  \n",
       "3       13.978041  \n",
       "4       14.680765  "
      ]
     },
     "execution_count": 80,
     "metadata": {},
     "output_type": "execute_result"
    }
   ],
   "source": [
    "tips_data.head(5)"
   ]
  },
  {
   "cell_type": "markdown",
   "metadata": {},
   "source": [
    "## Simple plots"
   ]
  },
  {
   "cell_type": "code",
   "execution_count": 81,
   "metadata": {
    "ExecuteTime": {
     "end_time": "2020-04-10T08:42:47.029178Z",
     "start_time": "2020-04-10T08:42:47.019239Z"
    }
   },
   "outputs": [],
   "source": [
    "tips_plotting = tips_data.loc[:, ['total_bill', 'tip_percentage', 'size', 'time']]"
   ]
  },
  {
   "cell_type": "code",
   "execution_count": 82,
   "metadata": {
    "ExecuteTime": {
     "end_time": "2020-04-10T08:42:47.322344Z",
     "start_time": "2020-04-10T08:42:47.030413Z"
    }
   },
   "outputs": [
    {
     "data": {
      "text/plain": [
       "<AxesSubplot:ylabel='Frequency'>"
      ]
     },
     "execution_count": 82,
     "metadata": {},
     "output_type": "execute_result"
    },
    {
     "data": {
      "image/png": "[encoded data removed]",
      "text/plain": [
       "<Figure size 432x288 with 1 Axes>"
      ]
     },
     "metadata": {
      "needs_background": "light"
     },
     "output_type": "display_data"
    }
   ],
   "source": [
    "tips_plotting['total_bill'].plot.hist()"
   ]
  },
  {
   "cell_type": "code",
   "execution_count": 83,
   "metadata": {
    "ExecuteTime": {
     "end_time": "2020-04-10T08:42:47.450501Z",
     "start_time": "2020-04-10T08:42:47.323771Z"
    }
   },
   "outputs": [
    {
     "data": {
      "text/plain": [
       "<AxesSubplot:xlabel='total_bill', ylabel='tip_percentage'>"
      ]
     },
     "execution_count": 83,
     "metadata": {},
     "output_type": "execute_result"
    },
    {
     "data": {
      "image/png": "[encoded data removed]",
      "text/plain": [
       "<Figure size 432x288 with 1 Axes>"
      ]
     },
     "metadata": {
      "needs_background": "light"
     },
     "output_type": "display_data"
    }
   ],
   "source": [
    "tips_plotting.plot.scatter(x='total_bill', y='tip_percentage')"
   ]
  },
  {
   "cell_type": "markdown",
   "metadata": {},
   "source": [
    "## Scatter matrix"
   ]
  },
  {
   "cell_type": "code",
   "execution_count": 84,
   "metadata": {
    "ExecuteTime": {
     "end_time": "2020-04-10T08:42:47.461810Z",
     "start_time": "2020-04-10T08:42:47.452074Z"
    }
   },
   "outputs": [
    {
     "data": {
      "text/html": [
       "<div>\n",
       "<style scoped>\n",
       "    .dataframe tbody tr th:only-of-type {\n",
       "        vertical-align: middle;\n",
       "    }\n",
       "\n",
       "    .dataframe tbody tr th {\n",
       "        vertical-align: top;\n",
       "    }\n",
       "\n",
       "    .dataframe thead th {\n",
       "        text-align: right;\n",
       "    }\n",
       "</style>\n",
       "<table border=\"1\" class=\"dataframe\">\n",
       "  <thead>\n",
       "    <tr style=\"text-align: right;\">\n",
       "      <th></th>\n",
       "      <th>sepal_length</th>\n",
       "      <th>sepal_width</th>\n",
       "      <th>petal_length</th>\n",
       "      <th>petal_width</th>\n",
       "      <th>species</th>\n",
       "    </tr>\n",
       "  </thead>\n",
       "  <tbody>\n",
       "    <tr>\n",
       "      <th>0</th>\n",
       "      <td>5.1</td>\n",
       "      <td>3.5</td>\n",
       "      <td>1.4</td>\n",
       "      <td>0.2</td>\n",
       "      <td>setosa</td>\n",
       "    </tr>\n",
       "    <tr>\n",
       "      <th>1</th>\n",
       "      <td>4.9</td>\n",
       "      <td>3.0</td>\n",
       "      <td>1.4</td>\n",
       "      <td>0.2</td>\n",
       "      <td>setosa</td>\n",
       "    </tr>\n",
       "  </tbody>\n",
       "</table>\n",
       "</div>"
      ],
      "text/plain": [
       "   sepal_length  sepal_width  petal_length  petal_width species\n",
       "0           5.1          3.5           1.4          0.2  setosa\n",
       "1           4.9          3.0           1.4          0.2  setosa"
      ]
     },
     "execution_count": 84,
     "metadata": {},
     "output_type": "execute_result"
    }
   ],
   "source": [
    "iris_data.head(2)"
   ]
  },
  {
   "cell_type": "code",
   "execution_count": 85,
   "metadata": {
    "ExecuteTime": {
     "end_time": "2020-04-10T08:42:48.742432Z",
     "start_time": "2020-04-10T08:42:47.463842Z"
    }
   },
   "outputs": [
    {
     "ename": "AttributeError",
     "evalue": "'AxesSubplot' object has no attribute 'rowNum'",
     "output_type": "error",
     "traceback": [
      "\u001b[0;31m------------------------------------------------\u001b[0m",
      "\u001b[0;31mAttributeError\u001b[0m Traceback (most recent call last)",
      "\u001b[0;32m<ipython-input-85-69a101134615>\u001b[0m in \u001b[0;36m<module>\u001b[0;34m\u001b[0m\n\u001b[1;32m      2\u001b[0m \u001b[0;32mwith\u001b[0m \u001b[0mwarnings\u001b[0m\u001b[0;34m.\u001b[0m\u001b[0mcatch_warnings\u001b[0m\u001b[0;34m(\u001b[0m\u001b[0;34m)\u001b[0m\u001b[0;34m:\u001b[0m\u001b[0;34m\u001b[0m\u001b[0;34m\u001b[0m\u001b[0m\n\u001b[1;32m      3\u001b[0m     \u001b[0mwarnings\u001b[0m\u001b[0;34m.\u001b[0m\u001b[0msimplefilter\u001b[0m\u001b[0;34m(\u001b[0m\u001b[0;34m\"ignore\"\u001b[0m\u001b[0;34m)\u001b[0m\u001b[0;34m\u001b[0m\u001b[0;34m\u001b[0m\u001b[0m\n\u001b[0;32m----> 4\u001b[0;31m     \u001b[0mpd\u001b[0m\u001b[0;34m.\u001b[0m\u001b[0mplotting\u001b[0m\u001b[0;34m.\u001b[0m\u001b[0mscatter_matrix\u001b[0m\u001b[0;34m(\u001b[0m\u001b[0miris_data\u001b[0m\u001b[0;34m,\u001b[0m \u001b[0malpha\u001b[0m\u001b[0;34m=\u001b[0m\u001b[0;36m0.2\u001b[0m\u001b[0;34m,\u001b[0m \u001b[0mfigsize\u001b[0m\u001b[0;34m=\u001b[0m\u001b[0;34m(\u001b[0m\u001b[0;36m10\u001b[0m\u001b[0;34m,\u001b[0m \u001b[0;36m10\u001b[0m\u001b[0;34m)\u001b[0m\u001b[0;34m,\u001b[0m \u001b[0mdiagonal\u001b[0m\u001b[0;34m=\u001b[0m\u001b[0;34m'kde'\u001b[0m\u001b[0;34m)\u001b[0m\u001b[0;34m\u001b[0m\u001b[0;34m\u001b[0m\u001b[0m\n\u001b[0m",
      "\u001b[0;32m~/anaconda3/lib/python3.7/site-packages/pandas/plotting/_misc.py\u001b[0m in \u001b[0;36mscatter_matrix\u001b[0;34m(frame, alpha, figsize, ax, grid, diagonal, marker, density_kwds, hist_kwds, range_padding, **kwargs)\u001b[0m\n\u001b[1;32m    132\u001b[0m         \u001b[0mhist_kwds\u001b[0m\u001b[0;34m=\u001b[0m\u001b[0mhist_kwds\u001b[0m\u001b[0;34m,\u001b[0m\u001b[0;34m\u001b[0m\u001b[0;34m\u001b[0m\u001b[0m\n\u001b[1;32m    133\u001b[0m         \u001b[0mrange_padding\u001b[0m\u001b[0;34m=\u001b[0m\u001b[0mrange_padding\u001b[0m\u001b[0;34m,\u001b[0m\u001b[0;34m\u001b[0m\u001b[0;34m\u001b[0m\u001b[0m\n\u001b[0;32m--> 134\u001b[0;31m         \u001b[0;34m**\u001b[0m\u001b[0mkwargs\u001b[0m\u001b[0;34m,\u001b[0m\u001b[0;34m\u001b[0m\u001b[0;34m\u001b[0m\u001b[0m\n\u001b[0m\u001b[1;32m    135\u001b[0m     )\n\u001b[1;32m    136\u001b[0m \u001b[0;34m\u001b[0m\u001b[0m\n",
      "\u001b[0;32m~/anaconda3/lib/python3.7/site-packages/pandas/plotting/_matplotlib/misc.py\u001b[0m in \u001b[0;36mscatter_matrix\u001b[0;34m(frame, alpha, figsize, ax, grid, diagonal, marker, density_kwds, hist_kwds, range_padding, **kwds)\u001b[0m\n\u001b[1;32m     28\u001b[0m     \u001b[0mn\u001b[0m \u001b[0;34m=\u001b[0m \u001b[0mdf\u001b[0m\u001b[0;34m.\u001b[0m\u001b[0mcolumns\u001b[0m\u001b[0;34m.\u001b[0m\u001b[0msize\u001b[0m\u001b[0;34m\u001b[0m\u001b[0;34m\u001b[0m\u001b[0m\n\u001b[1;32m     29\u001b[0m     \u001b[0mnaxes\u001b[0m \u001b[0;34m=\u001b[0m \u001b[0mn\u001b[0m \u001b[0;34m*\u001b[0m \u001b[0mn\u001b[0m\u001b[0;34m\u001b[0m\u001b[0;34m\u001b[0m\u001b[0m\n\u001b[0;32m---> 30\u001b[0;31m     \u001b[0mfig\u001b[0m\u001b[0;34m,\u001b[0m \u001b[0maxes\u001b[0m \u001b[0;34m=\u001b[0m \u001b[0m_subplots\u001b[0m\u001b[0;34m(\u001b[0m\u001b[0mnaxes\u001b[0m\u001b[0;34m=\u001b[0m\u001b[0mnaxes\u001b[0m\u001b[0;34m,\u001b[0m \u001b[0mfigsize\u001b[0m\u001b[0;34m=\u001b[0m\u001b[0mfigsize\u001b[0m\u001b[0;34m,\u001b[0m \u001b[0max\u001b[0m\u001b[0;34m=\u001b[0m\u001b[0max\u001b[0m\u001b[0;34m,\u001b[0m \u001b[0msqueeze\u001b[0m\u001b[0;34m=\u001b[0m\u001b[0;32mFalse\u001b[0m\u001b[0;34m)\u001b[0m\u001b[0;34m\u001b[0m\u001b[0;34m\u001b[0m\u001b[0m\n\u001b[0m\u001b[1;32m     31\u001b[0m \u001b[0;34m\u001b[0m\u001b[0m\n\u001b[1;32m     32\u001b[0m     \u001b[0;31m# no gaps between subplots\u001b[0m\u001b[0;34m\u001b[0m\u001b[0;34m\u001b[0m\u001b[0;34m\u001b[0m\u001b[0m\n",
      "\u001b[0;32m~/anaconda3/lib/python3.7/site-packages/pandas/plotting/_matplotlib/tools.py\u001b[0m in \u001b[0;36m_subplots\u001b[0;34m(naxes, sharex, sharey, squeeze, subplot_kw, ax, layout, layout_type, **fig_kw)\u001b[0m\n\u001b[1;32m    254\u001b[0m             \u001b[0max\u001b[0m\u001b[0;34m.\u001b[0m\u001b[0mset_visible\u001b[0m\u001b[0;34m(\u001b[0m\u001b[0;32mFalse\u001b[0m\u001b[0;34m)\u001b[0m\u001b[0;34m\u001b[0m\u001b[0;34m\u001b[0m\u001b[0m\n\u001b[1;32m    255\u001b[0m \u001b[0;34m\u001b[0m\u001b[0m\n\u001b[0;32m--> 256\u001b[0;31m     \u001b[0m_handle_shared_axes\u001b[0m\u001b[0;34m(\u001b[0m\u001b[0maxarr\u001b[0m\u001b[0;34m,\u001b[0m \u001b[0mnplots\u001b[0m\u001b[0;34m,\u001b[0m \u001b[0mnaxes\u001b[0m\u001b[0;34m,\u001b[0m \u001b[0mnrows\u001b[0m\u001b[0;34m,\u001b[0m \u001b[0mncols\u001b[0m\u001b[0;34m,\u001b[0m \u001b[0msharex\u001b[0m\u001b[0;34m,\u001b[0m \u001b[0msharey\u001b[0m\u001b[0;34m)\u001b[0m\u001b[0;34m\u001b[0m\u001b[0;34m\u001b[0m\u001b[0m\n\u001b[0m\u001b[1;32m    257\u001b[0m \u001b[0;34m\u001b[0m\u001b[0m\n\u001b[1;32m    258\u001b[0m     \u001b[0;32mif\u001b[0m \u001b[0msqueeze\u001b[0m\u001b[0;34m:\u001b[0m\u001b[0;34m\u001b[0m\u001b[0;34m\u001b[0m\u001b[0m\n",
      "\u001b[0;32m~/anaconda3/lib/python3.7/site-packages/pandas/plotting/_matplotlib/tools.py\u001b[0m in \u001b[0;36m_handle_shared_axes\u001b[0;34m(axarr, nplots, naxes, nrows, ncols, sharex, sharey)\u001b[0m\n\u001b[1;32m    296\u001b[0m                 \u001b[0mlayout\u001b[0m \u001b[0;34m=\u001b[0m \u001b[0mnp\u001b[0m\u001b[0;34m.\u001b[0m\u001b[0mzeros\u001b[0m\u001b[0;34m(\u001b[0m\u001b[0;34m(\u001b[0m\u001b[0mnrows\u001b[0m \u001b[0;34m+\u001b[0m \u001b[0;36m1\u001b[0m\u001b[0;34m,\u001b[0m \u001b[0mncols\u001b[0m \u001b[0;34m+\u001b[0m \u001b[0;36m1\u001b[0m\u001b[0;34m)\u001b[0m\u001b[0;34m,\u001b[0m \u001b[0mdtype\u001b[0m\u001b[0;34m=\u001b[0m\u001b[0mnp\u001b[0m\u001b[0;34m.\u001b[0m\u001b[0mbool\u001b[0m\u001b[0;34m)\u001b[0m\u001b[0;34m\u001b[0m\u001b[0;34m\u001b[0m\u001b[0m\n\u001b[1;32m    297\u001b[0m                 \u001b[0;32mfor\u001b[0m \u001b[0max\u001b[0m \u001b[0;32min\u001b[0m \u001b[0maxarr\u001b[0m\u001b[0;34m:\u001b[0m\u001b[0;34m\u001b[0m\u001b[0;34m\u001b[0m\u001b[0m\n\u001b[0;32m--> 298\u001b[0;31m                     \u001b[0mlayout\u001b[0m\u001b[0;34m[\u001b[0m\u001b[0max\u001b[0m\u001b[0;34m.\u001b[0m\u001b[0mrowNum\u001b[0m\u001b[0;34m,\u001b[0m \u001b[0max\u001b[0m\u001b[0;34m.\u001b[0m\u001b[0mcolNum\u001b[0m\u001b[0;34m]\u001b[0m \u001b[0;34m=\u001b[0m \u001b[0max\u001b[0m\u001b[0;34m.\u001b[0m\u001b[0mget_visible\u001b[0m\u001b[0;34m(\u001b[0m\u001b[0;34m)\u001b[0m\u001b[0;34m\u001b[0m\u001b[0;34m\u001b[0m\u001b[0m\n\u001b[0m\u001b[1;32m    299\u001b[0m \u001b[0;34m\u001b[0m\u001b[0m\n\u001b[1;32m    300\u001b[0m                 \u001b[0;32mfor\u001b[0m \u001b[0max\u001b[0m \u001b[0;32min\u001b[0m \u001b[0maxarr\u001b[0m\u001b[0;34m:\u001b[0m\u001b[0;34m\u001b[0m\u001b[0;34m\u001b[0m\u001b[0m\n",
      "\u001b[0;31mAttributeError\u001b[0m: 'AxesSubplot' object has no attribute 'rowNum'"
     ]
    },
    {
     "data": {
      "image/png": "[encoded data removed]",
      "text/plain": [
       "<Figure size 720x720 with 16 Axes>"
      ]
     },
     "metadata": {
      "needs_background": "light"
     },
     "output_type": "display_data"
    }
   ],
   "source": [
    "import warnings\n",
    "with warnings.catch_warnings():\n",
    "    warnings.simplefilter(\"ignore\")    \n",
    "    pd.plotting.scatter_matrix(iris_data, alpha=0.2, figsize=(10, 10), diagonal='kde')"
   ]
  },
  {
   "cell_type": "markdown",
   "metadata": {},
   "source": [
    "# Pandas statistics"
   ]
  },
  {
   "cell_type": "code",
   "execution_count": 87,
   "metadata": {},
   "outputs": [
    {
     "data": {
      "text/html": [
       "<div>\n",
       "<style scoped>\n",
       "    .dataframe tbody tr th:only-of-type {\n",
       "        vertical-align: middle;\n",
       "    }\n",
       "\n",
       "    .dataframe tbody tr th {\n",
       "        vertical-align: top;\n",
       "    }\n",
       "\n",
       "    .dataframe thead th {\n",
       "        text-align: right;\n",
       "    }\n",
       "</style>\n",
       "<table border=\"1\" class=\"dataframe\">\n",
       "  <thead>\n",
       "    <tr style=\"text-align: right;\">\n",
       "      <th></th>\n",
       "      <th>sepal_length</th>\n",
       "      <th>sepal_width</th>\n",
       "      <th>petal_length</th>\n",
       "      <th>petal_width</th>\n",
       "      <th>species</th>\n",
       "    </tr>\n",
       "  </thead>\n",
       "  <tbody>\n",
       "    <tr>\n",
       "      <th>0</th>\n",
       "      <td>5.1</td>\n",
       "      <td>3.5</td>\n",
       "      <td>1.4</td>\n",
       "      <td>0.2</td>\n",
       "      <td>setosa</td>\n",
       "    </tr>\n",
       "    <tr>\n",
       "      <th>1</th>\n",
       "      <td>4.9</td>\n",
       "      <td>3.0</td>\n",
       "      <td>1.4</td>\n",
       "      <td>0.2</td>\n",
       "      <td>setosa</td>\n",
       "    </tr>\n",
       "    <tr>\n",
       "      <th>2</th>\n",
       "      <td>4.7</td>\n",
       "      <td>3.2</td>\n",
       "      <td>1.3</td>\n",
       "      <td>0.2</td>\n",
       "      <td>setosa</td>\n",
       "    </tr>\n",
       "    <tr>\n",
       "      <th>3</th>\n",
       "      <td>4.6</td>\n",
       "      <td>3.1</td>\n",
       "      <td>1.5</td>\n",
       "      <td>0.2</td>\n",
       "      <td>setosa</td>\n",
       "    </tr>\n",
       "    <tr>\n",
       "      <th>4</th>\n",
       "      <td>5.0</td>\n",
       "      <td>3.6</td>\n",
       "      <td>1.4</td>\n",
       "      <td>0.2</td>\n",
       "      <td>setosa</td>\n",
       "    </tr>\n",
       "    <tr>\n",
       "      <th>5</th>\n",
       "      <td>5.4</td>\n",
       "      <td>3.9</td>\n",
       "      <td>1.7</td>\n",
       "      <td>0.4</td>\n",
       "      <td>setosa</td>\n",
       "    </tr>\n",
       "    <tr>\n",
       "      <th>6</th>\n",
       "      <td>4.6</td>\n",
       "      <td>3.4</td>\n",
       "      <td>1.4</td>\n",
       "      <td>0.3</td>\n",
       "      <td>setosa</td>\n",
       "    </tr>\n",
       "    <tr>\n",
       "      <th>7</th>\n",
       "      <td>5.0</td>\n",
       "      <td>3.4</td>\n",
       "      <td>1.5</td>\n",
       "      <td>0.2</td>\n",
       "      <td>setosa</td>\n",
       "    </tr>\n",
       "    <tr>\n",
       "      <th>8</th>\n",
       "      <td>4.4</td>\n",
       "      <td>2.9</td>\n",
       "      <td>1.4</td>\n",
       "      <td>0.2</td>\n",
       "      <td>setosa</td>\n",
       "    </tr>\n",
       "    <tr>\n",
       "      <th>9</th>\n",
       "      <td>4.9</td>\n",
       "      <td>3.1</td>\n",
       "      <td>1.5</td>\n",
       "      <td>0.1</td>\n",
       "      <td>setosa</td>\n",
       "    </tr>\n",
       "  </tbody>\n",
       "</table>\n",
       "</div>"
      ],
      "text/plain": [
       "   sepal_length  sepal_width  petal_length  petal_width species\n",
       "0           5.1          3.5           1.4          0.2  setosa\n",
       "1           4.9          3.0           1.4          0.2  setosa\n",
       "2           4.7          3.2           1.3          0.2  setosa\n",
       "3           4.6          3.1           1.5          0.2  setosa\n",
       "4           5.0          3.6           1.4          0.2  setosa\n",
       "5           5.4          3.9           1.7          0.4  setosa\n",
       "6           4.6          3.4           1.4          0.3  setosa\n",
       "7           5.0          3.4           1.5          0.2  setosa\n",
       "8           4.4          2.9           1.4          0.2  setosa\n",
       "9           4.9          3.1           1.5          0.1  setosa"
      ]
     },
     "execution_count": 87,
     "metadata": {},
     "output_type": "execute_result"
    }
   ],
   "source": [
    "iris_data.head(10)\n"
   ]
  },
  {
   "cell_type": "code",
   "execution_count": 86,
   "metadata": {
    "ExecuteTime": {
     "end_time": "2020-04-10T08:42:48.775371Z",
     "start_time": "2020-04-10T08:42:48.743948Z"
    }
   },
   "outputs": [
    {
     "data": {
      "text/html": [
       "<div>\n",
       "<style scoped>\n",
       "    .dataframe tbody tr th:only-of-type {\n",
       "        vertical-align: middle;\n",
       "    }\n",
       "\n",
       "    .dataframe tbody tr th {\n",
       "        vertical-align: top;\n",
       "    }\n",
       "\n",
       "    .dataframe thead th {\n",
       "        text-align: right;\n",
       "    }\n",
       "</style>\n",
       "<table border=\"1\" class=\"dataframe\">\n",
       "  <thead>\n",
       "    <tr style=\"text-align: right;\">\n",
       "      <th></th>\n",
       "      <th>sepal_length</th>\n",
       "      <th>sepal_width</th>\n",
       "      <th>petal_length</th>\n",
       "      <th>petal_width</th>\n",
       "    </tr>\n",
       "  </thead>\n",
       "  <tbody>\n",
       "    <tr>\n",
       "      <th>count</th>\n",
       "      <td>150.000000</td>\n",
       "      <td>150.000000</td>\n",
       "      <td>150.000000</td>\n",
       "      <td>150.000000</td>\n",
       "    </tr>\n",
       "    <tr>\n",
       "      <th>mean</th>\n",
       "      <td>5.843333</td>\n",
       "      <td>3.057333</td>\n",
       "      <td>3.758000</td>\n",
       "      <td>1.199333</td>\n",
       "    </tr>\n",
       "    <tr>\n",
       "      <th>std</th>\n",
       "      <td>0.828066</td>\n",
       "      <td>0.435866</td>\n",
       "      <td>1.765298</td>\n",
       "      <td>0.762238</td>\n",
       "    </tr>\n",
       "    <tr>\n",
       "      <th>min</th>\n",
       "      <td>4.300000</td>\n",
       "      <td>2.000000</td>\n",
       "      <td>1.000000</td>\n",
       "      <td>0.100000</td>\n",
       "    </tr>\n",
       "    <tr>\n",
       "      <th>25%</th>\n",
       "      <td>5.100000</td>\n",
       "      <td>2.800000</td>\n",
       "      <td>1.600000</td>\n",
       "      <td>0.300000</td>\n",
       "    </tr>\n",
       "    <tr>\n",
       "      <th>50%</th>\n",
       "      <td>5.800000</td>\n",
       "      <td>3.000000</td>\n",
       "      <td>4.350000</td>\n",
       "      <td>1.300000</td>\n",
       "    </tr>\n",
       "    <tr>\n",
       "      <th>75%</th>\n",
       "      <td>6.400000</td>\n",
       "      <td>3.300000</td>\n",
       "      <td>5.100000</td>\n",
       "      <td>1.800000</td>\n",
       "    </tr>\n",
       "    <tr>\n",
       "      <th>max</th>\n",
       "      <td>7.900000</td>\n",
       "      <td>4.400000</td>\n",
       "      <td>6.900000</td>\n",
       "      <td>2.500000</td>\n",
       "    </tr>\n",
       "  </tbody>\n",
       "</table>\n",
       "</div>"
      ],
      "text/plain": [
       "       sepal_length  sepal_width  petal_length  petal_width\n",
       "count    150.000000   150.000000    150.000000   150.000000\n",
       "mean       5.843333     3.057333      3.758000     1.199333\n",
       "std        0.828066     0.435866      1.765298     0.762238\n",
       "min        4.300000     2.000000      1.000000     0.100000\n",
       "25%        5.100000     2.800000      1.600000     0.300000\n",
       "50%        5.800000     3.000000      4.350000     1.300000\n",
       "75%        6.400000     3.300000      5.100000     1.800000\n",
       "max        7.900000     4.400000      6.900000     2.500000"
      ]
     },
     "execution_count": 86,
     "metadata": {},
     "output_type": "execute_result"
    }
   ],
   "source": [
    "iris_data.describe()"
   ]
  },
  {
   "cell_type": "code",
   "execution_count": 88,
   "metadata": {
    "ExecuteTime": {
     "end_time": "2020-04-10T08:42:48.791813Z",
     "start_time": "2020-04-10T08:42:48.777046Z"
    }
   },
   "outputs": [
    {
     "data": {
      "text/plain": [
       "sepal_length    5.843333\n",
       "sepal_width     3.057333\n",
       "petal_length    3.758000\n",
       "petal_width     1.199333\n",
       "dtype: float64"
      ]
     },
     "execution_count": 88,
     "metadata": {},
     "output_type": "execute_result"
    }
   ],
   "source": [
    "iris_data.mean(axis=0)"
   ]
  },
  {
   "cell_type": "code",
   "execution_count": 89,
   "metadata": {
    "ExecuteTime": {
     "end_time": "2020-04-10T08:42:48.808801Z",
     "start_time": "2020-04-10T08:42:48.793317Z"
    }
   },
   "outputs": [
    {
     "data": {
      "text/plain": [
       "sepal_length    0.828066\n",
       "sepal_width     0.435866\n",
       "petal_length    1.765298\n",
       "petal_width     0.762238\n",
       "dtype: float64"
      ]
     },
     "execution_count": 89,
     "metadata": {},
     "output_type": "execute_result"
    }
   ],
   "source": [
    "iris_data.std(axis=0)"
   ]
  },
  {
   "cell_type": "code",
   "execution_count": 90,
   "metadata": {
    "ExecuteTime": {
     "end_time": "2020-04-10T08:42:48.822355Z",
     "start_time": "2020-04-10T08:42:48.810219Z"
    }
   },
   "outputs": [
    {
     "data": {
      "text/plain": [
       "5.843333333333335"
      ]
     },
     "execution_count": 90,
     "metadata": {},
     "output_type": "execute_result"
    }
   ],
   "source": [
    "iris_data['sepal_length'].mean()"
   ]
  },
  {
   "cell_type": "code",
   "execution_count": 91,
   "metadata": {
    "ExecuteTime": {
     "end_time": "2020-04-10T08:42:49.041104Z",
     "start_time": "2020-04-10T08:42:48.824277Z"
    }
   },
   "outputs": [
    {
     "data": {
      "text/plain": [
       "<AxesSubplot:ylabel='Frequency'>"
      ]
     },
     "execution_count": 91,
     "metadata": {},
     "output_type": "execute_result"
    },
    {
     "data": {
      "image/png": "[encoded data removed]",
      "text/plain": [
       "<Figure size 432x288 with 1 Axes>"
      ]
     },
     "metadata": {
      "needs_background": "light"
     },
     "output_type": "display_data"
    }
   ],
   "source": [
    "normalized_sepal_length = (iris_data['sepal_length'] - iris_data['sepal_length'].mean()) / iris_data['sepal_length'].std()\n",
    "normalized_sepal_length.plot.hist(bins=20)"
   ]
  },
  {
   "cell_type": "code",
   "execution_count": 92,
   "metadata": {
    "ExecuteTime": {
     "end_time": "2020-04-10T08:43:36.947479Z",
     "start_time": "2020-04-10T08:43:36.926319Z"
    }
   },
   "outputs": [
    {
     "data": {
      "text/html": [
       "<div>\n",
       "<style scoped>\n",
       "    .dataframe tbody tr th:only-of-type {\n",
       "        vertical-align: middle;\n",
       "    }\n",
       "\n",
       "    .dataframe tbody tr th {\n",
       "        vertical-align: top;\n",
       "    }\n",
       "\n",
       "    .dataframe thead th {\n",
       "        text-align: right;\n",
       "    }\n",
       "</style>\n",
       "<table border=\"1\" class=\"dataframe\">\n",
       "  <thead>\n",
       "    <tr style=\"text-align: right;\">\n",
       "      <th></th>\n",
       "      <th>sepal_length</th>\n",
       "      <th>sepal_width</th>\n",
       "      <th>petal_length</th>\n",
       "      <th>petal_width</th>\n",
       "    </tr>\n",
       "  </thead>\n",
       "  <tbody>\n",
       "    <tr>\n",
       "      <th>sepal_length</th>\n",
       "      <td>1.000000</td>\n",
       "      <td>-0.076997</td>\n",
       "      <td>0.718516</td>\n",
       "      <td>0.655309</td>\n",
       "    </tr>\n",
       "    <tr>\n",
       "      <th>sepal_width</th>\n",
       "      <td>-0.076997</td>\n",
       "      <td>1.000000</td>\n",
       "      <td>-0.185994</td>\n",
       "      <td>-0.157126</td>\n",
       "    </tr>\n",
       "    <tr>\n",
       "      <th>petal_length</th>\n",
       "      <td>0.718516</td>\n",
       "      <td>-0.185994</td>\n",
       "      <td>1.000000</td>\n",
       "      <td>0.806891</td>\n",
       "    </tr>\n",
       "    <tr>\n",
       "      <th>petal_width</th>\n",
       "      <td>0.655309</td>\n",
       "      <td>-0.157126</td>\n",
       "      <td>0.806891</td>\n",
       "      <td>1.000000</td>\n",
       "    </tr>\n",
       "  </tbody>\n",
       "</table>\n",
       "</div>"
      ],
      "text/plain": [
       "              sepal_length  sepal_width  petal_length  petal_width\n",
       "sepal_length      1.000000    -0.076997      0.718516     0.655309\n",
       "sepal_width      -0.076997     1.000000     -0.185994    -0.157126\n",
       "petal_length      0.718516    -0.185994      1.000000     0.806891\n",
       "petal_width       0.655309    -0.157126      0.806891     1.000000"
      ]
     },
     "execution_count": 92,
     "metadata": {},
     "output_type": "execute_result"
    }
   ],
   "source": [
    "iris_data.corr(method='kendall') # offers kendall's tau, spearman rank, and pearson correlation, plus callable"
   ]
  },
  {
   "cell_type": "code",
   "execution_count": null,
   "metadata": {},
   "outputs": [],
   "source": []
  }
 ],
 "metadata": {
  "kernelspec": {
   "display_name": "Python 3",
   "language": "python",
   "name": "python3"
  },
  "language_info": {
   "codemirror_mode": {
    "name": "ipython",
    "version": 3
   },
   "file_extension": ".py",
   "mimetype": "text/x-python",
   "name": "python",
   "nbconvert_exporter": "python",
   "pygments_lexer": "ipython3",
   "version": "3.7.6"
  },
  "toc": {
   "base_numbering": 1,
   "nav_menu": {},
   "number_sections": true,
   "sideBar": true,
   "skip_h1_title": false,
   "title_cell": "Table of Contents",
   "title_sidebar": "Contents",
   "toc_cell": true,
   "toc_position": {},
   "toc_section_display": true,
   "toc_window_display": false
  },
  "varInspector": {
   "cols": {
    "lenName": 16,
    "lenType": 16,
    "lenVar": 40
   },
   "kernels_config": {
    "python": {
     "delete_cmd_postfix": "",
     "delete_cmd_prefix": "del ",
     "library": "var_list.py",
     "varRefreshCmd": "print(var_dic_list())"
    },
    "r": {
     "delete_cmd_postfix": ") ",
     "delete_cmd_prefix": "rm(",
     "library": "var_list.r",
     "varRefreshCmd": "cat(var_dic_list()) "
    }
   },
   "types_to_exclude": [
    "module",
    "function",
    "builtin_function_or_method",
    "instance",
    "_Feature"
   ],
   "window_display": false
  }
 },
 "nbformat": 4,
 "nbformat_minor": 2
}
