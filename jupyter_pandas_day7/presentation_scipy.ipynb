{
 "cells": [
  {
   "cell_type": "markdown",
   "metadata": {
    "toc": true
   },
   "source": [
    "<h1>Table of Contents<span class=\"tocSkip\"></span></h1>\n",
    "<div class=\"toc\"><ul class=\"toc-item\"><li><span><a href=\"#Quantiles\" data-toc-modified-id=\"Quantiles-1\"><span class=\"toc-item-num\">1&nbsp;&nbsp;</span>Quantiles</a></span></li><li><span><a href=\"#Chi-Square\" data-toc-modified-id=\"Chi-Square-2\"><span class=\"toc-item-num\">2&nbsp;&nbsp;</span>Chi-Square</a></span></li><li><span><a href=\"#T-Test\" data-toc-modified-id=\"T-Test-3\"><span class=\"toc-item-num\">3&nbsp;&nbsp;</span>T-Test</a></span></li><li><span><a href=\"#Z-score\" data-toc-modified-id=\"Z-score-4\"><span class=\"toc-item-num\">4&nbsp;&nbsp;</span>Z-score</a></span></li></ul></div>"
   ]
  },
  {
   "cell_type": "code",
   "execution_count": null,
   "metadata": {
    "ExecuteTime": {
     "end_time": "2020-04-11T18:43:58.652090Z",
     "start_time": "2020-04-11T18:43:57.977586Z"
    }
   },
   "outputs": [],
   "source": [
    "import pandas as pd\n",
    "from pathlib import Path"
   ]
  },
  {
   "cell_type": "code",
   "execution_count": null,
   "metadata": {
    "ExecuteTime": {
     "end_time": "2020-04-11T18:43:58.664838Z",
     "start_time": "2020-04-11T18:43:58.653877Z"
    }
   },
   "outputs": [],
   "source": [
    "iris_data = pd.read_csv(Path(\"../datasets/iris.csv\"), index_col=0)\n",
    "tips_data = pd.read_csv(Path(\"../datasets/tips.csv\"), index_col=0)"
   ]
  },
  {
   "cell_type": "code",
   "execution_count": null,
   "metadata": {
    "ExecuteTime": {
     "end_time": "2020-04-11T18:43:59.147346Z",
     "start_time": "2020-04-11T18:43:58.666607Z"
    }
   },
   "outputs": [],
   "source": [
    "from scipy.stats import ttest_rel, ttest_ind, chi2_contingency, zscore\n",
    "from numpy import quantile"
   ]
  },
  {
   "cell_type": "code",
   "execution_count": null,
   "metadata": {
    "ExecuteTime": {
     "end_time": "2020-04-11T18:43:59.185405Z",
     "start_time": "2020-04-11T18:43:59.149466Z"
    }
   },
   "outputs": [],
   "source": [
    "tips_data.head()"
   ]
  },
  {
   "cell_type": "code",
   "execution_count": null,
   "metadata": {
    "ExecuteTime": {
     "end_time": "2020-04-11T18:43:59.196777Z",
     "start_time": "2020-04-11T18:43:59.189043Z"
    }
   },
   "outputs": [],
   "source": [
    "smoker_male = tips_data[tips_data.sex == 'Male'].smoker.values\n",
    "smoker_female = tips_data[tips_data.sex == 'Female'].smoker.values"
   ]
  },
  {
   "cell_type": "code",
   "execution_count": null,
   "metadata": {},
   "outputs": [],
   "source": [
    "smoker_male"
   ]
  },
  {
   "cell_type": "code",
   "execution_count": null,
   "metadata": {},
   "outputs": [],
   "source": [
    "type(smoker_male)"
   ]
  },
  {
   "cell_type": "markdown",
   "metadata": {},
   "source": [
    "# Quantiles"
   ]
  },
  {
   "cell_type": "code",
   "execution_count": null,
   "metadata": {
    "ExecuteTime": {
     "end_time": "2020-04-11T18:43:59.212169Z",
     "start_time": "2020-04-11T18:43:59.200023Z"
    }
   },
   "outputs": [],
   "source": [
    "print(quantile(tips_data.total_bill, .25))\n",
    "print(quantile(tips_data.total_bill, .5) == tips_data.total_bill.median()) \n",
    "print(quantile(tips_data.total_bill, .75))"
   ]
  },
  {
   "cell_type": "markdown",
   "metadata": {},
   "source": [
    "# Chi-Square"
   ]
  },
  {
   "cell_type": "code",
   "execution_count": null,
   "metadata": {
    "ExecuteTime": {
     "end_time": "2020-04-11T18:43:59.249009Z",
     "start_time": "2020-04-11T18:43:59.214732Z"
    }
   },
   "outputs": [],
   "source": [
    "bill_sex_smoker = tips_data.groupby(['sex', 'smoker']).total_bill.count()\n",
    "bill_sex_smoker = bill_sex_smoker.reset_index().pivot(index='sex', columns='smoker')\n",
    "bill_sex_smoker"
   ]
  },
  {
   "cell_type": "code",
   "execution_count": null,
   "metadata": {
    "ExecuteTime": {
     "end_time": "2020-04-11T18:43:59.258180Z",
     "start_time": "2020-04-11T18:43:59.250818Z"
    }
   },
   "outputs": [],
   "source": [
    "chi2_contingency(bill_sex_smoker) # chi2, p-Val, DoF, expected"
   ]
  },
  {
   "cell_type": "markdown",
   "metadata": {
    "ExecuteTime": {
     "end_time": "2020-04-10T10:03:55.585387Z",
     "start_time": "2020-04-10T10:03:55.579739Z"
    }
   },
   "source": [
    "# T-Test"
   ]
  },
  {
   "cell_type": "code",
   "execution_count": null,
   "metadata": {
    "ExecuteTime": {
     "end_time": "2020-04-11T18:43:59.269991Z",
     "start_time": "2020-04-11T18:43:59.260561Z"
    },
    "scrolled": true
   },
   "outputs": [],
   "source": [
    "tips_sex = tips_data.groupby('sex').tip\n",
    "# unpaired parametric\n",
    "print(ttest_ind(tips_sex.get_group('Male'), tips_sex.get_group('Female'), equal_var=True))\n",
    "# unpaired non-parametric: Welch's\n",
    "print(ttest_ind(tips_sex.get_group('Male'), tips_sex.get_group('Female'), equal_var=False))"
   ]
  },
  {
   "cell_type": "markdown",
   "metadata": {},
   "source": [
    "# Z-score"
   ]
  },
  {
   "cell_type": "code",
   "execution_count": null,
   "metadata": {
    "ExecuteTime": {
     "end_time": "2020-04-11T18:43:59.717427Z",
     "start_time": "2020-04-11T18:43:59.271747Z"
    }
   },
   "outputs": [],
   "source": [
    "tips_data.total_bill.hist()"
   ]
  },
  {
   "cell_type": "code",
   "execution_count": null,
   "metadata": {
    "ExecuteTime": {
     "end_time": "2020-04-11T18:43:59.945245Z",
     "start_time": "2020-04-11T18:43:59.719883Z"
    }
   },
   "outputs": [],
   "source": [
    "pd.Series(zscore(tips_data.total_bill)).hist()"
   ]
  },
  {
   "cell_type": "code",
   "execution_count": null,
   "metadata": {},
   "outputs": [],
   "source": []
  }
 ],
 "metadata": {
  "kernelspec": {
   "display_name": "Python 3",
   "language": "python",
   "name": "python3"
  },
  "language_info": {
   "codemirror_mode": {
    "name": "ipython",
    "version": 3
   },
   "file_extension": ".py",
   "mimetype": "text/x-python",
   "name": "python",
   "nbconvert_exporter": "python",
   "pygments_lexer": "ipython3",
   "version": "3.7.6"
  },
  "toc": {
   "base_numbering": 1,
   "nav_menu": {},
   "number_sections": true,
   "sideBar": true,
   "skip_h1_title": false,
   "title_cell": "Table of Contents",
   "title_sidebar": "Contents",
   "toc_cell": true,
   "toc_position": {},
   "toc_section_display": true,
   "toc_window_display": false
  },
  "varInspector": {
   "cols": {
    "lenName": 16,
    "lenType": 16,
    "lenVar": 40
   },
   "kernels_config": {
    "python": {
     "delete_cmd_postfix": "",
     "delete_cmd_prefix": "del ",
     "library": "var_list.py",
     "varRefreshCmd": "print(var_dic_list())"
    },
    "r": {
     "delete_cmd_postfix": ") ",
     "delete_cmd_prefix": "rm(",
     "library": "var_list.r",
     "varRefreshCmd": "cat(var_dic_list()) "
    }
   },
   "types_to_exclude": [
    "module",
    "function",
    "builtin_function_or_method",
    "instance",
    "_Feature"
   ],
   "window_display": false
  }
 },
 "nbformat": 4,
 "nbformat_minor": 2
}
