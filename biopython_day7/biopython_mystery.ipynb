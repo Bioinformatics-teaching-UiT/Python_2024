{
 "cells": [
  {
   "cell_type": "markdown",
   "metadata": {
    "toc": true
   },
   "source": [
    "<h1>Table of Contents<span class=\"tocSkip\"></span></h1>\n",
    "<div class=\"toc\"><ul class=\"toc-item\"><li><span><a href=\"#Setup\" data-toc-modified-id=\"Setup-1\"><span class=\"toc-item-num\">1&nbsp;&nbsp;</span>Setup</a></span></li><li><span><a href=\"#Parsing-and-Basics\" data-toc-modified-id=\"Parsing-and-Basics-2\"><span class=\"toc-item-num\">2&nbsp;&nbsp;</span>Parsing and Basics</a></span></li><li><span><a href=\"#Compare-to-other-genome-sequences\" data-toc-modified-id=\"Compare-to-other-genome-sequences-3\"><span class=\"toc-item-num\">3&nbsp;&nbsp;</span>Compare to other genome sequences</a></span></li><li><span><a href=\"#Extract-annotations-on-the-matching-genome-sequence\" data-toc-modified-id=\"Extract-annotations-on-the-matching-genome-sequence-4\"><span class=\"toc-item-num\">4&nbsp;&nbsp;</span>Extract annotations on the matching genome sequence</a></span></li><li><span><a href=\"#Protein-level-analyses\" data-toc-modified-id=\"Protein-level-analyses-5\"><span class=\"toc-item-num\">5&nbsp;&nbsp;</span>Protein level analyses</a></span><ul class=\"toc-item\"><li><span><a href=\"#What's-next?\" data-toc-modified-id=\"What's-next?-5.1\"><span class=\"toc-item-num\">5.1&nbsp;&nbsp;</span>What's next?</a></span></li></ul></li></ul></div>"
   ]
  },
  {
   "cell_type": "markdown",
   "metadata": {},
   "source": [
    "There is an unusual outbreak of diseases in your city. What causes it is unknown, but a sequence has been found in all the patients. Your are tasked with investigating the causes. Luckily, you have just completed a course in Python and are eager to try out what you've learned."
   ]
  },
  {
   "cell_type": "markdown",
   "metadata": {},
   "source": [
    "Fill out the code fields as instructed by the comments. If you need help finding the function's parameter use Jupyter's \"function?\" command or ask Google. Refer to BioPython's readme or google what you need if you're stuck. If all else fails: Ask first your groupmates, then your instructor for help. ;)"
   ]
  },
  {
   "cell_type": "markdown",
   "metadata": {},
   "source": [
    "# Setup"
   ]
  },
  {
   "cell_type": "markdown",
   "metadata": {},
   "source": [
    "You go ahead and import relevant packages from Biopython:"
   ]
  },
  {
   "cell_type": "code",
   "execution_count": 2,
   "metadata": {
    "ExecuteTime": {
     "end_time": "2020-03-30T15:51:51.064473Z",
     "start_time": "2020-03-30T15:51:51.056337Z"
    },
    "scrolled": true
   },
   "outputs": [],
   "source": [
    "import os\n",
    "import sys\n",
    "\n",
    "import Bio\n",
    "from Bio import SeqIO, SearchIO, Entrez, AlignIO\n",
    "from Bio.Seq import Seq\n",
    "from Bio.SeqUtils import gc_fraction\n",
    "from Bio.Blast import NCBIWWW\n",
    "from Bio.Data import CodonTable"
   ]
  },
  {
   "cell_type": "markdown",
   "metadata": {},
   "source": [
    "You then find the fasta file with the unknown sequence. Check out the file size first. If it's small enough, check it out in your editor before you load it into Python."
   ]
  },
  {
   "cell_type": "code",
   "execution_count": 2,
   "metadata": {
    "ExecuteTime": {
     "end_time": "2020-03-30T09:55:01.930955Z",
     "start_time": "2020-03-30T09:55:01.927545Z"
    }
   },
   "outputs": [],
   "source": [
    "input_file = \"unknown-sequence.fa\""
   ]
  },
  {
   "cell_type": "markdown",
   "metadata": {},
   "source": [
    "To get an overview, we display the ID of every sequence in the file:"
   ]
  },
  {
   "cell_type": "code",
   "execution_count": 3,
   "metadata": {
    "ExecuteTime": {
     "end_time": "2020-03-30T09:55:01.961260Z",
     "start_time": "2020-03-30T09:55:01.934332Z"
    },
    "run_control": {
     "marked": false
    }
   },
   "outputs": [
    {
     "name": "stdout",
     "output_type": "stream",
     "text": [
      "Unknown_sequence\n"
     ]
    }
   ],
   "source": [
    "for record in SeqIO.parse(input_file, \"fasta\"):\n",
    "    print(record.id)"
   ]
  },
  {
   "cell_type": "markdown",
   "metadata": {},
   "source": [
    "While this is not terribly helpful, we now know there is only one sequence."
   ]
  },
  {
   "cell_type": "markdown",
   "metadata": {},
   "source": [
    "# Parsing and Basics"
   ]
  },
  {
   "cell_type": "markdown",
   "metadata": {},
   "source": [
    "We start out by parsing the file:"
   ]
  },
  {
   "cell_type": "code",
   "execution_count": 4,
   "metadata": {
    "ExecuteTime": {
     "end_time": "2020-03-30T09:55:01.965298Z",
     "start_time": "2020-03-30T09:55:01.962750Z"
    }
   },
   "outputs": [],
   "source": [
    "# use SeqIO.read to parse the file\n",
    "# file type is \"fasta\""
   ]
  },
  {
   "cell_type": "code",
   "execution_count": 5,
   "metadata": {
    "ExecuteTime": {
     "end_time": "2020-03-30T14:56:40.072661Z",
     "start_time": "2020-03-30T14:56:40.067308Z"
    }
   },
   "outputs": [],
   "source": [
    "# check what the type of the returned object is"
   ]
  },
  {
   "cell_type": "markdown",
   "metadata": {},
   "source": [
    "This yields a Biopython SeqRecord object. See here for more details: https://biopython.org/wiki/SeqRecord"
   ]
  },
  {
   "cell_type": "code",
   "execution_count": 6,
   "metadata": {
    "ExecuteTime": {
     "end_time": "2020-03-31T08:55:13.257731Z",
     "start_time": "2020-03-31T08:55:13.249852Z"
    }
   },
   "outputs": [],
   "source": [
    "# find out the length of the sequence, hint: Python's normal length function works on SeqRecord objects\n",
    "# And take a look at the sequence"
   ]
  },
  {
   "cell_type": "markdown",
   "metadata": {},
   "source": [
    "The sequence length is ~30Kb, if this sequence represents an individual organism then it is very small. Far too small for a typical eukaryote and in fact too short many microbes too (e.g. bacterial genomes are typically Mb). You have a dim feeling what this sequence may be..."
   ]
  },
  {
   "cell_type": "code",
   "execution_count": 7,
   "metadata": {
    "ExecuteTime": {
     "end_time": "2020-03-31T08:57:21.153096Z",
     "start_time": "2020-03-31T08:57:21.149371Z"
    }
   },
   "outputs": [],
   "source": [
    "# find out the GC content of the sequence. Hint: You've imported a function called GC.\n",
    "# Can it be called on the SeqRecord? Or maybe one of its attributes?"
   ]
  },
  {
   "cell_type": "markdown",
   "metadata": {},
   "source": [
    "So the sequence is somewhat AT-rich, but within a 'normal' range."
   ]
  },
  {
   "cell_type": "markdown",
   "metadata": {},
   "source": [
    "# Compare to other genome sequences"
   ]
  },
  {
   "cell_type": "markdown",
   "metadata": {},
   "source": [
    "You decide to run the sequence through Blast to see if you can find any close relatives. This may take ~10 minutes since we are doing an online search against many sequences. But for now it will do and it saves you from downloading the databases. (BioPython can run Blast for you locally as well.)"
   ]
  },
  {
   "cell_type": "code",
   "execution_count": 8,
   "metadata": {
    "ExecuteTime": {
     "end_time": "2020-03-30T10:24:07.844316Z",
     "start_time": "2020-03-30T09:55:02.005331Z"
    }
   },
   "outputs": [],
   "source": [
    "#%%time\n",
    "# query blast using the function NCBIWWWW.qblast\n",
    "# think about and discuss which blast and which database to use first\n",
    "# make doubly sure to use the correct parameters as mistakes cost time\n",
    "#result_handle = NCBIWWW.qblast('blastn', 'nt', record.seq)"
   ]
  },
  {
   "cell_type": "markdown",
   "metadata": {},
   "source": [
    "That took long enough... You're eager to check out the results. Luckily, BioPython can also handle the parsing for you:"
   ]
  },
  {
   "cell_type": "code",
   "execution_count": 9,
   "metadata": {
    "ExecuteTime": {
     "end_time": "2020-03-30T10:24:07.892230Z",
     "start_time": "2020-03-30T10:24:07.845999Z"
    }
   },
   "outputs": [],
   "source": [
    "# now we parse the blast results using BioPython's SearchIO.read\n",
    "# the standard format for the result is blast-xml"
   ]
  },
  {
   "cell_type": "markdown",
   "metadata": {},
   "source": [
    "Those descriptions are truncated, let's view them in full, for just the first 5 records"
   ]
  },
  {
   "cell_type": "code",
   "execution_count": 10,
   "metadata": {
    "ExecuteTime": {
     "end_time": "2020-03-31T09:04:17.026806Z",
     "start_time": "2020-03-31T09:04:17.013477Z"
    }
   },
   "outputs": [],
   "source": [
    "# blast_qresult is an iterable. iterate over the first 5 of its elements and print element.description"
   ]
  },
  {
   "cell_type": "markdown",
   "metadata": {},
   "source": [
    "Without doing any quantitative analyses, it already seems very likely we have a coronavirus genome here, specifically SARS2-CoV-2 that was the cause of the COVID19 pandemic!"
   ]
  },
  {
   "cell_type": "markdown",
   "metadata": {},
   "source": [
    "Let's have a look at the first result in a bit more detail to check some of the alignment metrics"
   ]
  },
  {
   "cell_type": "code",
   "execution_count": 11,
   "metadata": {
    "ExecuteTime": {
     "end_time": "2020-03-31T09:07:49.814175Z",
     "start_time": "2020-03-31T09:07:49.807916Z"
    }
   },
   "outputs": [],
   "source": [
    "# What kind of object is first_hit? Can you find any information on it?"
   ]
  },
  {
   "cell_type": "code",
   "execution_count": 12,
   "metadata": {
    "ExecuteTime": {
     "end_time": "2020-03-31T09:10:41.951226Z",
     "start_time": "2020-03-31T09:10:41.940704Z"
    }
   },
   "outputs": [],
   "source": [
    "# extract the first hsp from the hit\n",
    "\n",
    "# Find the e-Value associated with that HSP"
   ]
  },
  {
   "cell_type": "code",
   "execution_count": 13,
   "metadata": {
    "ExecuteTime": {
     "end_time": "2020-03-30T10:24:07.949991Z",
     "start_time": "2020-03-30T10:24:07.941799Z"
    }
   },
   "outputs": [],
   "source": [
    "# print the alignment. hint: it's an attribute of first_hsp"
   ]
  },
  {
   "cell_type": "markdown",
   "metadata": {},
   "source": [
    "Let's save the alignment to have a better look at it and for future reference:"
   ]
  },
  {
   "cell_type": "code",
   "execution_count": 14,
   "metadata": {
    "ExecuteTime": {
     "end_time": "2020-03-31T09:13:34.358671Z",
     "start_time": "2020-03-31T09:13:34.355480Z"
    }
   },
   "outputs": [],
   "source": [
    "# write the alignment to file using AlignIO.write, use the \"clustal\" format"
   ]
  },
  {
   "cell_type": "markdown",
   "metadata": {},
   "source": [
    "# Extract annotations on the matching genome sequence"
   ]
  },
  {
   "cell_type": "markdown",
   "metadata": {},
   "source": [
    "Let's extract a bit more structured meta-data on the top matching sequence homologous sequence using NCBI Entrez via Biopython to extract a GenBank file"
   ]
  },
  {
   "cell_type": "code",
   "execution_count": 15,
   "metadata": {
    "ExecuteTime": {
     "end_time": "2020-03-30T10:24:07.970282Z",
     "start_time": "2020-03-30T10:24:07.961602Z"
    }
   },
   "outputs": [],
   "source": [
    "# the NCBI ID is the fourht element in the string. Can you extract just that?"
   ]
  },
  {
   "cell_type": "code",
   "execution_count": 16,
   "metadata": {
    "ExecuteTime": {
     "end_time": "2020-03-30T10:24:07.980547Z",
     "start_time": "2020-03-30T10:24:07.971607Z"
    }
   },
   "outputs": [],
   "source": [
    "# tell NCBI who you are; promise there's no spam mails"
   ]
  },
  {
   "cell_type": "code",
   "execution_count": 17,
   "metadata": {
    "ExecuteTime": {
     "end_time": "2020-03-30T10:24:08.999119Z",
     "start_time": "2020-03-30T10:24:07.982190Z"
    }
   },
   "outputs": [],
   "source": [
    "# use the Entrez.efetch function to extract the information for the Gene ID\n",
    "# for the params, use retmode=\"text\" and rettype=\"gb\""
   ]
  },
  {
   "cell_type": "code",
   "execution_count": 18,
   "metadata": {
    "ExecuteTime": {
     "end_time": "2020-03-30T10:24:09.317847Z",
     "start_time": "2020-03-30T10:24:09.007990Z"
    }
   },
   "outputs": [],
   "source": [
    "# read in the handle using SeqIO.read, the format is \"genbank\""
   ]
  },
  {
   "cell_type": "markdown",
   "metadata": {},
   "source": [
    "There's a lot of information in the genbank record if you know where to find it..."
   ]
  },
  {
   "cell_type": "markdown",
   "metadata": {},
   "source": [
    "First you decide to double-check whether the virus has single- or double-stranded DNA or RNA:"
   ]
  },
  {
   "cell_type": "code",
   "execution_count": 19,
   "metadata": {
    "ExecuteTime": {
     "end_time": "2020-03-30T10:24:09.342500Z",
     "start_time": "2020-03-30T10:24:09.334959Z"
    },
    "scrolled": true
   },
   "outputs": [],
   "source": [
    "# Check in the genbank_record whether the Sequence is ss or ds, RNA or DNA"
   ]
  },
  {
   "cell_type": "markdown",
   "metadata": {},
   "source": [
    "That's odd. Your original sample was DNA. Any idea why?"
   ]
  },
  {
   "cell_type": "markdown",
   "metadata": {},
   "source": [
    "You decide to investigate the Virus's full taxonomy:"
   ]
  },
  {
   "cell_type": "code",
   "execution_count": 20,
   "metadata": {
    "ExecuteTime": {
     "end_time": "2020-03-30T15:59:54.345297Z",
     "start_time": "2020-03-30T15:59:54.342366Z"
    },
    "scrolled": true
   },
   "outputs": [],
   "source": [
    "# check in the annotations again"
   ]
  },
  {
   "cell_type": "markdown",
   "metadata": {},
   "source": [
    "Lastly, you're curious who you have to thank for all this data:"
   ]
  },
  {
   "cell_type": "code",
   "execution_count": 21,
   "metadata": {
    "ExecuteTime": {
     "end_time": "2020-03-30T10:24:09.365327Z",
     "start_time": "2020-03-30T10:24:09.358385Z"
    }
   },
   "outputs": [],
   "source": [
    "# Check which publications all this data came from"
   ]
  },
  {
   "cell_type": "markdown",
   "metadata": {},
   "source": [
    "That should be more than enough information for a bit."
   ]
  },
  {
   "cell_type": "markdown",
   "metadata": {},
   "source": [
    "Note that from this id, we could also find the [record here](https://www.ncbi.nlm.nih.gov/nuccore/NC_045512.2/) on the NCBI website."
   ]
  },
  {
   "cell_type": "markdown",
   "metadata": {},
   "source": [
    "# Protein level analyses"
   ]
  },
  {
   "cell_type": "markdown",
   "metadata": {},
   "source": [
    "You're also interested in the gene/protein sequences, not just the entire genome. Luckily for you, BioPython makes it easy to retrieve the protein coding sequences (CDSs) from the Genbank record:"
   ]
  },
  {
   "cell_type": "code",
   "execution_count": 22,
   "metadata": {
    "ExecuteTime": {
     "end_time": "2020-03-30T16:04:09.771026Z",
     "start_time": "2020-03-30T16:04:09.761724Z"
    },
    "scrolled": true
   },
   "outputs": [],
   "source": [
    "#check how many and which \"features\" the genbank record contains, hint: p"
   ]
  },
  {
   "cell_type": "code",
   "execution_count": 23,
   "metadata": {
    "ExecuteTime": {
     "end_time": "2020-03-30T10:24:09.384779Z",
     "start_time": "2020-03-30T10:24:09.377471Z"
    }
   },
   "outputs": [],
   "source": [
    "# each feature has a type attribute. check what they are for each feature"
   ]
  },
  {
   "cell_type": "markdown",
   "metadata": {},
   "source": [
    "You extract the coding sequences to have a closer look at them:"
   ]
  },
  {
   "cell_type": "code",
   "execution_count": 24,
   "metadata": {
    "ExecuteTime": {
     "end_time": "2020-03-30T10:24:09.395081Z",
     "start_time": "2020-03-30T10:24:09.386002Z"
    }
   },
   "outputs": [
    {
     "ename": "SyntaxError",
     "evalue": "invalid syntax (3454461501.py, line 1)",
     "output_type": "error",
     "traceback": [
      "\u001b[0;36m  Input \u001b[0;32mIn [24]\u001b[0;36m\u001b[0m\n\u001b[0;31m    CDSs = # extract all features that are coding sequences (CDS)\u001b[0m\n\u001b[0m           ^\u001b[0m\n\u001b[0;31mSyntaxError\u001b[0m\u001b[0;31m:\u001b[0m invalid syntax\n"
     ]
    }
   ],
   "source": [
    "CDSs = # extract all features that are coding sequences (CDS)\n",
    "# how many CDSs have been found?"
   ]
  },
  {
   "cell_type": "markdown",
   "metadata": {},
   "source": [
    "You check out the first protein in detail and extract the underlying sequence:"
   ]
  },
  {
   "cell_type": "code",
   "execution_count": null,
   "metadata": {
    "ExecuteTime": {
     "end_time": "2020-03-30T10:24:09.404682Z",
     "start_time": "2020-03-30T10:24:09.396385Z"
    }
   },
   "outputs": [],
   "source": [
    "# print the \"gene\" qualifier for every CDS"
   ]
  },
  {
   "cell_type": "code",
   "execution_count": null,
   "metadata": {
    "ExecuteTime": {
     "end_time": "2020-03-30T16:05:49.537550Z",
     "start_time": "2020-03-30T16:05:49.534000Z"
    }
   },
   "outputs": [],
   "source": [
    "# how many peptides does the sequence translate to? see qualifier \"translation\"\n",
    "# select the first protein translation\n",
    "# make the string into a BioPython Sequence object"
   ]
  },
  {
   "cell_type": "markdown",
   "metadata": {},
   "source": [
    "Refer to https://biopython.org/wiki/Seq for details of the Seq object."
   ]
  },
  {
   "cell_type": "markdown",
   "metadata": {},
   "source": [
    "The sequence should begin with a start codon, right?"
   ]
  },
  {
   "cell_type": "markdown",
   "metadata": {},
   "source": [
    "First, you look up possible starting amino acids."
   ]
  },
  {
   "cell_type": "markdown",
   "metadata": {},
   "source": [
    "In case you needed a refresher on the codon table:"
   ]
  },
  {
   "cell_type": "code",
   "execution_count": null,
   "metadata": {
    "ExecuteTime": {
     "end_time": "2020-03-30T16:06:49.035809Z",
     "start_time": "2020-03-30T16:06:49.027926Z"
    }
   },
   "outputs": [],
   "source": [
    "# Find if the sequence starts with a fitting amino acid"
   ]
  },
  {
   "cell_type": "markdown",
   "metadata": {},
   "source": [
    "However, we can't perform an exact \"reverse translation\" of course, since several amino acids are produced by the same codon. Note that if instead we started with the nucleotide sequence, then we could use Biopython's `.transcribe()` and `.translate()` functions to convert sequences from DNA to RNA and DNA to protein respectively."
   ]
  },
  {
   "cell_type": "markdown",
   "metadata": {},
   "source": [
    "In any case, whe can get the sequence length in amino acids:"
   ]
  },
  {
   "cell_type": "code",
   "execution_count": null,
   "metadata": {
    "ExecuteTime": {
     "end_time": "2020-03-30T16:08:45.387509Z",
     "start_time": "2020-03-30T16:08:45.380396Z"
    }
   },
   "outputs": [],
   "source": [
    "# get the sequence length in amino acids"
   ]
  },
  {
   "cell_type": "markdown",
   "metadata": {},
   "source": [
    "That's quite a long protein for a virus. You decide to check the annotation:"
   ]
  },
  {
   "cell_type": "code",
   "execution_count": null,
   "metadata": {
    "ExecuteTime": {
     "end_time": "2020-03-30T10:24:09.469173Z",
     "start_time": "2020-03-30T10:24:09.456749Z"
    }
   },
   "outputs": [],
   "source": [
    "# check the \"product\" qualifier in the CDS attributes"
   ]
  },
  {
   "cell_type": "markdown",
   "metadata": {},
   "source": [
    "So it looks like this is a polyprotein, which explains why it is a relatively long protein. Polyproteins are a typical feature of some viral genomes where smaller proteins are joined together, providing a particular organization of the viral proteome."
   ]
  },
  {
   "cell_type": "markdown",
   "metadata": {},
   "source": [
    "## What's next?"
   ]
  },
  {
   "cell_type": "markdown",
   "metadata": {},
   "source": [
    "Logical next steps at the genome level might include building a multiple sequence alignment from many cornavirus genomes (checkout the Biopython wrapers/parsers for `Clustal` and `Mafft` and `Bio.Align`/`Bio.parirwise2` plus `Bio.AlignIO`), building a phylogeny with an external tool like [iq-tree](http://www.iqtree.org/) and then viewing the tree with `Bio.Phylo`, the [ete3 toolkit](http://etetoolkit.org/), or [Jalview](https://www.jalview.org/).\n",
    "\n",
    "Other protein level analyses could involve including building protein trees, annotating the proteins and vizulisation (e.g. `Bio.Graphics`), doing evolutionary rate analyses (e.g. `Bio.Phylo.PAML `), looking at protein structure, clustering and much more.\n",
    "\n",
    "These kind of analyses can provide useful biological and epidemiological information, very important for this coronavirus in an outbreak situation. For example, allowing tracking of how the outbreak spreads and indicating appropriate infection control measures, although caution in the interpretation of results is always required. See [Nextstrain](https://nextstrain.org/ncov) for an excellent resource of this kind."
   ]
  },
  {
   "cell_type": "markdown",
   "metadata": {},
   "source": [
    "Note, there is tons of other functionality in Biopython, this is just a very small fraction of the modules, see [Peter Cock's Biopython workshop](https://github.com/peterjc/biopython_workshop) and the extensive [official tutorial documentation](http://biopython.org/DIST/docs/tutorial/Tutorial.html)."
   ]
  }
 ],
 "metadata": {
  "anaconda-cloud": {},
  "kernelspec": {
   "display_name": "Python 3 (ipykernel)",
   "language": "python",
   "name": "python3"
  },
  "language_info": {
   "codemirror_mode": {
    "name": "ipython",
    "version": 3
   },
   "file_extension": ".py",
   "mimetype": "text/x-python",
   "name": "python",
   "nbconvert_exporter": "python",
   "pygments_lexer": "ipython3",
   "version": "3.11.3"
  },
  "toc": {
   "base_numbering": 1,
   "nav_menu": {},
   "number_sections": true,
   "sideBar": true,
   "skip_h1_title": false,
   "title_cell": "Table of Contents",
   "title_sidebar": "Contents",
   "toc_cell": true,
   "toc_position": {},
   "toc_section_display": true,
   "toc_window_display": false
  },
  "varInspector": {
   "cols": {
    "lenName": 16,
    "lenType": 16,
    "lenVar": 40
   },
   "kernels_config": {
    "python": {
     "delete_cmd_postfix": "",
     "delete_cmd_prefix": "del ",
     "library": "var_list.py",
     "varRefreshCmd": "print(var_dic_list())"
    },
    "r": {
     "delete_cmd_postfix": ") ",
     "delete_cmd_prefix": "rm(",
     "library": "var_list.r",
     "varRefreshCmd": "cat(var_dic_list()) "
    }
   },
   "types_to_exclude": [
    "module",
    "function",
    "builtin_function_or_method",
    "instance",
    "_Feature"
   ],
   "window_display": false
  }
 },
 "nbformat": 4,
 "nbformat_minor": 4
}
